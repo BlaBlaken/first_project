{
 "cells": [
  {
   "cell_type": "markdown",
   "metadata": {
    "toc": true
   },
   "source": [
    "<h1>Содержание<span class=\"tocSkip\"></span></h1>\n",
    "<div class=\"toc\"><ul class=\"toc-item\"><li><span><a href=\"#Подготовка-данных\" data-toc-modified-id=\"Подготовка-данных-1\"><span class=\"toc-item-num\">1&nbsp;&nbsp;</span>Подготовка данных</a></span></li><li><span><a href=\"#Исследование-задачи\" data-toc-modified-id=\"Исследование-задачи-2\"><span class=\"toc-item-num\">2&nbsp;&nbsp;</span>Исследование задачи</a></span></li><li><span><a href=\"#Борьба-с-дисбалансом\" data-toc-modified-id=\"Борьба-с-дисбалансом-3\"><span class=\"toc-item-num\">3&nbsp;&nbsp;</span>Борьба с дисбалансом</a></span><ul class=\"toc-item\"><li><span><a href=\"#Logistic-Regression\" data-toc-modified-id=\"Logistic-Regression-3.1\"><span class=\"toc-item-num\">3.1&nbsp;&nbsp;</span>Logistic Regression</a></span></li><li><span><a href=\"#DecisionTreeClassifier\" data-toc-modified-id=\"DecisionTreeClassifier-3.2\"><span class=\"toc-item-num\">3.2&nbsp;&nbsp;</span>DecisionTreeClassifier</a></span><ul class=\"toc-item\"><li><span><a href=\"#Предендент-на-лучшую-модель\" data-toc-modified-id=\"Предендент-на-лучшую-модель-3.2.1\"><span class=\"toc-item-num\">3.2.1&nbsp;&nbsp;</span>Предендент на лучшую модель</a></span></li></ul></li></ul></li><li><span><a href=\"#Тестирование-модели\" data-toc-modified-id=\"Тестирование-модели-4\"><span class=\"toc-item-num\">4&nbsp;&nbsp;</span>Тестирование модели</a></span><ul class=\"toc-item\"><li><span><a href=\"#DecisionTreeClassifier\" data-toc-modified-id=\"DecisionTreeClassifier-4.1\"><span class=\"toc-item-num\">4.1&nbsp;&nbsp;</span>DecisionTreeClassifier</a></span><ul class=\"toc-item\"><li><span><a href=\"#Результат\" data-toc-modified-id=\"Результат-4.1.1\"><span class=\"toc-item-num\">4.1.1&nbsp;&nbsp;</span>Результат</a></span></li></ul></li></ul></li><li><span><a href=\"#Чек-лист-готовности-проекта\" data-toc-modified-id=\"Чек-лист-готовности-проекта-5\"><span class=\"toc-item-num\">5&nbsp;&nbsp;</span>Чек-лист готовности проекта</a></span></li></ul></div>"
   ]
  },
  {
   "cell_type": "markdown",
   "metadata": {},
   "source": [
    "# Отток клиентов"
   ]
  },
  {
   "cell_type": "markdown",
   "metadata": {},
   "source": [
    "Из «Бета-Банка» стали уходить клиенты. Каждый месяц. Немного, но заметно. Банковские маркетологи посчитали: сохранять текущих клиентов дешевле, чем привлекать новых.\n",
    "\n",
    "Нужно спрогнозировать, уйдёт клиент из банка в ближайшее время или нет. Вам предоставлены исторические данные о поведении клиентов и расторжении договоров с банком. \n",
    "\n",
    "Постройте модель с предельно большим значением *F1*-меры. Чтобы сдать проект успешно, нужно довести метрику до 0.59. Проверьте *F1*-меру на тестовой выборке самостоятельно.\n",
    "\n",
    "Дополнительно измеряйте *AUC-ROC*, сравнивайте её значение с *F1*-мерой.\n",
    "\n",
    "Источник данных: [https://www.kaggle.com/barelydedicated/bank-customer-churn-modeling](https://www.kaggle.com/barelydedicated/bank-customer-churn-modeling)"
   ]
  },
  {
   "cell_type": "code",
   "execution_count": 1,
   "metadata": {},
   "outputs": [],
   "source": [
    "import pandas as pd\n",
    "import numpy as np\n",
    "\n",
    "from sklearn.model_selection import train_test_split\n",
    "from sklearn.linear_model import LogisticRegression\n",
    "from sklearn.tree import DecisionTreeClassifier\n",
    "from sklearn.ensemble import RandomForestClassifier\n",
    "\n",
    "from sklearn.preprocessing import StandardScaler \n",
    "from sklearn.metrics import accuracy_score\n",
    "from sklearn.metrics import confusion_matrix\n",
    "from sklearn.metrics import recall_score\n",
    "from sklearn.metrics import precision_score\n",
    "from sklearn.metrics import f1_score \n",
    "from sklearn.utils import shuffle\n",
    "from sklearn.metrics import roc_auc_score\n",
    "from sklearn.metrics import roc_curve \n",
    "\n",
    "\n",
    "import matplotlib.pyplot as plt\n",
    "import seaborn as sns"
   ]
  },
  {
   "cell_type": "markdown",
   "metadata": {},
   "source": [
    "## Подготовка данных"
   ]
  },
  {
   "cell_type": "code",
   "execution_count": 4,
   "metadata": {},
   "outputs": [],
   "source": [
    "data = pd.read_csv('/Users/glebkomissarov/Downloads/Churn.csv')"
   ]
  },
  {
   "cell_type": "code",
   "execution_count": 5,
   "metadata": {},
   "outputs": [
    {
     "name": "stdout",
     "output_type": "stream",
     "text": [
      "(10000, 14)\n"
     ]
    },
    {
     "data": {
      "text/html": [
       "<div>\n",
       "<style scoped>\n",
       "    .dataframe tbody tr th:only-of-type {\n",
       "        vertical-align: middle;\n",
       "    }\n",
       "\n",
       "    .dataframe tbody tr th {\n",
       "        vertical-align: top;\n",
       "    }\n",
       "\n",
       "    .dataframe thead th {\n",
       "        text-align: right;\n",
       "    }\n",
       "</style>\n",
       "<table border=\"1\" class=\"dataframe\">\n",
       "  <thead>\n",
       "    <tr style=\"text-align: right;\">\n",
       "      <th></th>\n",
       "      <th>RowNumber</th>\n",
       "      <th>CustomerId</th>\n",
       "      <th>Surname</th>\n",
       "      <th>CreditScore</th>\n",
       "      <th>Geography</th>\n",
       "      <th>Gender</th>\n",
       "      <th>Age</th>\n",
       "      <th>Tenure</th>\n",
       "      <th>Balance</th>\n",
       "      <th>NumOfProducts</th>\n",
       "      <th>HasCrCard</th>\n",
       "      <th>IsActiveMember</th>\n",
       "      <th>EstimatedSalary</th>\n",
       "      <th>Exited</th>\n",
       "    </tr>\n",
       "  </thead>\n",
       "  <tbody>\n",
       "    <tr>\n",
       "      <th>0</th>\n",
       "      <td>1</td>\n",
       "      <td>15634602</td>\n",
       "      <td>Hargrave</td>\n",
       "      <td>619</td>\n",
       "      <td>France</td>\n",
       "      <td>Female</td>\n",
       "      <td>42</td>\n",
       "      <td>2.0</td>\n",
       "      <td>0.00</td>\n",
       "      <td>1</td>\n",
       "      <td>1</td>\n",
       "      <td>1</td>\n",
       "      <td>101348.88</td>\n",
       "      <td>1</td>\n",
       "    </tr>\n",
       "    <tr>\n",
       "      <th>1</th>\n",
       "      <td>2</td>\n",
       "      <td>15647311</td>\n",
       "      <td>Hill</td>\n",
       "      <td>608</td>\n",
       "      <td>Spain</td>\n",
       "      <td>Female</td>\n",
       "      <td>41</td>\n",
       "      <td>1.0</td>\n",
       "      <td>83807.86</td>\n",
       "      <td>1</td>\n",
       "      <td>0</td>\n",
       "      <td>1</td>\n",
       "      <td>112542.58</td>\n",
       "      <td>0</td>\n",
       "    </tr>\n",
       "    <tr>\n",
       "      <th>2</th>\n",
       "      <td>3</td>\n",
       "      <td>15619304</td>\n",
       "      <td>Onio</td>\n",
       "      <td>502</td>\n",
       "      <td>France</td>\n",
       "      <td>Female</td>\n",
       "      <td>42</td>\n",
       "      <td>8.0</td>\n",
       "      <td>159660.80</td>\n",
       "      <td>3</td>\n",
       "      <td>1</td>\n",
       "      <td>0</td>\n",
       "      <td>113931.57</td>\n",
       "      <td>1</td>\n",
       "    </tr>\n",
       "    <tr>\n",
       "      <th>3</th>\n",
       "      <td>4</td>\n",
       "      <td>15701354</td>\n",
       "      <td>Boni</td>\n",
       "      <td>699</td>\n",
       "      <td>France</td>\n",
       "      <td>Female</td>\n",
       "      <td>39</td>\n",
       "      <td>1.0</td>\n",
       "      <td>0.00</td>\n",
       "      <td>2</td>\n",
       "      <td>0</td>\n",
       "      <td>0</td>\n",
       "      <td>93826.63</td>\n",
       "      <td>0</td>\n",
       "    </tr>\n",
       "    <tr>\n",
       "      <th>4</th>\n",
       "      <td>5</td>\n",
       "      <td>15737888</td>\n",
       "      <td>Mitchell</td>\n",
       "      <td>850</td>\n",
       "      <td>Spain</td>\n",
       "      <td>Female</td>\n",
       "      <td>43</td>\n",
       "      <td>2.0</td>\n",
       "      <td>125510.82</td>\n",
       "      <td>1</td>\n",
       "      <td>1</td>\n",
       "      <td>1</td>\n",
       "      <td>79084.10</td>\n",
       "      <td>0</td>\n",
       "    </tr>\n",
       "  </tbody>\n",
       "</table>\n",
       "</div>"
      ],
      "text/plain": [
       "   RowNumber  CustomerId   Surname  CreditScore Geography  Gender  Age  \\\n",
       "0          1    15634602  Hargrave          619    France  Female   42   \n",
       "1          2    15647311      Hill          608     Spain  Female   41   \n",
       "2          3    15619304      Onio          502    France  Female   42   \n",
       "3          4    15701354      Boni          699    France  Female   39   \n",
       "4          5    15737888  Mitchell          850     Spain  Female   43   \n",
       "\n",
       "   Tenure    Balance  NumOfProducts  HasCrCard  IsActiveMember  \\\n",
       "0     2.0       0.00              1          1               1   \n",
       "1     1.0   83807.86              1          0               1   \n",
       "2     8.0  159660.80              3          1               0   \n",
       "3     1.0       0.00              2          0               0   \n",
       "4     2.0  125510.82              1          1               1   \n",
       "\n",
       "   EstimatedSalary  Exited  \n",
       "0        101348.88       1  \n",
       "1        112542.58       0  \n",
       "2        113931.57       1  \n",
       "3         93826.63       0  \n",
       "4         79084.10       0  "
      ]
     },
     "execution_count": 5,
     "metadata": {},
     "output_type": "execute_result"
    }
   ],
   "source": [
    "print(data.shape)\n",
    "data.head(5)"
   ]
  },
  {
   "cell_type": "markdown",
   "metadata": {},
   "source": [
    "**Имеем 5 категориальных (Geography  , Gender  , HasCrCard  , IsActiveMember, NumOfProducts) и 6 количественных (CreditScore, Age, Tenure, Balance)**\n",
    "\n",
    "**CustomerId и RowNumber вроде нельзя отнести к категориальным и тем более к количественным... Поэтому их можно убрать**"
   ]
  },
  {
   "cell_type": "code",
   "execution_count": 6,
   "metadata": {},
   "outputs": [],
   "source": [
    "data.drop(['CustomerId', 'RowNumber', 'Surname'], axis = 1, inplace = True)"
   ]
  },
  {
   "cell_type": "code",
   "execution_count": 7,
   "metadata": {},
   "outputs": [
    {
     "name": "stdout",
     "output_type": "stream",
     "text": [
      "<class 'pandas.core.frame.DataFrame'>\n",
      "RangeIndex: 10000 entries, 0 to 9999\n",
      "Data columns (total 11 columns):\n",
      " #   Column           Non-Null Count  Dtype  \n",
      "---  ------           --------------  -----  \n",
      " 0   CreditScore      10000 non-null  int64  \n",
      " 1   Geography        10000 non-null  object \n",
      " 2   Gender           10000 non-null  object \n",
      " 3   Age              10000 non-null  int64  \n",
      " 4   Tenure           9091 non-null   float64\n",
      " 5   Balance          10000 non-null  float64\n",
      " 6   NumOfProducts    10000 non-null  int64  \n",
      " 7   HasCrCard        10000 non-null  int64  \n",
      " 8   IsActiveMember   10000 non-null  int64  \n",
      " 9   EstimatedSalary  10000 non-null  float64\n",
      " 10  Exited           10000 non-null  int64  \n",
      "dtypes: float64(3), int64(6), object(2)\n",
      "memory usage: 859.5+ KB\n"
     ]
    }
   ],
   "source": [
    "data.info()"
   ]
  },
  {
   "cell_type": "markdown",
   "metadata": {},
   "source": [
    "**Есть пропуски в поле Tenure (сколько лет, человек является клиентом банка)**"
   ]
  },
  {
   "cell_type": "code",
   "execution_count": 8,
   "metadata": {},
   "outputs": [
    {
     "name": "stdout",
     "output_type": "stream",
     "text": [
      "Geography check\n",
      " France     5014\n",
      "Germany    2509\n",
      "Spain      2477\n",
      "Name: Geography, dtype: int64 \n",
      "\n",
      "\n",
      "Gender check\n",
      " Male      5457\n",
      "Female    4543\n",
      "Name: Gender, dtype: int64 \n",
      "\n",
      "\n",
      "HasCrCard check\n",
      " 1    7055\n",
      "0    2945\n",
      "Name: HasCrCard, dtype: int64 \n",
      "\n",
      "\n",
      "IsActiveMember check\n",
      " 1    5151\n",
      "0    4849\n",
      "Name: IsActiveMember, dtype: int64 \n",
      "\n",
      "\n",
      "NumOfProducts check\n",
      " 1    5084\n",
      "2    4590\n",
      "3     266\n",
      "4      60\n",
      "Name: NumOfProducts, dtype: int64\n"
     ]
    }
   ],
   "source": [
    "print('Geography check\\n', data['Geography'].value_counts(), '\\n\\n')\n",
    "print('Gender check\\n', data['Gender'].value_counts(), '\\n\\n')\n",
    "print('HasCrCard check\\n', data['HasCrCard'].value_counts(), '\\n\\n')\n",
    "print('IsActiveMember check\\n', data['IsActiveMember'].value_counts(), '\\n\\n')\n",
    "print('NumOfProducts check\\n', data['NumOfProducts'].value_counts())"
   ]
  },
  {
   "cell_type": "markdown",
   "metadata": {},
   "source": [
    "**Ни в одном из категориальных атрибутов нет пропусков. Хорошо**\n",
    "\n",
    "**Преобразуем Gender и Geography с помощью get_dummies** "
   ]
  },
  {
   "cell_type": "code",
   "execution_count": 9,
   "metadata": {},
   "outputs": [],
   "source": [
    "data = pd.get_dummies(data, columns=['Geography','Gender'], drop_first=True)"
   ]
  },
  {
   "cell_type": "code",
   "execution_count": 10,
   "metadata": {},
   "outputs": [
    {
     "data": {
      "text/html": [
       "<div>\n",
       "<style scoped>\n",
       "    .dataframe tbody tr th:only-of-type {\n",
       "        vertical-align: middle;\n",
       "    }\n",
       "\n",
       "    .dataframe tbody tr th {\n",
       "        vertical-align: top;\n",
       "    }\n",
       "\n",
       "    .dataframe thead th {\n",
       "        text-align: right;\n",
       "    }\n",
       "</style>\n",
       "<table border=\"1\" class=\"dataframe\">\n",
       "  <thead>\n",
       "    <tr style=\"text-align: right;\">\n",
       "      <th></th>\n",
       "      <th>CreditScore</th>\n",
       "      <th>Age</th>\n",
       "      <th>Tenure</th>\n",
       "      <th>Balance</th>\n",
       "      <th>NumOfProducts</th>\n",
       "      <th>HasCrCard</th>\n",
       "      <th>IsActiveMember</th>\n",
       "      <th>EstimatedSalary</th>\n",
       "      <th>Exited</th>\n",
       "      <th>Geography_Germany</th>\n",
       "      <th>Geography_Spain</th>\n",
       "      <th>Gender_Male</th>\n",
       "    </tr>\n",
       "  </thead>\n",
       "  <tbody>\n",
       "    <tr>\n",
       "      <th>0</th>\n",
       "      <td>619</td>\n",
       "      <td>42</td>\n",
       "      <td>2.0</td>\n",
       "      <td>0.00</td>\n",
       "      <td>1</td>\n",
       "      <td>1</td>\n",
       "      <td>1</td>\n",
       "      <td>101348.88</td>\n",
       "      <td>1</td>\n",
       "      <td>0</td>\n",
       "      <td>0</td>\n",
       "      <td>0</td>\n",
       "    </tr>\n",
       "    <tr>\n",
       "      <th>1</th>\n",
       "      <td>608</td>\n",
       "      <td>41</td>\n",
       "      <td>1.0</td>\n",
       "      <td>83807.86</td>\n",
       "      <td>1</td>\n",
       "      <td>0</td>\n",
       "      <td>1</td>\n",
       "      <td>112542.58</td>\n",
       "      <td>0</td>\n",
       "      <td>0</td>\n",
       "      <td>1</td>\n",
       "      <td>0</td>\n",
       "    </tr>\n",
       "    <tr>\n",
       "      <th>2</th>\n",
       "      <td>502</td>\n",
       "      <td>42</td>\n",
       "      <td>8.0</td>\n",
       "      <td>159660.80</td>\n",
       "      <td>3</td>\n",
       "      <td>1</td>\n",
       "      <td>0</td>\n",
       "      <td>113931.57</td>\n",
       "      <td>1</td>\n",
       "      <td>0</td>\n",
       "      <td>0</td>\n",
       "      <td>0</td>\n",
       "    </tr>\n",
       "    <tr>\n",
       "      <th>3</th>\n",
       "      <td>699</td>\n",
       "      <td>39</td>\n",
       "      <td>1.0</td>\n",
       "      <td>0.00</td>\n",
       "      <td>2</td>\n",
       "      <td>0</td>\n",
       "      <td>0</td>\n",
       "      <td>93826.63</td>\n",
       "      <td>0</td>\n",
       "      <td>0</td>\n",
       "      <td>0</td>\n",
       "      <td>0</td>\n",
       "    </tr>\n",
       "    <tr>\n",
       "      <th>4</th>\n",
       "      <td>850</td>\n",
       "      <td>43</td>\n",
       "      <td>2.0</td>\n",
       "      <td>125510.82</td>\n",
       "      <td>1</td>\n",
       "      <td>1</td>\n",
       "      <td>1</td>\n",
       "      <td>79084.10</td>\n",
       "      <td>0</td>\n",
       "      <td>0</td>\n",
       "      <td>1</td>\n",
       "      <td>0</td>\n",
       "    </tr>\n",
       "  </tbody>\n",
       "</table>\n",
       "</div>"
      ],
      "text/plain": [
       "   CreditScore  Age  Tenure    Balance  NumOfProducts  HasCrCard  \\\n",
       "0          619   42     2.0       0.00              1          1   \n",
       "1          608   41     1.0   83807.86              1          0   \n",
       "2          502   42     8.0  159660.80              3          1   \n",
       "3          699   39     1.0       0.00              2          0   \n",
       "4          850   43     2.0  125510.82              1          1   \n",
       "\n",
       "   IsActiveMember  EstimatedSalary  Exited  Geography_Germany  \\\n",
       "0               1        101348.88       1                  0   \n",
       "1               1        112542.58       0                  0   \n",
       "2               0        113931.57       1                  0   \n",
       "3               0         93826.63       0                  0   \n",
       "4               1         79084.10       0                  0   \n",
       "\n",
       "   Geography_Spain  Gender_Male  \n",
       "0                0            0  \n",
       "1                1            0  \n",
       "2                0            0  \n",
       "3                0            0  \n",
       "4                1            0  "
      ]
     },
     "execution_count": 10,
     "metadata": {},
     "output_type": "execute_result"
    }
   ],
   "source": [
    "data.head()"
   ]
  },
  {
   "cell_type": "code",
   "execution_count": 11,
   "metadata": {},
   "outputs": [
    {
     "name": "stdout",
     "output_type": "stream",
     "text": [
      "Is null False    10000\n",
      "Name: CreditScore, dtype: int64 \n",
      "\n",
      "Is null False    10000\n",
      "Name: Age, dtype: int64 \n",
      "\n",
      "Is null False    9091\n",
      "True      909\n",
      "Name: Tenure, dtype: int64 \n",
      "\n",
      "Is null False    10000\n",
      "Name: NumOfProducts, dtype: int64 \n",
      "\n",
      "Is null False    10000\n",
      "Name: HasCrCard, dtype: int64 \n",
      "\n",
      "Is null False    10000\n",
      "Name: IsActiveMember, dtype: int64 \n",
      "\n",
      "Is null False    10000\n",
      "Name: EstimatedSalary, dtype: int64 \n",
      "\n",
      "Is null False    10000\n",
      "Name: Exited, dtype: int64 \n",
      "\n",
      "Is null False    10000\n",
      "Name: Geography_Germany, dtype: int64 \n",
      "\n",
      "Is null False    10000\n",
      "Name: Geography_Spain, dtype: int64 \n",
      "\n",
      "Is null False    10000\n",
      "Name: Gender_Male, dtype: int64 \n",
      "\n"
     ]
    }
   ],
   "source": [
    "print('Is null', pd.Series(data['CreditScore']).isnull().value_counts(), '\\n')\n",
    "print('Is null', pd.Series(data['Age']).isnull().value_counts(), '\\n')\n",
    "print('Is null', pd.Series(data['Tenure']).isnull().value_counts(), '\\n')\n",
    "print('Is null', pd.Series(data['NumOfProducts']).isnull().value_counts(), '\\n')\n",
    "print('Is null', pd.Series(data['HasCrCard']).isnull().value_counts(), '\\n')\n",
    "print('Is null', pd.Series(data['IsActiveMember']).isnull().value_counts(), '\\n')\n",
    "print('Is null', pd.Series(data['EstimatedSalary']).isnull().value_counts(), '\\n')\n",
    "print('Is null', pd.Series(data['Exited']).isnull().value_counts(), '\\n')\n",
    "print('Is null', pd.Series(data['Geography_Germany']).isnull().value_counts(), '\\n')\n",
    "print('Is null', pd.Series(data['Geography_Spain']).isnull().value_counts(), '\\n')\n",
    "print('Is null', pd.Series(data['Gender_Male']).isnull().value_counts(), '\\n')\n"
   ]
  },
  {
   "cell_type": "code",
   "execution_count": 12,
   "metadata": {},
   "outputs": [
    {
     "name": "stdout",
     "output_type": "stream",
     "text": [
      "Geography check\n",
      " 1.0     952\n",
      "2.0     950\n",
      "8.0     933\n",
      "3.0     928\n",
      "5.0     927\n",
      "7.0     925\n",
      "4.0     885\n",
      "9.0     882\n",
      "6.0     881\n",
      "10.0    446\n",
      "0.0     382\n",
      "Name: Tenure, dtype: int64 \n",
      "\n",
      "\n"
     ]
    }
   ],
   "source": [
    "print('Geography check\\n', data['Tenure'].value_counts(), '\\n\\n')"
   ]
  },
  {
   "cell_type": "markdown",
   "metadata": {},
   "source": [
    "**У поля Tenure 909 None, их надо либо заменить, но так можно исказить результат, либо убрать эти строки из выборки, но так уйдет почти 10% выборки.**"
   ]
  },
  {
   "cell_type": "code",
   "execution_count": 13,
   "metadata": {},
   "outputs": [
    {
     "data": {
      "text/plain": [
       "Text(0, 0.5, 'Tenure Frequency')"
      ]
     },
     "execution_count": 13,
     "metadata": {},
     "output_type": "execute_result"
    },
    {
     "data": {
      "image/png": "[encoded data removed]",
      "text/plain": [
       "<Figure size 432x288 with 1 Axes>"
      ]
     },
     "metadata": {
      "needs_background": "light"
     },
     "output_type": "display_data"
    }
   ],
   "source": [
    "fig = pd.Series(data['Tenure']).plot(kind = 'hist', bins = 11, title = 'Tenure histogram')\n",
    "fig.set_xlabel('Tenure')\n",
    "fig.set_ylabel('Tenure Frequency')"
   ]
  },
  {
   "cell_type": "markdown",
   "metadata": {},
   "source": [
    "**Заполнение значением может сильно исказить результат, а вот удаление особо повлиять не должно... Наверное...**"
   ]
  },
  {
   "cell_type": "code",
   "execution_count": 14,
   "metadata": {},
   "outputs": [],
   "source": [
    "data_new = data.drop(data[data['Tenure'].isnull() == True].index)"
   ]
  },
  {
   "cell_type": "code",
   "execution_count": 15,
   "metadata": {},
   "outputs": [
    {
     "name": "stdout",
     "output_type": "stream",
     "text": [
      "<class 'pandas.core.frame.DataFrame'>\n",
      "Int64Index: 9091 entries, 0 to 9998\n",
      "Data columns (total 12 columns):\n",
      " #   Column             Non-Null Count  Dtype  \n",
      "---  ------             --------------  -----  \n",
      " 0   CreditScore        9091 non-null   int64  \n",
      " 1   Age                9091 non-null   int64  \n",
      " 2   Tenure             9091 non-null   float64\n",
      " 3   Balance            9091 non-null   float64\n",
      " 4   NumOfProducts      9091 non-null   int64  \n",
      " 5   HasCrCard          9091 non-null   int64  \n",
      " 6   IsActiveMember     9091 non-null   int64  \n",
      " 7   EstimatedSalary    9091 non-null   float64\n",
      " 8   Exited             9091 non-null   int64  \n",
      " 9   Geography_Germany  9091 non-null   uint8  \n",
      " 10  Geography_Spain    9091 non-null   uint8  \n",
      " 11  Gender_Male        9091 non-null   uint8  \n",
      "dtypes: float64(3), int64(6), uint8(3)\n",
      "memory usage: 736.9 KB\n"
     ]
    }
   ],
   "source": [
    "data_new.info()"
   ]
  },
  {
   "cell_type": "code",
   "execution_count": 16,
   "metadata": {},
   "outputs": [
    {
     "name": "stdout",
     "output_type": "stream",
     "text": [
      "Is null False    9091\n",
      "Name: Tenure, dtype: int64 \n",
      "\n"
     ]
    }
   ],
   "source": [
    "print('Is null', pd.Series(data_new['Tenure']).isnull().value_counts(), '\\n')"
   ]
  },
  {
   "cell_type": "code",
   "execution_count": 17,
   "metadata": {},
   "outputs": [],
   "source": [
    "numeric = ['CreditScore', 'Age', 'Tenure', 'Balance']"
   ]
  },
  {
   "cell_type": "code",
   "execution_count": 18,
   "metadata": {},
   "outputs": [],
   "source": [
    "#corel = sns.pairplot(data, hue = 'Exited')"
   ]
  },
  {
   "cell_type": "markdown",
   "metadata": {},
   "source": [
    "**Корреляции в данных не видно**"
   ]
  },
  {
   "cell_type": "code",
   "execution_count": 19,
   "metadata": {},
   "outputs": [],
   "source": [
    "features = data_new.drop('Exited', axis = 1)\n",
    "target = data_new['Exited']"
   ]
  },
  {
   "cell_type": "code",
   "execution_count": 20,
   "metadata": {},
   "outputs": [
    {
     "data": {
      "text/plain": [
       "(9091, 11)"
      ]
     },
     "execution_count": 20,
     "metadata": {},
     "output_type": "execute_result"
    }
   ],
   "source": [
    "features.shape"
   ]
  },
  {
   "cell_type": "code",
   "execution_count": 21,
   "metadata": {},
   "outputs": [],
   "source": [
    "features_train, features_valid, target_train, target_valid = train_test_split(\n",
    "    features, target, test_size = 0.4, random_state = 12345)"
   ]
  },
  {
   "cell_type": "code",
   "execution_count": 22,
   "metadata": {},
   "outputs": [],
   "source": [
    "features_valid, features_test, target_valid, target_test = train_test_split(\n",
    "    features_valid, target_valid, test_size = 0.50, random_state = 12345)"
   ]
  },
  {
   "cell_type": "markdown",
   "metadata": {},
   "source": [
    "**Итого: тренировочная - 60%, валидационная - 20%, тестовая - 20%**"
   ]
  },
  {
   "cell_type": "code",
   "execution_count": 23,
   "metadata": {},
   "outputs": [
    {
     "name": "stdout",
     "output_type": "stream",
     "text": [
      "(5454, 11)\n",
      "(5454,)\n"
     ]
    }
   ],
   "source": [
    "print(features_train.shape)\n",
    "print(target_train.shape)"
   ]
  },
  {
   "cell_type": "code",
   "execution_count": 24,
   "metadata": {},
   "outputs": [
    {
     "name": "stdout",
     "output_type": "stream",
     "text": [
      "(1818, 11)\n",
      "(1818,)\n"
     ]
    }
   ],
   "source": [
    "print(features_valid.shape)\n",
    "print(target_valid.shape)"
   ]
  },
  {
   "cell_type": "code",
   "execution_count": 25,
   "metadata": {},
   "outputs": [
    {
     "name": "stdout",
     "output_type": "stream",
     "text": [
      "(1819, 11)\n",
      "(1819,)\n"
     ]
    }
   ],
   "source": [
    "print(features_test.shape)\n",
    "print(target_test.shape)"
   ]
  },
  {
   "cell_type": "code",
   "execution_count": 26,
   "metadata": {},
   "outputs": [
    {
     "name": "stderr",
     "output_type": "stream",
     "text": [
      "/Users/glebkomissarov/opt/anaconda3/lib/python3.9/site-packages/pandas/core/frame.py:3678: SettingWithCopyWarning: \n",
      "A value is trying to be set on a copy of a slice from a DataFrame.\n",
      "Try using .loc[row_indexer,col_indexer] = value instead\n",
      "\n",
      "See the caveats in the documentation: https://pandas.pydata.org/pandas-docs/stable/user_guide/indexing.html#returning-a-view-versus-a-copy\n",
      "  self[col] = igetitem(value, i)\n"
     ]
    }
   ],
   "source": [
    "scaler = StandardScaler()\n",
    "scaler.fit(features_train[numeric])\n",
    "\n",
    "features_train[numeric] = scaler.transform(features_train[numeric])\n",
    "features_valid[numeric] = scaler.transform(features_valid[numeric])\n",
    "features_test[numeric] = scaler.transform(features_test[numeric])"
   ]
  },
  {
   "cell_type": "markdown",
   "metadata": {},
   "source": [
    "Я так понимаю, меня предупреждают, что я изменяю срез датасета и это *не есть хорошо* и лучше делать это все через .loc\n",
    "\n",
    "Есть ли смысл переделывать?"
   ]
  },
  {
   "cell_type": "markdown",
   "metadata": {},
   "source": [
    "## Исследование задачи"
   ]
  },
  {
   "cell_type": "code",
   "execution_count": 27,
   "metadata": {},
   "outputs": [
    {
     "name": "stdout",
     "output_type": "stream",
     "text": [
      "0    7963\n",
      "1    2037\n",
      "Name: Exited, dtype: int64\n"
     ]
    },
    {
     "data": {
      "image/png": "[encoded data removed]",
      "text/plain": [
       "<Figure size 432x288 with 1 Axes>"
      ]
     },
     "metadata": {
      "needs_background": "light"
     },
     "output_type": "display_data"
    }
   ],
   "source": [
    "exit_count = data['Exited'].value_counts()\n",
    "exit_count.plot(kind = 'bar')\n",
    "print(exit_count)"
   ]
  },
  {
   "cell_type": "code",
   "execution_count": null,
   "metadata": {},
   "outputs": [],
   "source": []
  },
  {
   "cell_type": "markdown",
   "metadata": {},
   "source": [
    "В target приемущественно 0 - то есть оставшиеся клиенты"
   ]
  },
  {
   "cell_type": "code",
   "execution_count": 28,
   "metadata": {},
   "outputs": [
    {
     "name": "stdout",
     "output_type": "stream",
     "text": [
      "1    5457\n",
      "0    4543\n",
      "Name: Gender_Male, dtype: int64\n"
     ]
    },
    {
     "data": {
      "image/png": "[encoded data removed]",
      "text/plain": [
       "<Figure size 432x288 with 1 Axes>"
      ]
     },
     "metadata": {
      "needs_background": "light"
     },
     "output_type": "display_data"
    }
   ],
   "source": [
    "gender_count = data['Gender_Male'].value_counts()\n",
    "gender_count.plot(kind = 'bar')\n",
    "print(gender_count)"
   ]
  },
  {
   "cell_type": "markdown",
   "metadata": {},
   "source": [
    "По полу дисбаланса нет"
   ]
  },
  {
   "cell_type": "code",
   "execution_count": 29,
   "metadata": {},
   "outputs": [
    {
     "data": {
      "image/png": "[encoded data removed]",
      "text/plain": [
       "<Figure size 432x288 with 1 Axes>"
      ]
     },
     "metadata": {
      "needs_background": "light"
     },
     "output_type": "display_data"
    }
   ],
   "source": [
    "country_count = data['Geography_Germany'].value_counts()\n",
    "country_count2 = data[\"Geography_Spain\"].value_counts()\n",
    "\n",
    "# 2293 Germany, 2248 Spain, 4550 - another country\n",
    "countries_count = {'Germany': 2293, 'Spain' : 2248, 'Another' : 4550}\n",
    "\n",
    "names = list(countries_count.keys())\n",
    "values = list(countries_count.values())\n",
    "\n",
    "plt.bar(range(len(countries_count)), values, tick_label = names)\n",
    "plt.show()\n",
    "\n",
    "#print(country_count, '\\n', country_count2)"
   ]
  },
  {
   "cell_type": "markdown",
   "metadata": {},
   "source": [
    "Людей из третьей страны столько же сколько и людей из Германии + Испании"
   ]
  },
  {
   "cell_type": "code",
   "execution_count": 30,
   "metadata": {},
   "outputs": [
    {
     "name": "stdout",
     "output_type": "stream",
     "text": [
      "1    5151\n",
      "0    4849\n",
      "Name: IsActiveMember, dtype: int64\n"
     ]
    },
    {
     "data": {
      "image/png": "[encoded data removed]",
      "text/plain": [
       "<Figure size 432x288 with 1 Axes>"
      ]
     },
     "metadata": {
      "needs_background": "light"
     },
     "output_type": "display_data"
    }
   ],
   "source": [
    "active_count = data['IsActiveMember'].value_counts()\n",
    "active_count.plot(kind = 'bar')\n",
    "print(active_count)\n"
   ]
  },
  {
   "cell_type": "code",
   "execution_count": 31,
   "metadata": {},
   "outputs": [
    {
     "name": "stdout",
     "output_type": "stream",
     "text": [
      "1    7055\n",
      "0    2945\n",
      "Name: HasCrCard, dtype: int64\n"
     ]
    },
    {
     "data": {
      "image/png": "[encoded data removed]",
      "text/plain": [
       "<Figure size 432x288 with 1 Axes>"
      ]
     },
     "metadata": {
      "needs_background": "light"
     },
     "output_type": "display_data"
    }
   ],
   "source": [
    "ct_card_count = data['HasCrCard'].value_counts()\n",
    "ct_card_count.plot(kind = 'bar')\n",
    "print(ct_card_count)"
   ]
  },
  {
   "cell_type": "code",
   "execution_count": 32,
   "metadata": {},
   "outputs": [
    {
     "data": {
      "text/plain": [
       "DecisionTreeClassifier(random_state=12345)"
      ]
     },
     "execution_count": 32,
     "metadata": {},
     "output_type": "execute_result"
    }
   ],
   "source": [
    "model = LogisticRegression(solver='liblinear', random_state = 12345)\n",
    "model.fit(features_train, target_train)\n",
    "\n",
    "model_2 = DecisionTreeClassifier(random_state=12345)\n",
    "model_2.fit(features_train, target_train)"
   ]
  },
  {
   "cell_type": "code",
   "execution_count": 33,
   "metadata": {},
   "outputs": [
    {
     "name": "stdout",
     "output_type": "stream",
     "text": [
      "0    1818\n",
      "dtype: int64\n"
     ]
    },
    {
     "data": {
      "image/png": "[encoded data removed]",
      "text/plain": [
       "<Figure size 432x288 with 1 Axes>"
      ]
     },
     "metadata": {
      "needs_background": "light"
     },
     "output_type": "display_data"
    }
   ],
   "source": [
    "# Для LogisticRegression\n",
    "predicted_valid = pd.Series(model.predict(features_valid))\n",
    "\n",
    "class_frequency = predicted_valid.value_counts()\n",
    "class_frequency.plot(kind = 'bar')\n",
    "print(class_frequency)"
   ]
  },
  {
   "cell_type": "code",
   "execution_count": 34,
   "metadata": {},
   "outputs": [
    {
     "name": "stdout",
     "output_type": "stream",
     "text": [
      "0    1818\n",
      "dtype: int64\n"
     ]
    },
    {
     "data": {
      "image/png": "[encoded data removed]",
      "text/plain": [
       "<Figure size 432x288 with 1 Axes>"
      ]
     },
     "metadata": {
      "needs_background": "light"
     },
     "output_type": "display_data"
    }
   ],
   "source": [
    "# Для LogisticRegression\n",
    "predicted_valid_2 = model_2.predict(features_valid)\n",
    "\n",
    "class_frequency_2 = pd.Series(predicted_valid_2).value_counts()\n",
    "class_frequency.plot(kind = 'bar')\n",
    "print(class_frequency)"
   ]
  },
  {
   "cell_type": "code",
   "execution_count": 35,
   "metadata": {},
   "outputs": [
    {
     "name": "stdout",
     "output_type": "stream",
     "text": [
      "0.7961\n"
     ]
    }
   ],
   "source": [
    "target_pred_constant = pd.Series(0, index=target.index)\n",
    "print(round(accuracy_score(target, target_pred_constant), 4))"
   ]
  },
  {
   "cell_type": "code",
   "execution_count": 36,
   "metadata": {},
   "outputs": [
    {
     "name": "stdout",
     "output_type": "stream",
     "text": [
      "0.7960620393796062\n"
     ]
    }
   ],
   "source": [
    "print(accuracy_score(target, target_pred_constant))"
   ]
  },
  {
   "cell_type": "code",
   "execution_count": 37,
   "metadata": {},
   "outputs": [
    {
     "name": "stdout",
     "output_type": "stream",
     "text": [
      "[[1441    0]\n",
      " [ 377    0]]\n"
     ]
    }
   ],
   "source": [
    "print(confusion_matrix(target_valid, predicted_valid))"
   ]
  },
  {
   "cell_type": "code",
   "execution_count": 38,
   "metadata": {},
   "outputs": [
    {
     "name": "stdout",
     "output_type": "stream",
     "text": [
      "[[1252  189]\n",
      " [ 192  185]]\n"
     ]
    }
   ],
   "source": [
    "print(confusion_matrix(target_valid, predicted_valid_2))"
   ]
  },
  {
   "cell_type": "markdown",
   "metadata": {},
   "source": [
    "**Очень много TN ответов**"
   ]
  },
  {
   "cell_type": "code",
   "execution_count": 39,
   "metadata": {},
   "outputs": [
    {
     "name": "stdout",
     "output_type": "stream",
     "text": [
      "Recall: \t 0.0\n",
      "Precision: \t 0.0\n",
      "F1 score: \t 0.0\n"
     ]
    },
    {
     "name": "stderr",
     "output_type": "stream",
     "text": [
      "/Users/glebkomissarov/opt/anaconda3/lib/python3.9/site-packages/sklearn/metrics/_classification.py:1248: UndefinedMetricWarning: Precision is ill-defined and being set to 0.0 due to no predicted samples. Use `zero_division` parameter to control this behavior.\n",
      "  _warn_prf(average, modifier, msg_start, len(result))\n"
     ]
    }
   ],
   "source": [
    "print('Recall:', '\\t', round(recall_score(target_valid, predicted_valid), 4)) \n",
    "print('Precision:', '\\t', round(precision_score(target_valid, predicted_valid), 4)) \n",
    "print('F1 score:', '\\t', round(f1_score(target_valid, predicted_valid), 4)) "
   ]
  },
  {
   "cell_type": "code",
   "execution_count": 40,
   "metadata": {},
   "outputs": [
    {
     "name": "stdout",
     "output_type": "stream",
     "text": [
      "Recall: \t 0.4907\n",
      "Precision: \t 0.4947\n",
      "F1 score: \t 0.4927\n"
     ]
    }
   ],
   "source": [
    "print('Recall:', '\\t', round(recall_score(target_valid, predicted_valid_2), 4)) \n",
    "print('Precision:', '\\t', round(precision_score(target_valid, predicted_valid_2), 4)) \n",
    "print('F1 score:', '\\t', round(f1_score(target_valid, predicted_valid_2), 4)) "
   ]
  },
  {
   "cell_type": "markdown",
   "metadata": {},
   "source": [
    "# Выводы. Исследование задачи. \n",
    "\n",
    "У Target класса почти в четыре раза больше строк с 0. Соотношение такое 0 - 7237, 1 - 1854. Явный дисбаланс. \n",
    "\n",
    "Матрица ошибок у обоих моделей показывает значительный перевес в сторону TN ответов, что говорит о дисбалансе.\n",
    "\n",
    "Метрики полноты, точности и f1 показывают нулевые значения для модели LogisticRegression \n",
    "\n",
    "Те же метрики для модели DecisionTreeClassifier показывают значения 0.49 (не плохо, но и не особо хорошо)"
   ]
  },
  {
   "cell_type": "markdown",
   "metadata": {},
   "source": [
    "## Борьба с дисбалансом"
   ]
  },
  {
   "cell_type": "markdown",
   "metadata": {},
   "source": [
    "### Logistic Regression"
   ]
  },
  {
   "cell_type": "code",
   "execution_count": 41,
   "metadata": {
    "scrolled": true
   },
   "outputs": [
    {
     "name": "stdout",
     "output_type": "stream",
     "text": [
      "0.34350797266514804 lbfgs 1\n"
     ]
    },
    {
     "name": "stderr",
     "output_type": "stream",
     "text": [
      "/Users/glebkomissarov/opt/anaconda3/lib/python3.9/site-packages/sklearn/linear_model/_logistic.py:763: ConvergenceWarning: lbfgs failed to converge (status=1):\n",
      "STOP: TOTAL NO. of ITERATIONS REACHED LIMIT.\n",
      "\n",
      "Increase the number of iterations (max_iter) or scale the data as shown in:\n",
      "    https://scikit-learn.org/stable/modules/preprocessing.html\n",
      "Please also refer to the documentation for alternative solver options:\n",
      "    https://scikit-learn.org/stable/modules/linear_model.html#logistic-regression\n",
      "  n_iter_i = _check_optimize_result(\n"
     ]
    }
   ],
   "source": [
    "best_result_1 = 0\n",
    "#best_solv_1 = 'liblinear'\n",
    "\n",
    "solvers = ['lbfgs']\n",
    "\n",
    "\n",
    "for maxx in range(1, 50, 10):\n",
    "    for solv in solvers:\n",
    "        model_1 = LogisticRegression(random_state = 12345, class_weight = 'balanced', solver = solv\n",
    "                                         , max_iter = maxx)\n",
    "                                         #, min_weight_fraction_leaf = i)\n",
    "        model_1.fit(features_train, target_train)\n",
    "        predicted_valid = model_1.predict(features_valid)\n",
    "        f1_1 = f1_score(target_valid, predicted_valid)\n",
    "        if f1_1 > best_result_1:\n",
    "            best_result_1 = f1_1\n",
    "            best_model_1 = model_1\n",
    "            best_model_result_1 = predicted_valid\n",
    "            best_solv_1 = solv\n",
    "            best_iter_1 = maxx\n",
    "\n",
    "                \n",
    "print(best_result_1, best_solv_1, best_iter_1)"
   ]
  },
  {
   "cell_type": "code",
   "execution_count": 42,
   "metadata": {},
   "outputs": [
    {
     "name": "stderr",
     "output_type": "stream",
     "text": [
      "/Users/glebkomissarov/opt/anaconda3/lib/python3.9/site-packages/sklearn/utils/optimize.py:202: ConvergenceWarning: newton-cg failed to converge. Increase the number of iterations.\n",
      "  warnings.warn(\"newton-cg failed to converge. Increase the \"\n"
     ]
    },
    {
     "data": {
      "text/plain": [
       "LogisticRegression(class_weight='balanced', max_iter=21, random_state=12345,\n",
       "                   solver='newton-cg')"
      ]
     },
     "execution_count": 42,
     "metadata": {},
     "output_type": "execute_result"
    }
   ],
   "source": [
    "model = LogisticRegression(solver='newton-cg', random_state = 12345, class_weight = 'balanced', max_iter = 21)\n",
    "model.fit(features_train, target_train)"
   ]
  },
  {
   "cell_type": "code",
   "execution_count": 43,
   "metadata": {},
   "outputs": [
    {
     "name": "stdout",
     "output_type": "stream",
     "text": [
      "F1 score: \t 0.5132\n",
      "[[1030  411]\n",
      " [ 105  272]]\n"
     ]
    }
   ],
   "source": [
    "predicted_valid = model.predict(features_valid)\n",
    "print('F1 score:', '\\t', round(f1_score(target_valid, predicted_valid), 4)) \n",
    "\n",
    "print(confusion_matrix(target_valid, predicted_valid))"
   ]
  },
  {
   "cell_type": "markdown",
   "metadata": {},
   "source": [
    "Результат улучшился с 0 до 0.5 - это хорошо! "
   ]
  },
  {
   "cell_type": "code",
   "execution_count": 44,
   "metadata": {},
   "outputs": [
    {
     "name": "stdout",
     "output_type": "stream",
     "text": [
      "0.7793530502138032\n"
     ]
    }
   ],
   "source": [
    "probabilities_valid = model.predict_proba(features_valid)\n",
    "probabilities_one_valid = probabilities_valid[:, 1]\n",
    "\n",
    "# < напишите код здесь >\n",
    "auc_roc = roc_auc_score(target_valid, probabilities_one_valid)\n",
    "print(auc_roc)"
   ]
  },
  {
   "cell_type": "code",
   "execution_count": 45,
   "metadata": {},
   "outputs": [
    {
     "name": "stdout",
     "output_type": "stream",
     "text": [
      "0.0 0.34350797266514804\n",
      "0.05 0.34350797266514804\n",
      "0.1 0.3438212494300046\n",
      "0.15000000000000002 0.3484708063021316\n",
      "0.2 0.36301703163017035\n",
      "0.25 0.3808033385498174\n",
      "0.30000000000000004 0.40940366972477066\n",
      "0.35000000000000003 0.44015444015444016\n",
      "0.4 0.4650499286733239\n",
      "0.45 0.48772504091653024\n",
      "0.5 0.5132075471698113\n",
      "0.55 0.5186813186813186\n",
      "0.6000000000000001 0.4967490247074122\n",
      "0.65 0.46567164179104475\n",
      "0.7000000000000001 0.36713286713286714\n",
      "0.75 0.29862475442043224\n"
     ]
    }
   ],
   "source": [
    "probabilities_valid = model.predict_proba(features_valid)\n",
    "probabilities_one_valid = probabilities_valid[:, 1]\n",
    "\n",
    "for threshold in np.arange(0, 0.8, 0.05):\n",
    "    predicted_valid = probabilities_one_valid > threshold \n",
    "    f1 = f1_score(target_valid, predicted_valid)\n",
    "    \n",
    "    print(threshold, f1)"
   ]
  },
  {
   "cell_type": "code",
   "execution_count": 46,
   "metadata": {},
   "outputs": [
    {
     "data": {
      "image/png": "[encoded data removed]",
      "text/plain": [
       "<Figure size 432x288 with 1 Axes>"
      ]
     },
     "metadata": {
      "needs_background": "light"
     },
     "output_type": "display_data"
    }
   ],
   "source": [
    "fpr, tpr, thresholds = roc_curve(target_valid, probabilities_one_valid)  \n",
    "plt.figure()\n",
    "plt.plot([0, 1], [0, 1], linestyle='--')\n",
    "plt.plot(fpr, tpr)\n",
    "plt.xlim([0.0, 1.0])\n",
    "plt.ylim([0.0, 1.0])\n",
    "plt.xlabel('False Positive Rate')\n",
    "plt.ylabel('True Positive Rate')\n",
    "plt.title('ROC-кривая')\n",
    "plt.show() "
   ]
  },
  {
   "cell_type": "code",
   "execution_count": 47,
   "metadata": {},
   "outputs": [
    {
     "name": "stdout",
     "output_type": "stream",
     "text": [
      "(4328, 11)\n",
      "(1126, 11)\n",
      "(4328,)\n",
      "(1126,)\n"
     ]
    }
   ],
   "source": [
    "features_zeros = features_train[target_train == 0]\n",
    "features_ones = features_train[target_train == 1]\n",
    "target_zeros = target_train[target_train == 0]\n",
    "target_ones = target_train[target_train == 1]\n",
    "\n",
    "print(features_zeros.shape)\n",
    "print(features_ones.shape)\n",
    "print(target_zeros.shape)\n",
    "print(target_ones.shape)"
   ]
  },
  {
   "cell_type": "markdown",
   "metadata": {},
   "source": [
    "Чтобы у выборок был примерно одинаковыый размер нужно при увеличении умножить фичер_онес на 4, а при уменьшении фичерс_зероя на 0.3, тогда будет примерно одинаковый размер"
   ]
  },
  {
   "cell_type": "code",
   "execution_count": 48,
   "metadata": {},
   "outputs": [],
   "source": [
    "def upsample(features, target, repeat):\n",
    "    features_zeros = features[target == 0]\n",
    "    features_ones = features[target == 1]\n",
    "    target_zeros = target[target == 0]\n",
    "    target_ones = target[target == 1]\n",
    "\n",
    "    features_upsampled = pd.concat([features_zeros]  + [features_ones] * repeat)\n",
    "    target_upsampled = pd.concat([target_zeros] + [target_ones] * repeat)\n",
    "    \n",
    "    features_upsampled, target_upsampled = shuffle(\n",
    "        features_upsampled, target_upsampled, random_state=12345)\n",
    "    \n",
    "    return features_upsampled, target_upsampled"
   ]
  },
  {
   "cell_type": "code",
   "execution_count": 49,
   "metadata": {},
   "outputs": [
    {
     "name": "stdout",
     "output_type": "stream",
     "text": [
      "F1 score: \t 0.3435\n",
      "[[   0 1441]\n",
      " [   0  377]]\n"
     ]
    }
   ],
   "source": [
    "model = LogisticRegression(solver='lbfgs', random_state = 12345)\n",
    "\n",
    "features_upsampled, target_upsampled = upsample(features_train, target_train,  4)\n",
    "\n",
    "model.fit(features_upsampled, target_upsampled)\n",
    "predicted_valid = model.predict(features_valid)\n",
    "print('F1 score:', '\\t', round(f1_score(target_valid, predicted_valid), 4)) \n",
    "\n",
    "print(confusion_matrix(target_valid, predicted_valid))"
   ]
  },
  {
   "cell_type": "markdown",
   "metadata": {},
   "source": [
    "тоже хорошо"
   ]
  },
  {
   "cell_type": "code",
   "execution_count": 50,
   "metadata": {},
   "outputs": [
    {
     "name": "stdout",
     "output_type": "stream",
     "text": [
      "0.4951836791794675\n"
     ]
    }
   ],
   "source": [
    "probabilities_valid = model.predict_proba(features_valid)\n",
    "probabilities_one_valid = probabilities_valid[:, 1]\n",
    "\n",
    "# < напишите код здесь >\n",
    "auc_roc = roc_auc_score(target_valid, probabilities_one_valid)\n",
    "print(auc_roc)"
   ]
  },
  {
   "cell_type": "code",
   "execution_count": 51,
   "metadata": {},
   "outputs": [
    {
     "data": {
      "image/png": "[encoded data removed]",
      "text/plain": [
       "<Figure size 432x288 with 1 Axes>"
      ]
     },
     "metadata": {
      "needs_background": "light"
     },
     "output_type": "display_data"
    }
   ],
   "source": [
    "fpr, tpr, thresholds = roc_curve(target_valid, probabilities_one_valid)  \n",
    "plt.figure()\n",
    "plt.plot([0, 1], [0, 1], linestyle='--')\n",
    "plt.plot(fpr, tpr)\n",
    "plt.xlim([0.0, 1.0])\n",
    "plt.ylim([0.0, 1.0])\n",
    "plt.xlabel('False Positive Rate')\n",
    "plt.ylabel('True Positive Rate')\n",
    "plt.title('ROC-кривая')\n",
    "plt.show() "
   ]
  },
  {
   "cell_type": "code",
   "execution_count": 52,
   "metadata": {},
   "outputs": [],
   "source": [
    "def downsample(features, target, fraction):\n",
    "    features_zeros = features[target == 0]\n",
    "    features_ones = features[target == 1]\n",
    "    target_zeros = target[target == 0]\n",
    "    target_ones = target[target == 1]\n",
    "\n",
    "    features_downsampled = pd.concat(\n",
    "        [features_zeros.sample(frac=fraction, random_state=12345)] + [features_ones])\n",
    "    target_downsampled = pd.concat(\n",
    "        [target_zeros.sample(frac=fraction, random_state=12345)] + [target_ones])\n",
    "    \n",
    "    features_downsampled, target_downsampled = shuffle(\n",
    "        features_downsampled, target_downsampled, random_state=12345)\n",
    "    \n",
    "    return features_downsampled, target_downsampled"
   ]
  },
  {
   "cell_type": "markdown",
   "metadata": {},
   "source": [
    "### DecisionTreeClassifier"
   ]
  },
  {
   "cell_type": "markdown",
   "metadata": {},
   "source": [
    "best_result = 0\n",
    "\n",
    "criteria = ['gini', 'entropy']\n",
    "splitters = ['random', 'best']\n",
    "\n",
    "for depth in range(1, 15):\n",
    "    for crit in criteria:\n",
    "        for split in splitters:\n",
    "            for leaf in range(25, 55):\n",
    "                    model_2 = DecisionTreeClassifier(random_state = 12345, class_weight = 'balanced', criterion = crit\n",
    "                                                     , max_depth = depth, min_samples_split = 2, min_samples_leaf = leaf\n",
    "                                                     , splitter = split)\n",
    "                    model_2.fit(features_train, target_train)\n",
    "                    predicted_valid = model_2.predict(features_valid)\n",
    "                    f1 = f1_score(target_valid, predicted_valid)\n",
    "                    if f1 > best_result:\n",
    "                        print(f1)\n",
    "                        best_result = f1\n",
    "                        best_model = model_2\n",
    "                        best_model_result = predicted_valid\n",
    "                        best_crit = crit\n",
    "                        best_depth = depth\n",
    "                        best_ms = 2\n",
    "                        best_leaf = leaf\n",
    "                        best_splitt = split\n",
    "                        \n",
    "                \n",
    "print(best_result, best_crit, best_depth, best_ms, best_leaf, best_splitt)"
   ]
  },
  {
   "cell_type": "markdown",
   "metadata": {},
   "source": [
    "\n",
    "print('F1 score:', '\\t', round(f1_score(target_valid, best_model_result), 4)) \n",
    "\n",
    "print(confusion_matrix(target_valid, best_model_result))"
   ]
  },
  {
   "cell_type": "markdown",
   "metadata": {},
   "source": [
    "probabilities_valid = best_model.predict_proba(features_valid)\n",
    "probabilities_one_valid = probabilities_valid[:, 1]\n",
    "\n",
    "# < напишите код здесь >\n",
    "auc_roc = roc_auc_score(target_valid, probabilities_one_valid)\n",
    "print(auc_roc)"
   ]
  },
  {
   "cell_type": "markdown",
   "metadata": {},
   "source": [
    "fpr, tpr, thresholds = roc_curve(target_valid, probabilities_one_valid)  # < напишите код здесь >\n",
    "\n",
    "plt.figure()\n",
    "plt.plot([0, 1], [0, 1], linestyle='--')\n",
    "plt.plot(fpr, tpr)\n",
    "plt.xlim([0.0, 1.0])\n",
    "plt.ylim([0.0, 1.0])\n",
    "plt.xlabel('False Positive Rate')\n",
    "plt.ylabel('True Positive Rate')\n",
    "plt.title('ROC-кривая')\n",
    "plt.show() "
   ]
  },
  {
   "cell_type": "markdown",
   "metadata": {},
   "source": [
    "#### Предендент на лучшую модель"
   ]
  },
  {
   "cell_type": "code",
   "execution_count": 57,
   "metadata": {},
   "outputs": [
    {
     "name": "stdout",
     "output_type": "stream",
     "text": [
      "0.5065856129685917\n",
      "0.5065856129685917 gini 1 2 25 best\n",
      "0.5297619047619048\n",
      "0.5297619047619048 gini 2 2 25 best\n",
      "0.5504782146652497\n",
      "0.5504782146652497 gini 3 2 25 best\n",
      "0.5660749506903353\n",
      "0.5660749506903353 entropy 4 2 25 best\n",
      "0.5756613756613755\n",
      "0.5756613756613755 gini 5 2 25 best\n",
      "0.5762711864406779\n",
      "0.5762711864406779 gini 5 2 26 best\n",
      "0.5779543197616683\n",
      "0.5779543197616683 gini 7 2 25 random\n",
      "0.5944272445820433\n",
      "0.5944272445820433 gini 7 2 28 random\n",
      "0.5997719498289624\n",
      "0.5997719498289624 gini 8 2 32 best\n",
      "0.6031746031746031\n",
      "0.6031746031746031 gini 8 2 36 best\n",
      "0.6054852320675106\n",
      "0.6054852320675106 entropy 9 2 28 random\n",
      "0.6148867313915858\n",
      "0.6148867313915858 entropy 10 2 44 random\n",
      "0.6148867313915858 entropy 10 2 44\n",
      "F1 score: \t 0.6149\n",
      "[[1176  265]\n",
      " [  92  285]]\n"
     ]
    }
   ],
   "source": [
    "best_result_3 = 0\n",
    "\n",
    "features_upsampled, target_upsampled = upsample(features_train, target_train, 4)\n",
    "criteria = ['gini', 'entropy']\n",
    "splitters = ['best', 'random']\n",
    "\n",
    "for depth in range(1, 15):\n",
    "    for crit in criteria:\n",
    "        for splitt in splitters:\n",
    "        #for split in range(2, 20):\n",
    "            for leaf in range(25, 45):\n",
    "                    model_3 =  DecisionTreeClassifier(random_state = 12345, criterion = crit, max_depth = depth\n",
    "                                                     , min_samples_split = 2, min_samples_leaf = leaf\n",
    "                                                     , splitter = splitt)\n",
    "\n",
    "                    model_3.fit(features_upsampled, target_upsampled)\n",
    "                    predicted_valid_3 = model_3.predict(features_valid)\n",
    "                    f1 = f1_score(target_valid, predicted_valid_3)\n",
    "                    if f1 > best_result_3:\n",
    "                        print(f1)\n",
    "                        best_model_3 = model_3\n",
    "                        best_model_result_3 = predicted_valid_3\n",
    "                        best_result_3 = f1\n",
    "                        best_crit_3 = crit\n",
    "                        best_depth_3 = depth\n",
    "                        best_ms_3 = 2\n",
    "                        best_leaf_3 = leaf\n",
    "                        best_splitt_3 = splitt\n",
    "                        print(best_result_3, best_crit_3, best_depth_3, best_ms_3, best_leaf_3, best_splitt_3)\n",
    "\n",
    "print(best_result_3, best_crit_3, best_depth_3, best_ms_3, best_leaf_3)\n",
    "\n",
    "print('F1 score:', '\\t', round(f1_score(target_valid, best_model_result_3), 4)) \n",
    "print(confusion_matrix(target_valid, best_model_result_3))"
   ]
  },
  {
   "cell_type": "code",
   "execution_count": 58,
   "metadata": {},
   "outputs": [
    {
     "name": "stdout",
     "output_type": "stream",
     "text": [
      "0.8444741623209641\n"
     ]
    }
   ],
   "source": [
    "probabilities_valid = model_3.predict_proba(features_valid)\n",
    "probabilities_one_valid = probabilities_valid[:, 1]\n",
    "\n",
    "# < напишите код здесь >\n",
    "auc_roc = roc_auc_score(target_valid, probabilities_one_valid)\n",
    "print(auc_roc)"
   ]
  },
  {
   "cell_type": "code",
   "execution_count": 59,
   "metadata": {},
   "outputs": [
    {
     "data": {
      "image/png": "[encoded data removed]",
      "text/plain": [
       "<Figure size 432x288 with 1 Axes>"
      ]
     },
     "metadata": {
      "needs_background": "light"
     },
     "output_type": "display_data"
    }
   ],
   "source": [
    "fpr, tpr, thresholds = roc_curve(target_valid, probabilities_one_valid)  \n",
    "\n",
    "plt.figure()\n",
    "plt.plot([0, 1], [0, 1], linestyle='--')\n",
    "plt.plot(fpr, tpr)\n",
    "plt.xlim([0.0, 1.0])\n",
    "plt.ylim([0.0, 1.0])\n",
    "plt.xlabel('False Positive Rate')\n",
    "plt.ylabel('True Positive Rate')\n",
    "plt.title('ROC-кривая')\n",
    "plt.show() "
   ]
  },
  {
   "cell_type": "code",
   "execution_count": 60,
   "metadata": {},
   "outputs": [
    {
     "name": "stdout",
     "output_type": "stream",
     "text": [
      "F1 score: \t 0.6047\n",
      "[[1165  276]\n",
      " [  94  283]]\n",
      "F1 score: \t 0.6149\n",
      "[[1176  265]\n",
      " [  92  285]]\n"
     ]
    }
   ],
   "source": [
    "\n",
    "print('F1 score:', '\\t', round(f1_score(target_valid, best_model_result), 4)) \n",
    "print(confusion_matrix(target_valid, best_model_result))\n",
    "\n",
    "print('F1 score:', '\\t', round(f1_score(target_valid, best_model_result_3), 4)) \n",
    "print(confusion_matrix(target_valid, best_model_result_3))"
   ]
  },
  {
   "cell_type": "markdown",
   "metadata": {},
   "source": [
    "У первой модели DecisionTreeClassifier результат слега выше. Ее и будем использовать"
   ]
  },
  {
   "cell_type": "code",
   "execution_count": 61,
   "metadata": {},
   "outputs": [
    {
     "name": "stdout",
     "output_type": "stream",
     "text": [
      "New best 0.49809160305343514\n",
      "0.49809160305343514 gini 1 2 15\n",
      "New best 0.5145539906103286\n",
      "0.5145539906103286 gini 2 2 15\n",
      "New best 0.533066132264529\n",
      "0.533066132264529 gini 3 2 15\n",
      "New best 0.5491803278688524\n",
      "0.5491803278688524 entropy 3 2 15\n",
      "New best 0.5544933078393882\n",
      "0.5544933078393882 entropy 4 2 15\n",
      "New best 0.5656154628687691\n",
      "0.5656154628687691 gini 5 2 15\n",
      "New best 0.5738045738045738\n",
      "0.5738045738045738 gini 5 2 20\n",
      "New best 0.5919477693144721\n",
      "0.5919477693144721 entropy 5 2 15\n",
      "New best 0.5921908893709328\n",
      "0.5921908893709328 gini 7 2 16\n",
      "New best 0.5973451327433628\n",
      "0.5973451327433628 gini 7 2 32\n",
      "New best 0.5995423340961099\n",
      "0.5995423340961099 gini 9 2 32\n",
      "0.5995423340961099 gini 9 2 32\n",
      "F1 score: \t 0.5995\n",
      "[[1206  235]\n",
      " [ 115  262]]\n"
     ]
    }
   ],
   "source": [
    "best_result_4 = 0\n",
    "\n",
    "features_downsampled, target_downsampled = downsample(features_train, target_train, 0.3)\n",
    "criteria = ['gini', 'entropy']\n",
    "\n",
    "for depth in range(1, 15):\n",
    "    for crit in criteria:\n",
    "        for split in splitters:\n",
    "            for leaf in range(15, 45): \n",
    "                model_4 = DecisionTreeClassifier(random_state = 12345, criterion = crit, max_depth = depth\n",
    "                                                 , min_samples_split = 2, min_samples_leaf = leaf, splitter = split)\n",
    "                \n",
    "                model_4.fit(features_downsampled, target_downsampled)\n",
    "                predicted_valid_4 = model_4.predict(features_valid)\n",
    "                f1 = f1_score(target_valid, predicted_valid_4)\n",
    "                if f1 > best_result_4:\n",
    "                    \n",
    "                    print('New best', f1)\n",
    "                    best_model_4 = model_4\n",
    "                    best_model_result_4 = predicted_valid_4\n",
    "                    best_result_4 = f1\n",
    "                    best_crit_4 = crit\n",
    "                    best_depth_4 = depth\n",
    "                    best_ms_4 = 2\n",
    "                    best_leaf_4 = leaf\n",
    "                    best_splitt_4 = split\n",
    "                    print(best_result_4, best_crit_4, best_depth_4, best_ms_4, best_leaf_4)\n",
    "\n",
    "print(best_result_4, best_crit_4, best_depth_4, best_ms_4, best_leaf_4)\n",
    "\n",
    "print('F1 score:', '\\t', round(f1_score(target_valid, best_model_result_4), 4)) \n",
    "print(confusion_matrix(target_valid, best_model_result_4))"
   ]
  },
  {
   "cell_type": "code",
   "execution_count": 62,
   "metadata": {},
   "outputs": [
    {
     "name": "stdout",
     "output_type": "stream",
     "text": [
      "0.5248091603053435\n"
     ]
    }
   ],
   "source": [
    "model_t = DecisionTreeClassifier(random_state = 12345, criterion = 'entropy', max_depth = 6\n",
    "                                                 , max_leaf_nodes = 19, min_samples_leaf = 20)\n",
    "model.fit(features_downsampled, target_downsampled)\n",
    "predicted_valid_t = model_4.predict(features_valid)\n",
    "f1_t = f1_score(target_valid, predicted_valid_4)\n",
    "print(f1_t)"
   ]
  },
  {
   "cell_type": "code",
   "execution_count": 63,
   "metadata": {},
   "outputs": [
    {
     "name": "stdout",
     "output_type": "stream",
     "text": [
      "0.8051686402568213\n"
     ]
    }
   ],
   "source": [
    "probabilities_valid = model_4.predict_proba(features_valid)\n",
    "probabilities_one_valid = probabilities_valid[:, 1]\n",
    "\n",
    "auc_roc = roc_auc_score(target_valid, probabilities_one_valid)\n",
    "print(auc_roc)"
   ]
  },
  {
   "cell_type": "code",
   "execution_count": 64,
   "metadata": {},
   "outputs": [
    {
     "data": {
      "image/png": "[encoded data removed]",
      "text/plain": [
       "<Figure size 432x288 with 1 Axes>"
      ]
     },
     "metadata": {
      "needs_background": "light"
     },
     "output_type": "display_data"
    }
   ],
   "source": [
    "fpr, tpr, thresholds = roc_curve(target_valid, probabilities_one_valid)  # < напишите код здесь >\n",
    "\n",
    "plt.figure()\n",
    "plt.plot([0, 1], [0, 1], linestyle='--')\n",
    "plt.plot(fpr, tpr)\n",
    "plt.xlim([0.0, 1.0])\n",
    "plt.ylim([0.0, 1.0])\n",
    "plt.xlabel('False Positive Rate')\n",
    "plt.ylabel('True Positive Rate')\n",
    "plt.title('ROC-кривая')\n",
    "plt.show() "
   ]
  },
  {
   "cell_type": "markdown",
   "metadata": {},
   "source": [
    "# Выводы. Борьба с дисбалансом \n",
    "\n",
    "Для LogisticRegression самое высокое значение f1 метрики при добавлении в модель параметра class_weight = 'balanced' - 0.51 и с вероятностью 77% будет давать положительный прогноз.\n",
    "\n",
    "Увеличение/уменьшение выборки тоже дают значительное улучшение (в сравнении с самым первым результатом (там был 0)), но они все равно имеют меньшее значение метрики f1 - всего 0.34. И вероятности получить положительный прогноз для этих моделей всего 50%. \n",
    "\n",
    "\n",
    "**Для DecisionTreeClassifier самое высокое значение f1 метрики было для способа с увеличением выборки получилось 0.6252**, а вероятность получить положительный прогноз равна 80%, варианты с увеличением и с уменьшением и class_weight = balanced модели показывают почти такой же хороший результат f1 ~0.60, но вероятности получить хороший прогноз меньше 76%\n",
    "\n",
    "\n",
    "Тест будет проходит на модель DecisionTreeClassifier"
   ]
  },
  {
   "cell_type": "markdown",
   "metadata": {},
   "source": [
    "## Тестирование модели"
   ]
  },
  {
   "cell_type": "markdown",
   "metadata": {},
   "source": [
    "### DecisionTreeClassifier"
   ]
  },
  {
   "cell_type": "code",
   "execution_count": 65,
   "metadata": {},
   "outputs": [
    {
     "name": "stdout",
     "output_type": "stream",
     "text": [
      "F1 score: \t 0.5787\n",
      "F1 score: \t 0.5624\n"
     ]
    }
   ],
   "source": [
    "#gini 11 2 39 random\n",
    "\n",
    "features_upsampled, target_upsampled = upsample(features_train, target_train, 4)\n",
    "model_3 =  DecisionTreeClassifier(random_state = 12345, criterion = 'gini', max_depth = 11\n",
    "                                                     , min_samples_split = 2, min_samples_leaf = 39\n",
    "                                                     , splitter = 'random')\n",
    "\n",
    "model_3.fit(features_upsampled, target_upsampled)\n",
    "mod_pr = model_3.predict(features_valid)\n",
    "best_predicted = model_3.predict(features_test)\n",
    "print('F1 score:', '\\t', round(f1_score(target_valid, mod_pr), 4)) \n",
    "print('F1 score:', '\\t', round(f1_score(target_test, best_predicted), 4)) "
   ]
  },
  {
   "cell_type": "markdown",
   "metadata": {},
   "source": [
    "#### Результат \n",
    "**На тренировочной выборке получилось сделать модель, дающую f1 меру = .625, тестовой макс результат - .597**"
   ]
  },
  {
   "cell_type": "markdown",
   "metadata": {},
   "source": [
    "### Конец"
   ]
  },
  {
   "cell_type": "code",
   "execution_count": null,
   "metadata": {},
   "outputs": [],
   "source": []
  }
 ],
 "metadata": {
  "ExecuteTimeLog": [
   {
    "duration": 46,
    "start_time": "2023-11-20T19:43:23.012Z"
   },
   {
    "duration": 1539,
    "start_time": "2023-11-20T19:43:28.435Z"
   },
   {
    "duration": 80,
    "start_time": "2023-11-20T19:43:30.863Z"
   },
   {
    "duration": 52,
    "start_time": "2023-11-20T19:45:40.342Z"
   },
   {
    "duration": 79,
    "start_time": "2023-11-20T19:45:56.475Z"
   },
   {
    "duration": 45,
    "start_time": "2023-11-20T19:47:06.548Z"
   },
   {
    "duration": 55,
    "start_time": "2023-11-20T19:47:22.219Z"
   },
   {
    "duration": 46,
    "start_time": "2023-11-20T19:47:30.878Z"
   },
   {
    "duration": 47,
    "start_time": "2023-11-20T19:47:36.216Z"
   },
   {
    "duration": 92,
    "start_time": "2023-11-20T19:47:59.321Z"
   },
   {
    "duration": 157,
    "start_time": "2023-11-20T19:48:04.893Z"
   },
   {
    "duration": 9,
    "start_time": "2023-11-20T19:48:22.688Z"
   },
   {
    "duration": 12,
    "start_time": "2023-11-20T19:55:47.458Z"
   },
   {
    "duration": 9,
    "start_time": "2023-11-20T19:57:28.915Z"
   },
   {
    "duration": 7806,
    "start_time": "2023-11-20T19:57:47.503Z"
   },
   {
    "duration": 8597,
    "start_time": "2023-11-20T19:57:58.472Z"
   },
   {
    "duration": 11,
    "start_time": "2023-11-20T20:00:27.540Z"
   },
   {
    "duration": 52939,
    "start_time": "2023-11-20T20:00:37.013Z"
   },
   {
    "duration": 10,
    "start_time": "2023-11-20T20:01:47.791Z"
   },
   {
    "duration": 53791,
    "start_time": "2023-11-20T20:01:53.336Z"
   },
   {
    "duration": 5,
    "start_time": "2023-11-20T20:05:24.226Z"
   },
   {
    "duration": 8,
    "start_time": "2023-11-20T20:05:46.323Z"
   },
   {
    "duration": 9,
    "start_time": "2023-11-20T20:06:07.956Z"
   },
   {
    "duration": 8,
    "start_time": "2023-11-20T20:06:26.801Z"
   },
   {
    "duration": 36,
    "start_time": "2023-11-20T20:06:28.629Z"
   },
   {
    "duration": 8,
    "start_time": "2023-11-20T20:06:29.122Z"
   },
   {
    "duration": 4,
    "start_time": "2023-11-20T20:06:31.341Z"
   },
   {
    "duration": 10,
    "start_time": "2023-11-20T20:06:32.284Z"
   },
   {
    "duration": 36,
    "start_time": "2023-11-20T20:06:44.269Z"
   },
   {
    "duration": 9,
    "start_time": "2023-11-20T20:06:44.537Z"
   },
   {
    "duration": 5,
    "start_time": "2023-11-20T20:06:45.277Z"
   },
   {
    "duration": 11,
    "start_time": "2023-11-20T20:06:45.663Z"
   },
   {
    "duration": 9,
    "start_time": "2023-11-20T20:07:52.294Z"
   },
   {
    "duration": 6,
    "start_time": "2023-11-20T20:08:07.854Z"
   },
   {
    "duration": 6,
    "start_time": "2023-11-20T20:08:19.629Z"
   },
   {
    "duration": 8,
    "start_time": "2023-11-20T20:08:26.897Z"
   },
   {
    "duration": 7,
    "start_time": "2023-11-20T20:09:05.456Z"
   },
   {
    "duration": 7,
    "start_time": "2023-11-20T20:09:14.336Z"
   },
   {
    "duration": 19,
    "start_time": "2023-11-20T20:09:20.702Z"
   },
   {
    "duration": 8,
    "start_time": "2023-11-20T20:09:26.630Z"
   },
   {
    "duration": 11,
    "start_time": "2023-11-20T20:10:38.651Z"
   },
   {
    "duration": 11,
    "start_time": "2023-11-20T20:10:46.392Z"
   },
   {
    "duration": 9,
    "start_time": "2023-11-20T20:14:00.016Z"
   },
   {
    "duration": 11,
    "start_time": "2023-11-20T20:15:10.069Z"
   },
   {
    "duration": 12,
    "start_time": "2023-11-20T20:16:55.710Z"
   },
   {
    "duration": 3,
    "start_time": "2023-11-20T20:17:35.353Z"
   },
   {
    "duration": 65655,
    "start_time": "2023-11-20T20:17:37.066Z"
   },
   {
    "duration": 2,
    "start_time": "2023-11-20T20:45:59.825Z"
   },
   {
    "duration": 3,
    "start_time": "2023-11-20T20:46:09.006Z"
   },
   {
    "duration": 1154,
    "start_time": "2023-11-20T20:47:56.334Z"
   },
   {
    "duration": 4,
    "start_time": "2023-11-20T20:48:03.324Z"
   },
   {
    "duration": 6,
    "start_time": "2023-11-20T20:48:55.703Z"
   },
   {
    "duration": 4,
    "start_time": "2023-11-20T20:49:57.840Z"
   },
   {
    "duration": 10,
    "start_time": "2023-11-20T20:52:14.062Z"
   },
   {
    "duration": 3,
    "start_time": "2023-11-20T20:52:24.994Z"
   },
   {
    "duration": 9,
    "start_time": "2023-11-20T20:52:29.718Z"
   },
   {
    "duration": 12,
    "start_time": "2023-11-20T20:54:50.236Z"
   },
   {
    "duration": 3,
    "start_time": "2023-11-20T20:55:46.718Z"
   },
   {
    "duration": 23,
    "start_time": "2023-11-20T20:55:49.748Z"
   },
   {
    "duration": 9,
    "start_time": "2023-11-20T21:01:07.257Z"
   },
   {
    "duration": 16,
    "start_time": "2023-11-20T21:01:22.112Z"
   },
   {
    "duration": 3,
    "start_time": "2023-11-20T21:01:42.137Z"
   },
   {
    "duration": 14,
    "start_time": "2023-11-20T21:01:48.464Z"
   },
   {
    "duration": 1201,
    "start_time": "2023-11-20T21:04:02.739Z"
   },
   {
    "duration": 9,
    "start_time": "2023-11-20T21:04:32.710Z"
   },
   {
    "duration": 10,
    "start_time": "2023-11-20T21:05:01.160Z"
   },
   {
    "duration": 3,
    "start_time": "2023-11-20T21:05:31.486Z"
   },
   {
    "duration": 8,
    "start_time": "2023-11-20T21:05:40.163Z"
   },
   {
    "duration": 10,
    "start_time": "2023-11-20T21:05:48.695Z"
   },
   {
    "duration": 12,
    "start_time": "2023-11-20T21:06:41.707Z"
   },
   {
    "duration": 8,
    "start_time": "2023-11-20T21:07:27.801Z"
   },
   {
    "duration": 7,
    "start_time": "2023-11-20T21:07:32.408Z"
   },
   {
    "duration": 5,
    "start_time": "2023-11-20T21:07:42.341Z"
   },
   {
    "duration": 5,
    "start_time": "2023-11-20T21:08:02.674Z"
   },
   {
    "duration": 12,
    "start_time": "2023-11-20T21:08:32.402Z"
   },
   {
    "duration": 19,
    "start_time": "2023-11-20T21:09:35.636Z"
   },
   {
    "duration": 19,
    "start_time": "2023-11-20T21:09:58.196Z"
   },
   {
    "duration": 12,
    "start_time": "2023-11-20T21:11:28.035Z"
   },
   {
    "duration": 5,
    "start_time": "2023-11-20T21:15:32.198Z"
   },
   {
    "duration": 3,
    "start_time": "2023-11-20T21:16:40.304Z"
   },
   {
    "duration": 8,
    "start_time": "2023-11-20T21:17:22.327Z"
   },
   {
    "duration": 3,
    "start_time": "2023-11-20T21:18:01.987Z"
   },
   {
    "duration": 119,
    "start_time": "2023-11-20T21:18:05.311Z"
   },
   {
    "duration": 151,
    "start_time": "2023-11-20T21:18:24.512Z"
   },
   {
    "duration": 19653,
    "start_time": "2023-11-20T21:19:44.126Z"
   },
   {
    "duration": 129,
    "start_time": "2023-11-20T21:22:41.878Z"
   },
   {
    "duration": 5,
    "start_time": "2023-11-20T21:22:42.009Z"
   },
   {
    "duration": 6,
    "start_time": "2023-11-20T21:22:52.195Z"
   },
   {
    "duration": 20,
    "start_time": "2023-11-20T21:22:55.819Z"
   },
   {
    "duration": 6,
    "start_time": "2023-11-20T21:22:57.557Z"
   },
   {
    "duration": 126,
    "start_time": "2023-11-20T21:22:58.962Z"
   },
   {
    "duration": 4544,
    "start_time": "2023-11-20T21:23:19.489Z"
   },
   {
    "duration": 126,
    "start_time": "2023-11-20T21:23:33.607Z"
   },
   {
    "duration": 144,
    "start_time": "2023-11-20T21:24:08.865Z"
   },
   {
    "duration": 116,
    "start_time": "2023-11-20T21:24:12.900Z"
   },
   {
    "duration": 128,
    "start_time": "2023-11-20T21:24:16.412Z"
   },
   {
    "duration": 121,
    "start_time": "2023-11-20T21:24:20.205Z"
   },
   {
    "duration": 6,
    "start_time": "2023-11-20T21:27:25.051Z"
   },
   {
    "duration": 10,
    "start_time": "2023-11-20T21:27:33.085Z"
   },
   {
    "duration": 5,
    "start_time": "2023-11-20T21:27:46.206Z"
   },
   {
    "duration": 2,
    "start_time": "2023-11-20T21:27:55.490Z"
   },
   {
    "duration": 3,
    "start_time": "2023-11-20T21:27:55.907Z"
   },
   {
    "duration": 4,
    "start_time": "2023-11-20T21:27:56.915Z"
   },
   {
    "duration": 5,
    "start_time": "2023-11-20T21:27:57.250Z"
   },
   {
    "duration": 5,
    "start_time": "2023-11-20T21:27:57.636Z"
   },
   {
    "duration": 23,
    "start_time": "2023-11-20T21:27:59.688Z"
   },
   {
    "duration": 28,
    "start_time": "2023-11-20T21:28:02.748Z"
   },
   {
    "duration": 108,
    "start_time": "2023-11-20T21:28:47.536Z"
   },
   {
    "duration": 3,
    "start_time": "2023-11-20T21:29:40.744Z"
   },
   {
    "duration": 5,
    "start_time": "2023-11-20T21:30:13.216Z"
   },
   {
    "duration": 93,
    "start_time": "2023-11-20T21:30:26.523Z"
   },
   {
    "duration": 4,
    "start_time": "2023-11-20T21:30:31.177Z"
   },
   {
    "duration": 3,
    "start_time": "2023-11-20T21:31:18.743Z"
   },
   {
    "duration": 7,
    "start_time": "2023-11-20T21:31:49.533Z"
   },
   {
    "duration": 4,
    "start_time": "2023-11-20T21:34:21.294Z"
   },
   {
    "duration": 11,
    "start_time": "2023-11-20T21:35:06.827Z"
   },
   {
    "duration": 5,
    "start_time": "2023-11-20T21:35:15.984Z"
   },
   {
    "duration": 9,
    "start_time": "2023-11-20T21:35:25.613Z"
   },
   {
    "duration": 9,
    "start_time": "2023-11-20T21:38:27.858Z"
   },
   {
    "duration": 9,
    "start_time": "2023-11-20T21:40:01.901Z"
   },
   {
    "duration": 9,
    "start_time": "2023-11-20T21:40:19.148Z"
   },
   {
    "duration": 9,
    "start_time": "2023-11-20T21:40:35.065Z"
   },
   {
    "duration": 43,
    "start_time": "2023-11-21T21:37:13.379Z"
   },
   {
    "duration": 1453,
    "start_time": "2023-11-21T21:37:18.510Z"
   },
   {
    "duration": 4,
    "start_time": "2023-11-21T21:37:22.263Z"
   },
   {
    "duration": 76,
    "start_time": "2023-11-21T21:37:23.350Z"
   },
   {
    "duration": 9,
    "start_time": "2023-11-21T21:37:23.812Z"
   },
   {
    "duration": 4,
    "start_time": "2023-11-21T21:37:24.955Z"
   },
   {
    "duration": 14,
    "start_time": "2023-11-21T21:37:25.446Z"
   },
   {
    "duration": 11,
    "start_time": "2023-11-21T21:37:26.806Z"
   },
   {
    "duration": 8,
    "start_time": "2023-11-21T21:37:29.610Z"
   },
   {
    "duration": 12,
    "start_time": "2023-11-21T21:37:30.230Z"
   },
   {
    "duration": 20,
    "start_time": "2023-11-21T21:37:30.766Z"
   },
   {
    "duration": 5,
    "start_time": "2023-11-21T21:37:31.263Z"
   },
   {
    "duration": 115,
    "start_time": "2023-11-21T21:37:32.986Z"
   },
   {
    "duration": 8,
    "start_time": "2023-11-21T21:37:34.301Z"
   },
   {
    "duration": 9,
    "start_time": "2023-11-21T21:37:34.782Z"
   },
   {
    "duration": 5,
    "start_time": "2023-11-21T21:37:35.211Z"
   },
   {
    "duration": 2,
    "start_time": "2023-11-21T21:37:35.642Z"
   },
   {
    "duration": 3,
    "start_time": "2023-11-21T21:37:36.213Z"
   },
   {
    "duration": 3,
    "start_time": "2023-11-21T21:37:36.696Z"
   },
   {
    "duration": 5,
    "start_time": "2023-11-21T21:37:36.942Z"
   },
   {
    "duration": 6,
    "start_time": "2023-11-21T21:37:37.218Z"
   },
   {
    "duration": 20,
    "start_time": "2023-11-21T21:37:38.140Z"
   },
   {
    "duration": 70,
    "start_time": "2023-11-21T21:37:40.027Z"
   },
   {
    "duration": 8,
    "start_time": "2023-11-21T21:37:49.250Z"
   },
   {
    "duration": 1199,
    "start_time": "2023-11-21T21:38:04.492Z"
   },
   {
    "duration": 1234,
    "start_time": "2023-11-21T21:38:36.515Z"
   },
   {
    "duration": 1230,
    "start_time": "2023-11-21T21:38:45.045Z"
   },
   {
    "duration": 148,
    "start_time": "2023-11-21T21:40:48.191Z"
   },
   {
    "duration": 232,
    "start_time": "2023-11-21T21:41:05.506Z"
   },
   {
    "duration": 151,
    "start_time": "2023-11-21T21:41:09.294Z"
   },
   {
    "duration": 9,
    "start_time": "2023-11-21T21:41:21.138Z"
   },
   {
    "duration": 128,
    "start_time": "2023-11-21T21:41:26.198Z"
   },
   {
    "duration": 150,
    "start_time": "2023-11-21T21:41:29.663Z"
   },
   {
    "duration": 322,
    "start_time": "2023-11-21T21:41:45.132Z"
   },
   {
    "duration": 11,
    "start_time": "2023-11-21T21:42:46.305Z"
   },
   {
    "duration": 10,
    "start_time": "2023-11-21T21:43:28.600Z"
   },
   {
    "duration": 13,
    "start_time": "2023-11-21T21:44:02.700Z"
   },
   {
    "duration": 10,
    "start_time": "2023-11-21T21:44:24.667Z"
   },
   {
    "duration": 4,
    "start_time": "2023-11-21T21:44:35.678Z"
   },
   {
    "duration": 8,
    "start_time": "2023-11-21T21:44:39.033Z"
   },
   {
    "duration": 5,
    "start_time": "2023-11-21T21:44:53.138Z"
   },
   {
    "duration": 120,
    "start_time": "2023-11-21T21:45:13.877Z"
   },
   {
    "duration": 289,
    "start_time": "2023-11-21T21:45:20.868Z"
   },
   {
    "duration": 11,
    "start_time": "2023-11-21T21:45:27.218Z"
   },
   {
    "duration": 1180,
    "start_time": "2023-11-21T21:45:42.958Z"
   },
   {
    "duration": 224,
    "start_time": "2023-11-21T21:45:44.617Z"
   },
   {
    "duration": 276,
    "start_time": "2023-11-21T21:45:45.680Z"
   },
   {
    "duration": 5,
    "start_time": "2023-11-21T21:45:49.058Z"
   },
   {
    "duration": 10,
    "start_time": "2023-11-21T21:45:50.445Z"
   },
   {
    "duration": 13,
    "start_time": "2023-11-21T21:46:56.231Z"
   },
   {
    "duration": 4,
    "start_time": "2023-11-21T21:51:04.918Z"
   },
   {
    "duration": 34,
    "start_time": "2023-11-21T21:54:55.834Z"
   },
   {
    "duration": 235,
    "start_time": "2023-11-21T21:55:02.992Z"
   },
   {
    "duration": 71,
    "start_time": "2023-11-21T21:55:11.828Z"
   },
   {
    "duration": 237,
    "start_time": "2023-11-21T21:55:14.758Z"
   },
   {
    "duration": 75,
    "start_time": "2023-11-21T21:55:23.723Z"
   },
   {
    "duration": 4,
    "start_time": "2023-11-21T21:55:39.237Z"
   },
   {
    "duration": 4,
    "start_time": "2023-11-21T21:56:04.431Z"
   },
   {
    "duration": 5,
    "start_time": "2023-11-21T21:57:05.717Z"
   },
   {
    "duration": 4,
    "start_time": "2023-11-21T21:57:07.069Z"
   },
   {
    "duration": 12,
    "start_time": "2023-11-21T21:57:34.177Z"
   },
   {
    "duration": 8,
    "start_time": "2023-11-21T21:57:49.107Z"
   },
   {
    "duration": 9,
    "start_time": "2023-11-21T22:02:36.762Z"
   },
   {
    "duration": 24,
    "start_time": "2023-11-21T22:02:45.313Z"
   },
   {
    "duration": 10,
    "start_time": "2023-11-21T22:03:21.263Z"
   },
   {
    "duration": 3,
    "start_time": "2023-11-21T22:04:19.250Z"
   },
   {
    "duration": 4,
    "start_time": "2023-11-21T22:05:25.089Z"
   },
   {
    "duration": 56,
    "start_time": "2023-11-21T22:06:05.311Z"
   },
   {
    "duration": 4,
    "start_time": "2023-11-21T22:07:15.818Z"
   },
   {
    "duration": 22,
    "start_time": "2023-11-21T22:07:17.571Z"
   },
   {
    "duration": 4,
    "start_time": "2023-11-21T22:10:07.471Z"
   },
   {
    "duration": 97,
    "start_time": "2023-11-21T22:10:22.949Z"
   },
   {
    "duration": 29,
    "start_time": "2023-11-21T22:10:27.637Z"
   },
   {
    "duration": 11,
    "start_time": "2023-11-21T22:10:33.524Z"
   },
   {
    "duration": 11,
    "start_time": "2023-11-21T22:11:23.741Z"
   },
   {
    "duration": 7,
    "start_time": "2023-11-21T22:11:32.309Z"
   },
   {
    "duration": 9,
    "start_time": "2023-11-21T22:12:33.354Z"
   },
   {
    "duration": 4,
    "start_time": "2023-11-21T22:12:47.306Z"
   },
   {
    "duration": 198,
    "start_time": "2023-11-21T22:12:53.842Z"
   },
   {
    "duration": 11,
    "start_time": "2023-11-21T22:13:52.655Z"
   },
   {
    "duration": 198,
    "start_time": "2023-11-21T22:13:54.567Z"
   },
   {
    "duration": 123,
    "start_time": "2023-11-21T22:14:00.123Z"
   },
   {
    "duration": 203,
    "start_time": "2023-11-21T22:14:02.887Z"
   },
   {
    "duration": 109,
    "start_time": "2023-11-21T22:14:11.440Z"
   },
   {
    "duration": 194,
    "start_time": "2023-11-21T22:14:13.607Z"
   },
   {
    "duration": 209,
    "start_time": "2023-11-21T22:14:49.175Z"
   },
   {
    "duration": 200,
    "start_time": "2023-11-21T22:15:00.689Z"
   },
   {
    "duration": 29,
    "start_time": "2023-11-21T22:17:48.385Z"
   },
   {
    "duration": 15,
    "start_time": "2023-11-21T22:18:20.351Z"
   },
   {
    "duration": 109,
    "start_time": "2023-11-21T22:19:01.376Z"
   },
   {
    "duration": 106,
    "start_time": "2023-11-21T22:19:09.130Z"
   },
   {
    "duration": 190,
    "start_time": "2023-11-21T22:19:13.070Z"
   },
   {
    "duration": 7,
    "start_time": "2023-11-21T22:19:29.235Z"
   },
   {
    "duration": 192,
    "start_time": "2023-11-21T22:19:30.829Z"
   },
   {
    "duration": 110,
    "start_time": "2023-11-21T22:19:35.315Z"
   },
   {
    "duration": 28,
    "start_time": "2023-11-21T22:20:23.471Z"
   },
   {
    "duration": 9,
    "start_time": "2023-11-21T22:20:24.373Z"
   },
   {
    "duration": 7,
    "start_time": "2023-11-21T22:20:27.666Z"
   },
   {
    "duration": 102,
    "start_time": "2023-11-21T22:20:28.416Z"
   },
   {
    "duration": 22,
    "start_time": "2023-11-21T22:21:22.727Z"
   },
   {
    "duration": 7,
    "start_time": "2023-11-21T22:22:17.537Z"
   },
   {
    "duration": 106,
    "start_time": "2023-11-21T22:22:19.490Z"
   },
   {
    "duration": 60,
    "start_time": "2023-11-21T22:23:36.290Z"
   },
   {
    "duration": 8,
    "start_time": "2023-11-21T22:23:39.780Z"
   },
   {
    "duration": 104,
    "start_time": "2023-11-21T22:23:40.994Z"
   },
   {
    "duration": 21,
    "start_time": "2023-11-21T22:23:45.925Z"
   },
   {
    "duration": 7,
    "start_time": "2023-11-21T22:24:09.325Z"
   },
   {
    "duration": 103,
    "start_time": "2023-11-21T22:24:09.821Z"
   },
   {
    "duration": 22,
    "start_time": "2023-11-21T22:25:19.727Z"
   },
   {
    "duration": 16,
    "start_time": "2023-11-21T22:25:20.335Z"
   },
   {
    "duration": 11,
    "start_time": "2023-11-21T22:25:21.457Z"
   },
   {
    "duration": 107,
    "start_time": "2023-11-21T22:25:21.905Z"
   },
   {
    "duration": 4,
    "start_time": "2023-11-21T22:25:22.925Z"
   },
   {
    "duration": 103,
    "start_time": "2023-11-21T22:25:23.443Z"
   },
   {
    "duration": 8,
    "start_time": "2023-11-21T22:25:23.853Z"
   },
   {
    "duration": 105,
    "start_time": "2023-11-21T22:25:24.201Z"
   },
   {
    "duration": 5,
    "start_time": "2023-11-21T22:25:24.770Z"
   },
   {
    "duration": 24,
    "start_time": "2023-11-21T22:25:25.193Z"
   },
   {
    "duration": 11,
    "start_time": "2023-11-21T22:25:25.461Z"
   },
   {
    "duration": 109,
    "start_time": "2023-11-21T22:25:25.869Z"
   },
   {
    "duration": 28,
    "start_time": "2023-11-21T22:25:27.072Z"
   },
   {
    "duration": 9,
    "start_time": "2023-11-21T22:25:27.364Z"
   },
   {
    "duration": 66,
    "start_time": "2023-11-21T22:28:52.680Z"
   },
   {
    "duration": 8,
    "start_time": "2023-11-21T22:29:03.707Z"
   },
   {
    "duration": 102,
    "start_time": "2023-11-21T22:29:04.764Z"
   },
   {
    "duration": 20,
    "start_time": "2023-11-21T22:29:21.563Z"
   },
   {
    "duration": 9,
    "start_time": "2023-11-21T22:29:23.775Z"
   },
   {
    "duration": 107,
    "start_time": "2023-11-21T22:29:24.783Z"
   },
   {
    "duration": 103,
    "start_time": "2023-11-21T22:29:42.449Z"
   },
   {
    "duration": 22,
    "start_time": "2023-11-21T22:29:45.572Z"
   },
   {
    "duration": 40,
    "start_time": "2023-11-21T22:29:45.907Z"
   },
   {
    "duration": 9,
    "start_time": "2023-11-21T22:29:46.515Z"
   },
   {
    "duration": 113,
    "start_time": "2023-11-21T22:29:47.033Z"
   },
   {
    "duration": 58,
    "start_time": "2023-11-21T22:30:44.252Z"
   },
   {
    "duration": 7,
    "start_time": "2023-11-21T22:30:45.040Z"
   },
   {
    "duration": 183,
    "start_time": "2023-11-21T22:30:45.680Z"
   },
   {
    "duration": 22,
    "start_time": "2023-11-21T22:31:09.318Z"
   },
   {
    "duration": 7,
    "start_time": "2023-11-21T22:31:10.297Z"
   },
   {
    "duration": 107,
    "start_time": "2023-11-21T22:31:10.924Z"
   },
   {
    "duration": 29,
    "start_time": "2023-11-21T22:31:30.857Z"
   },
   {
    "duration": 8,
    "start_time": "2023-11-21T22:31:31.325Z"
   },
   {
    "duration": 7,
    "start_time": "2023-11-21T22:31:31.761Z"
   },
   {
    "duration": 104,
    "start_time": "2023-11-21T22:31:32.411Z"
   },
   {
    "duration": 57,
    "start_time": "2023-11-21T22:31:42.706Z"
   },
   {
    "duration": 6,
    "start_time": "2023-11-21T22:31:44.398Z"
   },
   {
    "duration": 107,
    "start_time": "2023-11-21T22:31:45.156Z"
   },
   {
    "duration": 21,
    "start_time": "2023-11-21T22:31:45.959Z"
   },
   {
    "duration": 6,
    "start_time": "2023-11-21T22:31:46.442Z"
   },
   {
    "duration": 102,
    "start_time": "2023-11-21T22:31:46.822Z"
   },
   {
    "duration": 28,
    "start_time": "2023-11-21T22:34:35.677Z"
   },
   {
    "duration": 9,
    "start_time": "2023-11-21T22:34:37.700Z"
   },
   {
    "duration": 7,
    "start_time": "2023-11-21T22:34:54.503Z"
   },
   {
    "duration": 103,
    "start_time": "2023-11-21T22:34:55.150Z"
   },
   {
    "duration": 60,
    "start_time": "2023-11-21T22:35:03.207Z"
   },
   {
    "duration": 7,
    "start_time": "2023-11-21T22:35:03.857Z"
   },
   {
    "duration": 110,
    "start_time": "2023-11-21T22:35:04.904Z"
   },
   {
    "duration": 22,
    "start_time": "2023-11-21T22:35:08.693Z"
   },
   {
    "duration": 7,
    "start_time": "2023-11-21T22:35:09.033Z"
   },
   {
    "duration": 5778,
    "start_time": "2023-11-21T22:43:27.572Z"
   },
   {
    "duration": 21,
    "start_time": "2023-11-21T22:43:40.442Z"
   },
   {
    "duration": 45197,
    "start_time": "2023-11-21T22:46:17.291Z"
   },
   {
    "duration": 45107,
    "start_time": "2023-11-21T22:47:18.878Z"
   },
   {
    "duration": 45852,
    "start_time": "2023-11-21T22:48:46.243Z"
   },
   {
    "duration": 7,
    "start_time": "2023-11-21T22:51:03.170Z"
   },
   {
    "duration": 12,
    "start_time": "2023-11-21T22:52:12.813Z"
   },
   {
    "duration": 5215,
    "start_time": "2023-11-21T22:52:32.937Z"
   },
   {
    "duration": 0,
    "start_time": "2023-11-21T22:52:38.245Z"
   },
   {
    "duration": 5071,
    "start_time": "2023-11-21T22:52:59.981Z"
   },
   {
    "duration": 5227,
    "start_time": "2023-11-21T22:53:25.020Z"
   },
   {
    "duration": 6156,
    "start_time": "2023-11-21T22:53:42.293Z"
   },
   {
    "duration": 57256,
    "start_time": "2023-11-21T22:55:05.020Z"
   },
   {
    "duration": 5739,
    "start_time": "2023-11-21T22:56:12.814Z"
   },
   {
    "duration": 7,
    "start_time": "2023-11-21T22:56:26.705Z"
   },
   {
    "duration": 5852,
    "start_time": "2023-11-21T22:57:02.802Z"
   },
   {
    "duration": 64798,
    "start_time": "2023-11-21T22:58:01.253Z"
   },
   {
    "duration": 14,
    "start_time": "2023-11-21T22:59:36.895Z"
   },
   {
    "duration": 5820,
    "start_time": "2023-11-21T22:59:48.431Z"
   },
   {
    "duration": 5940,
    "start_time": "2023-11-21T23:00:08.205Z"
   },
   {
    "duration": 17,
    "start_time": "2023-11-21T23:00:59.856Z"
   },
   {
    "duration": 12,
    "start_time": "2023-11-21T23:01:41.854Z"
   },
   {
    "duration": 93,
    "start_time": "2023-11-21T23:02:18.109Z"
   },
   {
    "duration": 21,
    "start_time": "2023-11-21T23:04:07.451Z"
   },
   {
    "duration": 15,
    "start_time": "2023-11-21T23:04:12.915Z"
   },
   {
    "duration": 6,
    "start_time": "2023-11-21T23:04:21.211Z"
   },
   {
    "duration": 102,
    "start_time": "2023-11-21T23:09:23.349Z"
   },
   {
    "duration": 185,
    "start_time": "2023-11-21T23:09:32.061Z"
   },
   {
    "duration": 429,
    "start_time": "2023-11-21T23:10:06.533Z"
   },
   {
    "duration": 371,
    "start_time": "2023-11-21T23:10:11.967Z"
   },
   {
    "duration": 362,
    "start_time": "2023-11-21T23:10:15.642Z"
   },
   {
    "duration": 502,
    "start_time": "2023-11-21T23:10:20.143Z"
   },
   {
    "duration": 375,
    "start_time": "2023-11-21T23:10:37.385Z"
   },
   {
    "duration": 18,
    "start_time": "2023-11-21T23:13:37.139Z"
   },
   {
    "duration": 24,
    "start_time": "2023-11-21T23:13:42.400Z"
   },
   {
    "duration": 30,
    "start_time": "2023-11-21T23:13:46.396Z"
   },
   {
    "duration": 34,
    "start_time": "2023-11-21T23:13:50.038Z"
   },
   {
    "duration": 37,
    "start_time": "2023-11-21T23:13:57.260Z"
   },
   {
    "duration": 35,
    "start_time": "2023-11-21T23:14:02.736Z"
   },
   {
    "duration": 34,
    "start_time": "2023-11-21T23:14:07.419Z"
   },
   {
    "duration": 35,
    "start_time": "2023-11-21T23:14:10.690Z"
   },
   {
    "duration": 38,
    "start_time": "2023-11-21T23:14:37.985Z"
   },
   {
    "duration": 15,
    "start_time": "2023-11-21T23:14:43.093Z"
   },
   {
    "duration": 43,
    "start_time": "2023-11-21T23:14:57.261Z"
   },
   {
    "duration": 45,
    "start_time": "2023-11-21T23:15:00.696Z"
   },
   {
    "duration": 45,
    "start_time": "2023-11-21T23:15:04.665Z"
   },
   {
    "duration": 49,
    "start_time": "2023-11-21T23:15:26.390Z"
   },
   {
    "duration": 46,
    "start_time": "2023-11-21T23:15:38.077Z"
   },
   {
    "duration": 68,
    "start_time": "2023-11-21T23:15:45.808Z"
   },
   {
    "duration": 48,
    "start_time": "2023-11-21T23:15:55.188Z"
   },
   {
    "duration": 6,
    "start_time": "2023-11-21T23:15:56.295Z"
   },
   {
    "duration": 109,
    "start_time": "2023-11-21T23:15:56.968Z"
   },
   {
    "duration": 35,
    "start_time": "2023-11-21T23:15:59.950Z"
   },
   {
    "duration": 7,
    "start_time": "2023-11-21T23:16:03.203Z"
   },
   {
    "duration": 103,
    "start_time": "2023-11-21T23:16:05.627Z"
   },
   {
    "duration": 95,
    "start_time": "2023-11-21T23:17:47.199Z"
   },
   {
    "duration": 11,
    "start_time": "2023-11-21T23:17:52.371Z"
   },
   {
    "duration": 10,
    "start_time": "2023-11-21T23:18:21.850Z"
   },
   {
    "duration": 11,
    "start_time": "2023-11-21T23:18:40.596Z"
   },
   {
    "duration": 11,
    "start_time": "2023-11-21T23:19:29.922Z"
   },
   {
    "duration": 396,
    "start_time": "2023-11-21T23:19:39.492Z"
   },
   {
    "duration": 394,
    "start_time": "2023-11-21T23:19:56.959Z"
   },
   {
    "duration": 384,
    "start_time": "2023-11-21T23:20:21.057Z"
   },
   {
    "duration": 14,
    "start_time": "2023-11-21T23:20:45.905Z"
   },
   {
    "duration": 440,
    "start_time": "2023-11-21T23:21:00.419Z"
   },
   {
    "duration": 17,
    "start_time": "2023-11-21T23:21:26.006Z"
   },
   {
    "duration": 7,
    "start_time": "2023-11-21T23:21:26.364Z"
   },
   {
    "duration": 223,
    "start_time": "2023-11-21T23:21:47.428Z"
   },
   {
    "duration": 599,
    "start_time": "2023-11-21T23:21:59.803Z"
   },
   {
    "duration": 34,
    "start_time": "2023-11-21T23:22:08.415Z"
   },
   {
    "duration": 444,
    "start_time": "2023-11-21T23:22:40.996Z"
   },
   {
    "duration": 35,
    "start_time": "2023-11-21T23:22:51.425Z"
   },
   {
    "duration": 429,
    "start_time": "2023-11-21T23:22:54.723Z"
   },
   {
    "duration": 442,
    "start_time": "2023-11-21T23:24:41.442Z"
   },
   {
    "duration": 351,
    "start_time": "2023-11-21T23:24:49.279Z"
   },
   {
    "duration": 442,
    "start_time": "2023-11-21T23:24:53.129Z"
   },
   {
    "duration": 440,
    "start_time": "2023-11-21T23:25:10.301Z"
   },
   {
    "duration": 13,
    "start_time": "2023-11-21T23:25:19.451Z"
   },
   {
    "duration": 6,
    "start_time": "2023-11-21T23:25:20.395Z"
   },
   {
    "duration": 29,
    "start_time": "2023-11-21T23:25:30.229Z"
   },
   {
    "duration": 9,
    "start_time": "2023-11-21T23:25:31.420Z"
   },
   {
    "duration": 7,
    "start_time": "2023-11-21T23:25:31.942Z"
   },
   {
    "duration": 99,
    "start_time": "2023-11-21T23:25:33.760Z"
   },
   {
    "duration": 50,
    "start_time": "2023-11-21T23:25:34.738Z"
   },
   {
    "duration": 46,
    "start_time": "2023-11-21T23:25:50.375Z"
   },
   {
    "duration": 51,
    "start_time": "2023-11-21T23:25:57.169Z"
   },
   {
    "duration": 8,
    "start_time": "2023-11-21T23:25:58.371Z"
   },
   {
    "duration": 105,
    "start_time": "2023-11-21T23:26:01.815Z"
   },
   {
    "duration": 33,
    "start_time": "2023-11-21T23:26:03.039Z"
   },
   {
    "duration": 6,
    "start_time": "2023-11-21T23:26:07.146Z"
   },
   {
    "duration": 101,
    "start_time": "2023-11-21T23:26:09.165Z"
   },
   {
    "duration": 296,
    "start_time": "2023-11-22T07:26:38.219Z"
   },
   {
    "duration": 1765,
    "start_time": "2023-11-22T07:26:46.599Z"
   },
   {
    "duration": 80,
    "start_time": "2023-11-22T07:26:52.050Z"
   },
   {
    "duration": 14,
    "start_time": "2023-11-22T07:26:52.378Z"
   },
   {
    "duration": 4,
    "start_time": "2023-11-22T07:26:53.040Z"
   },
   {
    "duration": 11,
    "start_time": "2023-11-22T07:26:53.368Z"
   },
   {
    "duration": 12,
    "start_time": "2023-11-22T07:26:54.049Z"
   },
   {
    "duration": 9,
    "start_time": "2023-11-22T07:26:54.736Z"
   },
   {
    "duration": 16,
    "start_time": "2023-11-22T07:26:55.063Z"
   },
   {
    "duration": 22,
    "start_time": "2023-11-22T07:26:55.370Z"
   },
   {
    "duration": 5,
    "start_time": "2023-11-22T07:26:55.700Z"
   },
   {
    "duration": 140,
    "start_time": "2023-11-22T07:26:56.364Z"
   },
   {
    "duration": 8,
    "start_time": "2023-11-22T07:26:57.039Z"
   },
   {
    "duration": 11,
    "start_time": "2023-11-22T07:26:57.351Z"
   },
   {
    "duration": 5,
    "start_time": "2023-11-22T07:26:57.672Z"
   },
   {
    "duration": 3,
    "start_time": "2023-11-22T07:26:57.985Z"
   },
   {
    "duration": 2,
    "start_time": "2023-11-22T07:26:58.317Z"
   },
   {
    "duration": 5,
    "start_time": "2023-11-22T07:26:58.949Z"
   },
   {
    "duration": 7,
    "start_time": "2023-11-22T07:26:59.263Z"
   },
   {
    "duration": 5,
    "start_time": "2023-11-22T07:26:59.561Z"
   },
   {
    "duration": 23,
    "start_time": "2023-11-22T07:27:00.197Z"
   },
   {
    "duration": 37,
    "start_time": "2023-11-22T07:27:01.333Z"
   },
   {
    "duration": 269,
    "start_time": "2023-11-22T07:27:01.649Z"
   },
   {
    "duration": 90,
    "start_time": "2023-11-22T07:27:01.951Z"
   },
   {
    "duration": 5,
    "start_time": "2023-11-22T07:27:02.285Z"
   },
   {
    "duration": 5,
    "start_time": "2023-11-22T07:27:02.597Z"
   },
   {
    "duration": 5,
    "start_time": "2023-11-22T07:27:02.925Z"
   },
   {
    "duration": 5,
    "start_time": "2023-11-22T07:27:03.245Z"
   },
   {
    "duration": 11,
    "start_time": "2023-11-22T07:27:03.957Z"
   },
   {
    "duration": 9,
    "start_time": "2023-11-22T07:27:04.283Z"
   },
   {
    "duration": 24,
    "start_time": "2023-11-22T07:27:05.802Z"
   },
   {
    "duration": 12,
    "start_time": "2023-11-22T07:27:06.177Z"
   },
   {
    "duration": 10,
    "start_time": "2023-11-22T07:27:06.945Z"
   },
   {
    "duration": 122,
    "start_time": "2023-11-22T07:27:07.315Z"
   },
   {
    "duration": 4,
    "start_time": "2023-11-22T07:27:09.849Z"
   },
   {
    "duration": 108,
    "start_time": "2023-11-22T07:27:10.167Z"
   },
   {
    "duration": 10,
    "start_time": "2023-11-22T07:27:10.827Z"
   },
   {
    "duration": 110,
    "start_time": "2023-11-22T07:27:11.195Z"
   },
   {
    "duration": 4,
    "start_time": "2023-11-22T07:27:11.559Z"
   },
   {
    "duration": 22,
    "start_time": "2023-11-22T07:27:11.947Z"
   },
   {
    "duration": 12,
    "start_time": "2023-11-22T07:27:12.277Z"
   },
   {
    "duration": 114,
    "start_time": "2023-11-22T07:27:12.623Z"
   },
   {
    "duration": 29,
    "start_time": "2023-11-22T07:27:13.297Z"
   },
   {
    "duration": 10,
    "start_time": "2023-11-22T07:27:13.611Z"
   },
   {
    "duration": 7,
    "start_time": "2023-11-22T07:27:13.923Z"
   },
   {
    "duration": 113,
    "start_time": "2023-11-22T07:27:14.258Z"
   },
   {
    "duration": 52,
    "start_time": "2023-11-22T07:27:14.579Z"
   },
   {
    "duration": 7,
    "start_time": "2023-11-22T07:27:14.905Z"
   },
   {
    "duration": 118,
    "start_time": "2023-11-22T07:27:15.233Z"
   },
   {
    "duration": 35,
    "start_time": "2023-11-22T07:27:15.536Z"
   },
   {
    "duration": 8,
    "start_time": "2023-11-22T07:27:15.859Z"
   },
   {
    "duration": 110,
    "start_time": "2023-11-22T07:27:16.189Z"
   },
   {
    "duration": 23,
    "start_time": "2023-11-22T07:27:17.453Z"
   },
   {
    "duration": 432,
    "start_time": "2023-11-22T07:27:18.033Z"
   },
   {
    "duration": 763,
    "start_time": "2023-11-22T07:27:34.106Z"
   },
   {
    "duration": 23,
    "start_time": "2023-11-22T07:28:05.504Z"
   },
   {
    "duration": 8,
    "start_time": "2023-11-22T07:28:15.510Z"
   },
   {
    "duration": 169,
    "start_time": "2023-11-22T07:28:52.900Z"
   },
   {
    "duration": 751,
    "start_time": "2023-11-22T07:29:30.523Z"
   },
   {
    "duration": 765,
    "start_time": "2023-11-22T07:30:01.212Z"
   },
   {
    "duration": 23,
    "start_time": "2023-11-22T07:32:40.130Z"
   },
   {
    "duration": 14,
    "start_time": "2023-11-22T07:32:40.545Z"
   },
   {
    "duration": 12,
    "start_time": "2023-11-22T07:32:41.437Z"
   },
   {
    "duration": 217,
    "start_time": "2023-11-22T07:32:41.954Z"
   },
   {
    "duration": 167,
    "start_time": "2023-11-22T07:33:12.098Z"
   },
   {
    "duration": 190,
    "start_time": "2023-11-22T07:33:18.779Z"
   },
   {
    "duration": 19,
    "start_time": "2023-11-22T07:34:00.485Z"
   },
   {
    "duration": 221,
    "start_time": "2023-11-22T07:34:08.951Z"
   },
   {
    "duration": 217,
    "start_time": "2023-11-22T07:34:21.359Z"
   },
   {
    "duration": 118,
    "start_time": "2023-11-22T07:34:28.159Z"
   },
   {
    "duration": 10,
    "start_time": "2023-11-22T07:40:50.820Z"
   },
   {
    "duration": 7,
    "start_time": "2023-11-22T07:41:42.273Z"
   },
   {
    "duration": 5,
    "start_time": "2023-11-22T07:46:42.027Z"
   },
   {
    "duration": 15,
    "start_time": "2023-11-22T07:46:47.090Z"
   },
   {
    "duration": 4,
    "start_time": "2023-11-22T07:47:12.032Z"
   },
   {
    "duration": 22,
    "start_time": "2023-11-22T07:47:14.362Z"
   },
   {
    "duration": 4,
    "start_time": "2023-11-22T07:47:24.355Z"
   },
   {
    "duration": 7,
    "start_time": "2023-11-22T07:47:26.062Z"
   },
   {
    "duration": 112,
    "start_time": "2023-11-22T07:47:26.954Z"
   },
   {
    "duration": 4,
    "start_time": "2023-11-22T07:47:39.106Z"
   },
   {
    "duration": 7,
    "start_time": "2023-11-22T07:47:39.450Z"
   },
   {
    "duration": 26,
    "start_time": "2023-11-22T07:47:39.842Z"
   },
   {
    "duration": 4,
    "start_time": "2023-11-22T07:47:45.913Z"
   },
   {
    "duration": 7,
    "start_time": "2023-11-22T07:47:46.215Z"
   },
   {
    "duration": 49,
    "start_time": "2023-11-22T07:47:46.616Z"
   },
   {
    "duration": 4,
    "start_time": "2023-11-22T07:47:53.561Z"
   },
   {
    "duration": 8,
    "start_time": "2023-11-22T07:47:53.991Z"
   },
   {
    "duration": 26,
    "start_time": "2023-11-22T07:47:54.807Z"
   },
   {
    "duration": 3,
    "start_time": "2023-11-22T07:48:02.505Z"
   },
   {
    "duration": 8,
    "start_time": "2023-11-22T07:48:02.898Z"
   },
   {
    "duration": 25,
    "start_time": "2023-11-22T07:48:03.624Z"
   },
   {
    "duration": 4,
    "start_time": "2023-11-22T07:48:08.831Z"
   },
   {
    "duration": 9,
    "start_time": "2023-11-22T07:48:09.146Z"
   },
   {
    "duration": 90,
    "start_time": "2023-11-22T07:48:09.576Z"
   },
   {
    "duration": 4,
    "start_time": "2023-11-22T07:48:21.785Z"
   },
   {
    "duration": 7,
    "start_time": "2023-11-22T07:48:22.181Z"
   },
   {
    "duration": 26,
    "start_time": "2023-11-22T07:48:22.744Z"
   },
   {
    "duration": 4,
    "start_time": "2023-11-22T07:48:28.343Z"
   },
   {
    "duration": 7,
    "start_time": "2023-11-22T07:48:28.787Z"
   },
   {
    "duration": 103,
    "start_time": "2023-11-22T07:48:29.363Z"
   },
   {
    "duration": 4,
    "start_time": "2023-11-22T07:50:23.471Z"
   },
   {
    "duration": 92,
    "start_time": "2023-11-22T07:50:24.373Z"
   },
   {
    "duration": 8,
    "start_time": "2023-11-22T07:50:42.861Z"
   },
   {
    "duration": 26,
    "start_time": "2023-11-22T07:52:31.484Z"
   },
   {
    "duration": 28,
    "start_time": "2023-11-22T07:52:35.172Z"
   },
   {
    "duration": 94,
    "start_time": "2023-11-22T07:52:38.672Z"
   },
   {
    "duration": 10,
    "start_time": "2023-11-22T07:52:39.863Z"
   },
   {
    "duration": 115,
    "start_time": "2023-11-22T07:52:40.478Z"
   },
   {
    "duration": 4,
    "start_time": "2023-11-22T07:52:44.351Z"
   },
   {
    "duration": 30,
    "start_time": "2023-11-22T07:52:47.045Z"
   },
   {
    "duration": 9,
    "start_time": "2023-11-22T07:52:49.319Z"
   },
   {
    "duration": 111,
    "start_time": "2023-11-22T07:52:50.428Z"
   },
   {
    "duration": 51,
    "start_time": "2023-11-22T07:53:14.487Z"
   },
   {
    "duration": 7,
    "start_time": "2023-11-22T07:53:16.508Z"
   },
   {
    "duration": 107,
    "start_time": "2023-11-22T07:53:18.030Z"
   },
   {
    "duration": 26,
    "start_time": "2023-11-22T07:53:22.828Z"
   },
   {
    "duration": 27,
    "start_time": "2023-11-22T07:53:27.282Z"
   },
   {
    "duration": 29,
    "start_time": "2023-11-22T07:53:30.489Z"
   },
   {
    "duration": 33,
    "start_time": "2023-11-22T07:53:33.862Z"
   },
   {
    "duration": 38,
    "start_time": "2023-11-22T07:53:37.361Z"
   },
   {
    "duration": 9,
    "start_time": "2023-11-22T07:54:03.178Z"
   },
   {
    "duration": 100,
    "start_time": "2023-11-22T07:54:52.168Z"
   },
   {
    "duration": 82,
    "start_time": "2023-11-22T07:54:57.784Z"
   },
   {
    "duration": 5,
    "start_time": "2023-11-22T07:55:01.416Z"
   },
   {
    "duration": 91,
    "start_time": "2023-11-22T07:55:01.775Z"
   },
   {
    "duration": 12,
    "start_time": "2023-11-22T07:55:18.323Z"
   },
   {
    "duration": 110,
    "start_time": "2023-11-22T07:55:19.828Z"
   },
   {
    "duration": 4,
    "start_time": "2023-11-22T07:55:22.486Z"
   },
   {
    "duration": 29,
    "start_time": "2023-11-22T07:55:23.213Z"
   },
   {
    "duration": 27,
    "start_time": "2023-11-22T07:55:46.756Z"
   },
   {
    "duration": 50,
    "start_time": "2023-11-22T07:55:52.117Z"
   },
   {
    "duration": 64,
    "start_time": "2023-11-22T07:55:55.201Z"
   },
   {
    "duration": 84,
    "start_time": "2023-11-22T07:55:58.483Z"
   },
   {
    "duration": 68,
    "start_time": "2023-11-22T07:56:01.497Z"
   },
   {
    "duration": 32,
    "start_time": "2023-11-22T07:56:05.256Z"
   },
   {
    "duration": 27,
    "start_time": "2023-11-22T07:56:08.334Z"
   },
   {
    "duration": 38,
    "start_time": "2023-11-22T07:56:11.227Z"
   },
   {
    "duration": 32,
    "start_time": "2023-11-22T07:56:17.969Z"
   },
   {
    "duration": 21,
    "start_time": "2023-11-22T07:56:24.451Z"
   },
   {
    "duration": 21,
    "start_time": "2023-11-22T07:56:30.011Z"
   },
   {
    "duration": 60,
    "start_time": "2023-11-22T07:56:33.205Z"
   },
   {
    "duration": 26,
    "start_time": "2023-11-22T07:56:39.766Z"
   },
   {
    "duration": 70,
    "start_time": "2023-11-22T07:56:46.195Z"
   },
   {
    "duration": 83,
    "start_time": "2023-11-22T07:56:52.083Z"
   },
   {
    "duration": 25,
    "start_time": "2023-11-22T07:57:58.021Z"
   },
   {
    "duration": 25,
    "start_time": "2023-11-22T07:58:03.116Z"
   },
   {
    "duration": 28,
    "start_time": "2023-11-22T07:58:07.156Z"
   },
   {
    "duration": 28,
    "start_time": "2023-11-22T07:58:10.572Z"
   },
   {
    "duration": 29,
    "start_time": "2023-11-22T07:58:13.941Z"
   },
   {
    "duration": 26,
    "start_time": "2023-11-22T07:58:38.626Z"
   },
   {
    "duration": 28,
    "start_time": "2023-11-22T07:58:42.887Z"
   },
   {
    "duration": 26,
    "start_time": "2023-11-22T07:58:57.914Z"
   },
   {
    "duration": 28,
    "start_time": "2023-11-22T07:59:04.760Z"
   },
   {
    "duration": 10,
    "start_time": "2023-11-22T07:59:15.866Z"
   },
   {
    "duration": 109,
    "start_time": "2023-11-22T07:59:17.430Z"
   },
   {
    "duration": 839,
    "start_time": "2023-11-22T08:00:02.637Z"
   },
   {
    "duration": 15,
    "start_time": "2023-11-22T08:02:02.193Z"
   },
   {
    "duration": 35,
    "start_time": "2023-11-22T08:02:08.650Z"
   },
   {
    "duration": 46,
    "start_time": "2023-11-22T08:02:12.520Z"
   },
   {
    "duration": 31,
    "start_time": "2023-11-22T08:02:15.959Z"
   },
   {
    "duration": 15,
    "start_time": "2023-11-22T08:02:42.837Z"
   },
   {
    "duration": 4,
    "start_time": "2023-11-22T08:02:47.077Z"
   },
   {
    "duration": 22,
    "start_time": "2023-11-22T08:02:47.818Z"
   },
   {
    "duration": 4,
    "start_time": "2023-11-22T08:03:13.014Z"
   },
   {
    "duration": 84,
    "start_time": "2023-11-22T08:03:13.983Z"
   },
   {
    "duration": 116,
    "start_time": "2023-11-22T08:03:19.050Z"
   },
   {
    "duration": 44,
    "start_time": "2023-11-22T08:03:22.147Z"
   },
   {
    "duration": 57,
    "start_time": "2023-11-22T08:03:25.714Z"
   },
   {
    "duration": 6598,
    "start_time": "2023-11-22T08:04:00.173Z"
   },
   {
    "duration": 64,
    "start_time": "2023-11-22T08:04:20.009Z"
   },
   {
    "duration": 73,
    "start_time": "2023-11-22T08:04:28.101Z"
   },
   {
    "duration": 142,
    "start_time": "2023-11-22T08:04:31.832Z"
   },
   {
    "duration": 168,
    "start_time": "2023-11-22T08:04:39.998Z"
   },
   {
    "duration": 184,
    "start_time": "2023-11-22T08:04:43.382Z"
   },
   {
    "duration": 190,
    "start_time": "2023-11-22T08:04:46.376Z"
   },
   {
    "duration": 180,
    "start_time": "2023-11-22T08:04:50.386Z"
   },
   {
    "duration": 198,
    "start_time": "2023-11-22T08:04:53.070Z"
   },
   {
    "duration": 404,
    "start_time": "2023-11-22T08:05:09.364Z"
   },
   {
    "duration": 388,
    "start_time": "2023-11-22T08:05:16.780Z"
   },
   {
    "duration": 284,
    "start_time": "2023-11-22T08:05:23.987Z"
   },
   {
    "duration": 284,
    "start_time": "2023-11-22T08:05:49.089Z"
   },
   {
    "duration": 218,
    "start_time": "2023-11-22T08:05:52.555Z"
   },
   {
    "duration": 15,
    "start_time": "2023-11-22T08:05:59.221Z"
   },
   {
    "duration": 510,
    "start_time": "2023-11-22T08:06:04.263Z"
   },
   {
    "duration": 391,
    "start_time": "2023-11-22T08:06:09.282Z"
   },
   {
    "duration": 254,
    "start_time": "2023-11-22T08:06:12.711Z"
   },
   {
    "duration": 431,
    "start_time": "2023-11-22T08:06:16.935Z"
   },
   {
    "duration": 357,
    "start_time": "2023-11-22T08:06:20.209Z"
   },
   {
    "duration": 328,
    "start_time": "2023-11-22T08:06:25.238Z"
   },
   {
    "duration": 415,
    "start_time": "2023-11-22T08:06:27.753Z"
   },
   {
    "duration": 415,
    "start_time": "2023-11-22T08:06:40.458Z"
   },
   {
    "duration": 53,
    "start_time": "2023-11-22T08:06:49.113Z"
   },
   {
    "duration": 27,
    "start_time": "2023-11-22T08:06:52.740Z"
   },
   {
    "duration": 111,
    "start_time": "2023-11-22T08:06:56.462Z"
   },
   {
    "duration": 36,
    "start_time": "2023-11-22T08:06:59.930Z"
   },
   {
    "duration": 217,
    "start_time": "2023-11-22T08:07:05.562Z"
   },
   {
    "duration": 124,
    "start_time": "2023-11-22T08:07:24.940Z"
   },
   {
    "duration": 214,
    "start_time": "2023-11-22T08:24:34.717Z"
   },
   {
    "duration": 94,
    "start_time": "2023-11-22T08:26:37.784Z"
   },
   {
    "duration": 87,
    "start_time": "2023-11-22T08:27:37.409Z"
   },
   {
    "duration": 186,
    "start_time": "2023-11-22T08:43:02.743Z"
   },
   {
    "duration": 87,
    "start_time": "2023-11-22T08:43:12.923Z"
   },
   {
    "duration": 91,
    "start_time": "2023-11-22T09:46:51.830Z"
   },
   {
    "duration": 87,
    "start_time": "2023-11-22T09:47:03.444Z"
   },
   {
    "duration": 133,
    "start_time": "2023-11-22T09:49:10.240Z"
   },
   {
    "duration": 128,
    "start_time": "2023-11-22T09:49:28.245Z"
   },
   {
    "duration": 49,
    "start_time": "2023-11-22T09:49:46.417Z"
   },
   {
    "duration": 28,
    "start_time": "2023-11-22T09:51:45.913Z"
   },
   {
    "duration": 20,
    "start_time": "2023-11-22T09:53:51.971Z"
   },
   {
    "duration": 4,
    "start_time": "2023-11-22T09:53:55.271Z"
   },
   {
    "duration": 39,
    "start_time": "2023-11-22T09:53:55.930Z"
   },
   {
    "duration": 8,
    "start_time": "2023-11-22T09:53:56.311Z"
   },
   {
    "duration": 4,
    "start_time": "2023-11-22T09:53:57.073Z"
   },
   {
    "duration": 11,
    "start_time": "2023-11-22T09:53:57.567Z"
   },
   {
    "duration": 11,
    "start_time": "2023-11-22T09:53:59.239Z"
   },
   {
    "duration": 9,
    "start_time": "2023-11-22T09:54:01.231Z"
   },
   {
    "duration": 12,
    "start_time": "2023-11-22T09:54:02.119Z"
   },
   {
    "duration": 23,
    "start_time": "2023-11-22T09:54:02.830Z"
   },
   {
    "duration": 6,
    "start_time": "2023-11-22T09:54:08.239Z"
   },
   {
    "duration": 120,
    "start_time": "2023-11-22T09:54:12.173Z"
   },
   {
    "duration": 5,
    "start_time": "2023-11-22T09:54:20.005Z"
   },
   {
    "duration": 3,
    "start_time": "2023-11-22T09:54:23.618Z"
   },
   {
    "duration": 5,
    "start_time": "2023-11-22T09:54:35.047Z"
   },
   {
    "duration": 6,
    "start_time": "2023-11-22T09:54:35.630Z"
   },
   {
    "duration": 6,
    "start_time": "2023-11-22T09:54:36.308Z"
   },
   {
    "duration": 23,
    "start_time": "2023-11-22T09:54:46.110Z"
   },
   {
    "duration": 19,
    "start_time": "2023-11-22T09:54:50.551Z"
   },
   {
    "duration": 40,
    "start_time": "2023-11-22T09:55:20.884Z"
   },
   {
    "duration": 8,
    "start_time": "2023-11-22T09:55:21.116Z"
   },
   {
    "duration": 4,
    "start_time": "2023-11-22T09:55:21.652Z"
   },
   {
    "duration": 11,
    "start_time": "2023-11-22T09:55:22.080Z"
   },
   {
    "duration": 12,
    "start_time": "2023-11-22T09:55:23.104Z"
   },
   {
    "duration": 8,
    "start_time": "2023-11-22T09:55:23.914Z"
   },
   {
    "duration": 12,
    "start_time": "2023-11-22T09:55:24.094Z"
   },
   {
    "duration": 21,
    "start_time": "2023-11-22T09:55:24.248Z"
   },
   {
    "duration": 5,
    "start_time": "2023-11-22T09:55:24.477Z"
   },
   {
    "duration": 114,
    "start_time": "2023-11-22T09:55:25.599Z"
   },
   {
    "duration": 5,
    "start_time": "2023-11-22T09:55:32.303Z"
   },
   {
    "duration": 6,
    "start_time": "2023-11-22T09:55:33.575Z"
   },
   {
    "duration": 5,
    "start_time": "2023-11-22T09:55:33.733Z"
   },
   {
    "duration": 23,
    "start_time": "2023-11-22T09:55:34.759Z"
   },
   {
    "duration": 17,
    "start_time": "2023-11-22T09:55:36.965Z"
   },
   {
    "duration": 88,
    "start_time": "2023-11-22T09:55:51.422Z"
   },
   {
    "duration": 5,
    "start_time": "2023-11-22T09:56:16.486Z"
   },
   {
    "duration": 10,
    "start_time": "2023-11-22T09:56:16.693Z"
   },
   {
    "duration": 5,
    "start_time": "2023-11-22T09:56:16.870Z"
   },
   {
    "duration": 3,
    "start_time": "2023-11-22T09:56:17.034Z"
   },
   {
    "duration": 2,
    "start_time": "2023-11-22T09:56:17.206Z"
   },
   {
    "duration": 3,
    "start_time": "2023-11-22T09:56:17.543Z"
   },
   {
    "duration": 5,
    "start_time": "2023-11-22T09:56:17.707Z"
   },
   {
    "duration": 5,
    "start_time": "2023-11-22T09:56:18.504Z"
   },
   {
    "duration": 26,
    "start_time": "2023-11-22T09:56:18.924Z"
   },
   {
    "duration": 35,
    "start_time": "2023-11-22T09:56:20.460Z"
   },
   {
    "duration": 95,
    "start_time": "2023-11-22T09:56:21.415Z"
   },
   {
    "duration": 252,
    "start_time": "2023-11-22T09:56:24.065Z"
   },
   {
    "duration": 210,
    "start_time": "2023-11-22T09:56:39.130Z"
   },
   {
    "duration": 95,
    "start_time": "2023-11-22T09:56:42.550Z"
   },
   {
    "duration": 5,
    "start_time": "2023-11-22T09:56:49.240Z"
   },
   {
    "duration": 4,
    "start_time": "2023-11-22T09:56:50.780Z"
   },
   {
    "duration": 6,
    "start_time": "2023-11-22T09:56:51.414Z"
   },
   {
    "duration": 5,
    "start_time": "2023-11-22T09:56:59.566Z"
   },
   {
    "duration": 11,
    "start_time": "2023-11-22T09:57:10.511Z"
   },
   {
    "duration": 9,
    "start_time": "2023-11-22T09:57:11.484Z"
   },
   {
    "duration": 6,
    "start_time": "2023-11-22T09:58:26.117Z"
   },
   {
    "duration": 25,
    "start_time": "2023-11-22T09:58:31.968Z"
   },
   {
    "duration": 45,
    "start_time": "2023-11-22T09:58:36.547Z"
   },
   {
    "duration": 224,
    "start_time": "2023-11-22T09:58:37.702Z"
   },
   {
    "duration": 93,
    "start_time": "2023-11-22T09:58:39.671Z"
   },
   {
    "duration": 5,
    "start_time": "2023-11-22T09:58:41.298Z"
   },
   {
    "duration": 4,
    "start_time": "2023-11-22T09:58:41.759Z"
   },
   {
    "duration": 7,
    "start_time": "2023-11-22T09:58:42.386Z"
   },
   {
    "duration": 5,
    "start_time": "2023-11-22T09:58:43.363Z"
   },
   {
    "duration": 10,
    "start_time": "2023-11-22T09:58:44.788Z"
   },
   {
    "duration": 10,
    "start_time": "2023-11-22T09:58:45.462Z"
   },
   {
    "duration": 25,
    "start_time": "2023-11-22T09:58:52.354Z"
   },
   {
    "duration": 77,
    "start_time": "2023-11-22T09:58:53.192Z"
   },
   {
    "duration": 10,
    "start_time": "2023-11-22T09:58:58.671Z"
   },
   {
    "duration": 212,
    "start_time": "2023-11-22T09:59:00.065Z"
   },
   {
    "duration": 115,
    "start_time": "2023-11-22T09:59:01.920Z"
   },
   {
    "duration": 8,
    "start_time": "2023-11-22T09:59:03.507Z"
   },
   {
    "duration": 4,
    "start_time": "2023-11-22T09:59:13.377Z"
   },
   {
    "duration": 50,
    "start_time": "2023-11-22T09:59:14.134Z"
   },
   {
    "duration": 88,
    "start_time": "2023-11-22T09:59:32.280Z"
   },
   {
    "duration": 98,
    "start_time": "2023-11-22T09:59:35.567Z"
   },
   {
    "duration": 50,
    "start_time": "2023-11-22T09:59:40.722Z"
   },
   {
    "duration": 10,
    "start_time": "2023-11-22T10:01:52.446Z"
   },
   {
    "duration": 208,
    "start_time": "2023-11-22T10:01:53.469Z"
   },
   {
    "duration": 4,
    "start_time": "2023-11-22T10:01:54.315Z"
   },
   {
    "duration": 4,
    "start_time": "2023-11-22T10:01:57.784Z"
   },
   {
    "duration": 103,
    "start_time": "2023-11-22T10:02:16.365Z"
   },
   {
    "duration": 9,
    "start_time": "2023-11-22T10:02:20.496Z"
   },
   {
    "duration": 113,
    "start_time": "2023-11-22T10:02:22.195Z"
   },
   {
    "duration": 36,
    "start_time": "2023-11-22T10:02:26.616Z"
   },
   {
    "duration": 2101,
    "start_time": "2023-11-22T10:02:47.876Z"
   },
   {
    "duration": 1748,
    "start_time": "2023-11-22T10:03:34.921Z"
   },
   {
    "duration": 164,
    "start_time": "2023-11-22T10:04:11.940Z"
   },
   {
    "duration": 1545,
    "start_time": "2023-11-22T10:04:30.422Z"
   },
   {
    "duration": 1363,
    "start_time": "2023-11-22T10:04:56.109Z"
   },
   {
    "duration": 33,
    "start_time": "2023-11-22T10:05:06.239Z"
   },
   {
    "duration": 1522,
    "start_time": "2023-11-22T10:05:17.342Z"
   },
   {
    "duration": 67,
    "start_time": "2023-11-22T10:07:01.799Z"
   },
   {
    "duration": 250,
    "start_time": "2023-11-22T10:07:31.093Z"
   },
   {
    "duration": 5,
    "start_time": "2023-11-22T10:07:54.488Z"
   },
   {
    "duration": 5,
    "start_time": "2023-11-22T10:07:57.795Z"
   },
   {
    "duration": 23,
    "start_time": "2023-11-22T10:08:00.108Z"
   },
   {
    "duration": 29,
    "start_time": "2023-11-22T10:08:00.654Z"
   },
   {
    "duration": 252,
    "start_time": "2023-11-22T10:08:00.840Z"
   },
   {
    "duration": 98,
    "start_time": "2023-11-22T10:08:01.094Z"
   },
   {
    "duration": 6,
    "start_time": "2023-11-22T10:08:01.194Z"
   },
   {
    "duration": 4,
    "start_time": "2023-11-22T10:08:01.373Z"
   },
   {
    "duration": 6,
    "start_time": "2023-11-22T10:08:01.542Z"
   },
   {
    "duration": 5,
    "start_time": "2023-11-22T10:08:01.723Z"
   },
   {
    "duration": 10,
    "start_time": "2023-11-22T10:08:02.120Z"
   },
   {
    "duration": 10,
    "start_time": "2023-11-22T10:08:02.315Z"
   },
   {
    "duration": 17,
    "start_time": "2023-11-22T10:08:03.080Z"
   },
   {
    "duration": 94,
    "start_time": "2023-11-22T10:08:03.272Z"
   },
   {
    "duration": 13,
    "start_time": "2023-11-22T10:08:03.665Z"
   },
   {
    "duration": 216,
    "start_time": "2023-11-22T10:08:03.866Z"
   },
   {
    "duration": 135,
    "start_time": "2023-11-22T10:08:04.084Z"
   },
   {
    "duration": 7,
    "start_time": "2023-11-22T10:08:04.812Z"
   },
   {
    "duration": 3,
    "start_time": "2023-11-22T10:08:07.805Z"
   },
   {
    "duration": 36,
    "start_time": "2023-11-22T10:08:09.442Z"
   },
   {
    "duration": 6,
    "start_time": "2023-11-22T10:08:42.489Z"
   },
   {
    "duration": 6,
    "start_time": "2023-11-22T10:08:43.012Z"
   },
   {
    "duration": 22,
    "start_time": "2023-11-22T10:08:43.348Z"
   },
   {
    "duration": 36,
    "start_time": "2023-11-22T10:08:44.248Z"
   },
   {
    "duration": 226,
    "start_time": "2023-11-22T10:08:44.411Z"
   },
   {
    "duration": 108,
    "start_time": "2023-11-22T10:08:44.639Z"
   },
   {
    "duration": 16,
    "start_time": "2023-11-22T10:08:44.749Z"
   },
   {
    "duration": 6,
    "start_time": "2023-11-22T10:08:44.804Z"
   },
   {
    "duration": 7,
    "start_time": "2023-11-22T10:08:44.971Z"
   },
   {
    "duration": 6,
    "start_time": "2023-11-22T10:08:45.129Z"
   },
   {
    "duration": 10,
    "start_time": "2023-11-22T10:08:45.422Z"
   },
   {
    "duration": 10,
    "start_time": "2023-11-22T10:08:45.583Z"
   },
   {
    "duration": 25,
    "start_time": "2023-11-22T10:08:46.302Z"
   },
   {
    "duration": 13,
    "start_time": "2023-11-22T10:08:46.462Z"
   },
   {
    "duration": 12,
    "start_time": "2023-11-22T10:08:46.776Z"
   },
   {
    "duration": 210,
    "start_time": "2023-11-22T10:08:46.966Z"
   },
   {
    "duration": 132,
    "start_time": "2023-11-22T10:08:47.178Z"
   },
   {
    "duration": 10,
    "start_time": "2023-11-22T10:08:48.926Z"
   },
   {
    "duration": 3,
    "start_time": "2023-11-22T10:08:50.615Z"
   },
   {
    "duration": 131,
    "start_time": "2023-11-22T10:08:52.334Z"
   },
   {
    "duration": 26,
    "start_time": "2023-11-22T10:08:55.366Z"
   },
   {
    "duration": 26,
    "start_time": "2023-11-22T10:08:58.193Z"
   },
   {
    "duration": 97,
    "start_time": "2023-11-22T10:09:00.569Z"
   },
   {
    "duration": 12,
    "start_time": "2023-11-22T10:09:02.905Z"
   },
   {
    "duration": 112,
    "start_time": "2023-11-22T10:09:03.977Z"
   },
   {
    "duration": 4,
    "start_time": "2023-11-22T10:09:05.127Z"
   },
   {
    "duration": 4,
    "start_time": "2023-11-22T10:09:10.295Z"
   },
   {
    "duration": 40,
    "start_time": "2023-11-22T10:09:12.153Z"
   },
   {
    "duration": 105,
    "start_time": "2023-11-22T10:09:24.967Z"
   },
   {
    "duration": 217,
    "start_time": "2023-11-22T10:09:55.649Z"
   },
   {
    "duration": 9,
    "start_time": "2023-11-22T10:10:05.452Z"
   },
   {
    "duration": 118,
    "start_time": "2023-11-22T10:10:05.787Z"
   },
   {
    "duration": 30,
    "start_time": "2023-11-22T10:10:07.202Z"
   },
   {
    "duration": 10,
    "start_time": "2023-11-22T10:10:07.470Z"
   },
   {
    "duration": 8,
    "start_time": "2023-11-22T10:10:07.728Z"
   },
   {
    "duration": 116,
    "start_time": "2023-11-22T10:10:08.108Z"
   },
   {
    "duration": 50,
    "start_time": "2023-11-22T10:10:08.583Z"
   },
   {
    "duration": 8,
    "start_time": "2023-11-22T10:10:08.982Z"
   },
   {
    "duration": 114,
    "start_time": "2023-11-22T10:10:09.353Z"
   },
   {
    "duration": 38,
    "start_time": "2023-11-22T10:10:09.846Z"
   },
   {
    "duration": 8,
    "start_time": "2023-11-22T10:10:10.435Z"
   },
   {
    "duration": 118,
    "start_time": "2023-11-22T10:10:10.823Z"
   },
   {
    "duration": 135,
    "start_time": "2023-11-22T10:10:47.033Z"
   },
   {
    "duration": 53,
    "start_time": "2023-11-22T10:11:01.513Z"
   },
   {
    "duration": 9,
    "start_time": "2023-11-22T10:11:03.021Z"
   },
   {
    "duration": 113,
    "start_time": "2023-11-22T10:11:03.298Z"
   },
   {
    "duration": 30,
    "start_time": "2023-11-22T10:11:04.072Z"
   },
   {
    "duration": 9,
    "start_time": "2023-11-22T10:11:04.387Z"
   },
   {
    "duration": 7,
    "start_time": "2023-11-22T10:11:04.586Z"
   },
   {
    "duration": 196,
    "start_time": "2023-11-22T10:11:04.744Z"
   },
   {
    "duration": 55,
    "start_time": "2023-11-22T10:11:04.942Z"
   },
   {
    "duration": 7,
    "start_time": "2023-11-22T10:11:05.028Z"
   },
   {
    "duration": 115,
    "start_time": "2023-11-22T10:11:05.166Z"
   },
   {
    "duration": 38,
    "start_time": "2023-11-22T10:11:05.307Z"
   },
   {
    "duration": 8,
    "start_time": "2023-11-22T10:11:05.448Z"
   },
   {
    "duration": 109,
    "start_time": "2023-11-22T10:11:05.845Z"
   },
   {
    "duration": 22,
    "start_time": "2023-11-22T10:11:06.757Z"
   },
   {
    "duration": 1912,
    "start_time": "2023-11-22T10:11:06.972Z"
   },
   {
    "duration": 118,
    "start_time": "2023-11-22T10:11:08.966Z"
   },
   {
    "duration": 87,
    "start_time": "2023-11-22T10:11:09.086Z"
   },
   {
    "duration": 19,
    "start_time": "2023-11-22T10:11:09.924Z"
   },
   {
    "duration": 24,
    "start_time": "2023-11-22T10:11:10.118Z"
   },
   {
    "duration": 14,
    "start_time": "2023-11-22T10:11:10.327Z"
   },
   {
    "duration": 9,
    "start_time": "2023-11-22T10:11:10.777Z"
   },
   {
    "duration": 173,
    "start_time": "2023-11-22T10:13:50.598Z"
   },
   {
    "duration": 12275,
    "start_time": "2023-11-22T10:14:05.696Z"
   },
   {
    "duration": 484,
    "start_time": "2023-11-22T10:14:32.860Z"
   },
   {
    "duration": 104,
    "start_time": "2023-11-22T10:15:55.717Z"
   },
   {
    "duration": 12219,
    "start_time": "2023-11-22T10:16:02.050Z"
   },
   {
    "duration": 101,
    "start_time": "2023-11-22T10:17:50.943Z"
   },
   {
    "duration": 174,
    "start_time": "2023-11-22T10:17:56.928Z"
   },
   {
    "duration": 59214,
    "start_time": "2023-11-22T10:19:20.759Z"
   },
   {
    "duration": 245,
    "start_time": "2023-11-22T10:20:59.035Z"
   },
   {
    "duration": 175,
    "start_time": "2023-11-22T10:21:06.200Z"
   },
   {
    "duration": 125633,
    "start_time": "2023-11-22T10:21:17.838Z"
   },
   {
    "duration": 2935,
    "start_time": "2023-11-22T18:28:05.561Z"
   },
   {
    "duration": 164,
    "start_time": "2023-11-22T18:28:08.498Z"
   },
   {
    "duration": 10,
    "start_time": "2023-11-22T18:28:08.664Z"
   },
   {
    "duration": 15,
    "start_time": "2023-11-22T18:28:08.676Z"
   },
   {
    "duration": 37,
    "start_time": "2023-11-22T18:28:08.693Z"
   },
   {
    "duration": 15,
    "start_time": "2023-11-22T18:28:08.732Z"
   },
   {
    "duration": 61,
    "start_time": "2023-11-22T18:28:08.748Z"
   },
   {
    "duration": 17,
    "start_time": "2023-11-22T18:28:08.811Z"
   },
   {
    "duration": 23,
    "start_time": "2023-11-22T18:28:08.830Z"
   },
   {
    "duration": 5,
    "start_time": "2023-11-22T18:28:08.855Z"
   },
   {
    "duration": 171,
    "start_time": "2023-11-22T18:28:08.862Z"
   },
   {
    "duration": 9,
    "start_time": "2023-11-22T18:28:09.035Z"
   },
   {
    "duration": 44,
    "start_time": "2023-11-22T18:28:09.046Z"
   },
   {
    "duration": 8,
    "start_time": "2023-11-22T18:28:09.093Z"
   },
   {
    "duration": 9,
    "start_time": "2023-11-22T18:28:09.103Z"
   },
   {
    "duration": 10,
    "start_time": "2023-11-22T18:28:09.114Z"
   },
   {
    "duration": 17,
    "start_time": "2023-11-22T18:28:09.125Z"
   },
   {
    "duration": 15,
    "start_time": "2023-11-22T18:28:09.144Z"
   },
   {
    "duration": 23,
    "start_time": "2023-11-22T18:28:09.161Z"
   },
   {
    "duration": 35,
    "start_time": "2023-11-22T18:28:09.185Z"
   },
   {
    "duration": 49,
    "start_time": "2023-11-22T18:28:09.222Z"
   },
   {
    "duration": 233,
    "start_time": "2023-11-22T18:28:09.273Z"
   },
   {
    "duration": 125,
    "start_time": "2023-11-22T18:28:09.508Z"
   },
   {
    "duration": 6,
    "start_time": "2023-11-22T18:28:09.635Z"
   },
   {
    "duration": 5,
    "start_time": "2023-11-22T18:28:09.643Z"
   },
   {
    "duration": 23,
    "start_time": "2023-11-22T18:28:09.650Z"
   },
   {
    "duration": 7,
    "start_time": "2023-11-22T18:28:09.675Z"
   },
   {
    "duration": 11,
    "start_time": "2023-11-22T18:28:09.684Z"
   },
   {
    "duration": 35,
    "start_time": "2023-11-22T18:28:09.697Z"
   },
   {
    "duration": 58,
    "start_time": "2023-11-22T18:28:09.734Z"
   },
   {
    "duration": 33,
    "start_time": "2023-11-22T18:28:09.794Z"
   },
   {
    "duration": 97,
    "start_time": "2023-11-22T18:28:09.831Z"
   },
   {
    "duration": 384,
    "start_time": "2023-11-22T18:28:09.930Z"
   },
   {
    "duration": 139,
    "start_time": "2023-11-22T18:28:10.326Z"
   },
   {
    "duration": 8,
    "start_time": "2023-11-22T18:28:10.467Z"
   },
   {
    "duration": 25,
    "start_time": "2023-11-22T18:28:10.476Z"
   },
   {
    "duration": 128,
    "start_time": "2023-11-22T18:28:10.502Z"
   },
   {
    "duration": 103,
    "start_time": "2023-11-22T18:28:10.633Z"
   },
   {
    "duration": 212,
    "start_time": "2023-11-22T18:28:10.827Z"
   },
   {
    "duration": 5,
    "start_time": "2023-11-22T18:28:11.041Z"
   },
   {
    "duration": 38,
    "start_time": "2023-11-22T18:28:11.051Z"
   },
   {
    "duration": 60,
    "start_time": "2023-11-22T18:28:11.091Z"
   },
   {
    "duration": 105,
    "start_time": "2023-11-22T18:28:11.225Z"
   },
   {
    "duration": 324,
    "start_time": "2023-11-22T18:28:11.333Z"
   },
   {
    "duration": 32,
    "start_time": "2023-11-22T18:28:11.659Z"
   },
   {
    "duration": 10,
    "start_time": "2023-11-22T18:28:11.692Z"
   },
   {
    "duration": 31,
    "start_time": "2023-11-22T18:28:11.703Z"
   },
   {
    "duration": 122,
    "start_time": "2023-11-22T18:28:11.735Z"
   },
   {
    "duration": 53,
    "start_time": "2023-11-22T18:28:11.859Z"
   },
   {
    "duration": 7,
    "start_time": "2023-11-22T18:28:11.925Z"
   },
   {
    "duration": 125,
    "start_time": "2023-11-22T18:28:11.934Z"
   },
   {
    "duration": 39,
    "start_time": "2023-11-22T18:28:12.060Z"
   },
   {
    "duration": 6,
    "start_time": "2023-11-22T18:28:12.101Z"
   },
   {
    "duration": 147,
    "start_time": "2023-11-22T18:28:12.109Z"
   },
   {
    "duration": 25,
    "start_time": "2023-11-22T18:28:12.258Z"
   },
   {
    "duration": 165553,
    "start_time": "2023-11-22T18:28:12.285Z"
   },
   {
    "duration": 193,
    "start_time": "2023-11-22T18:30:57.840Z"
   },
   {
    "duration": 89,
    "start_time": "2023-11-22T18:30:58.038Z"
   },
   {
    "duration": 106,
    "start_time": "2023-11-22T18:30:58.129Z"
   },
   {
    "duration": 529,
    "start_time": "2023-11-22T18:30:58.236Z"
   },
   {
    "duration": 14,
    "start_time": "2023-11-22T18:30:58.766Z"
   },
   {
    "duration": 146,
    "start_time": "2023-11-22T18:30:58.782Z"
   },
   {
    "duration": 103,
    "start_time": "2023-11-24T08:26:45.221Z"
   },
   {
    "duration": 100,
    "start_time": "2023-11-24T08:42:38.552Z"
   },
   {
    "duration": 47,
    "start_time": "2023-11-24T08:43:08.846Z"
   },
   {
    "duration": 1685,
    "start_time": "2023-11-24T08:43:21.504Z"
   },
   {
    "duration": 169,
    "start_time": "2023-11-24T08:43:23.191Z"
   },
   {
    "duration": 10,
    "start_time": "2023-11-24T08:43:24.639Z"
   },
   {
    "duration": 6,
    "start_time": "2023-11-24T08:43:25.405Z"
   },
   {
    "duration": 12,
    "start_time": "2023-11-24T08:43:25.908Z"
   },
   {
    "duration": 12,
    "start_time": "2023-11-24T08:43:27.010Z"
   },
   {
    "duration": 8,
    "start_time": "2023-11-24T08:43:27.716Z"
   },
   {
    "duration": 13,
    "start_time": "2023-11-24T08:43:29.085Z"
   },
   {
    "duration": 24,
    "start_time": "2023-11-24T08:43:29.710Z"
   },
   {
    "duration": 5,
    "start_time": "2023-11-24T08:43:31.604Z"
   },
   {
    "duration": 130,
    "start_time": "2023-11-24T08:43:32.796Z"
   },
   {
    "duration": 198,
    "start_time": "2023-11-24T08:44:12.580Z"
   },
   {
    "duration": 121,
    "start_time": "2023-11-24T08:45:39.068Z"
   },
   {
    "duration": 92,
    "start_time": "2023-11-24T08:46:55.080Z"
   },
   {
    "duration": 9,
    "start_time": "2023-11-24T09:03:51.711Z"
   },
   {
    "duration": 8,
    "start_time": "2023-11-24T09:03:57.408Z"
   },
   {
    "duration": 5,
    "start_time": "2023-11-24T09:04:01.714Z"
   },
   {
    "duration": 7,
    "start_time": "2023-11-24T09:04:02.005Z"
   },
   {
    "duration": 5,
    "start_time": "2023-11-24T09:04:02.287Z"
   },
   {
    "duration": 9,
    "start_time": "2023-11-24T09:04:05.140Z"
   },
   {
    "duration": 9,
    "start_time": "2023-11-24T09:04:40.460Z"
   },
   {
    "duration": 4,
    "start_time": "2023-11-24T09:04:54.717Z"
   },
   {
    "duration": 4,
    "start_time": "2023-11-24T09:05:12.913Z"
   },
   {
    "duration": 3,
    "start_time": "2023-11-24T09:05:28.788Z"
   },
   {
    "duration": 187,
    "start_time": "2023-11-24T09:10:55.267Z"
   },
   {
    "duration": 2440,
    "start_time": "2023-11-24T09:14:37.357Z"
   },
   {
    "duration": 92,
    "start_time": "2023-11-24T09:14:53.623Z"
   },
   {
    "duration": 1264,
    "start_time": "2023-11-24T09:15:55.584Z"
   },
   {
    "duration": 1774,
    "start_time": "2023-11-24T09:16:15.967Z"
   },
   {
    "duration": 1284,
    "start_time": "2023-11-24T09:17:39.777Z"
   },
   {
    "duration": 5,
    "start_time": "2023-11-24T09:19:50.417Z"
   },
   {
    "duration": 5,
    "start_time": "2023-11-24T09:20:06.740Z"
   },
   {
    "duration": 4,
    "start_time": "2023-11-24T09:22:55.161Z"
   },
   {
    "duration": 8,
    "start_time": "2023-11-24T09:23:03.029Z"
   },
   {
    "duration": 11,
    "start_time": "2023-11-24T09:23:05.334Z"
   },
   {
    "duration": 11,
    "start_time": "2023-11-24T09:23:22.492Z"
   },
   {
    "duration": 10,
    "start_time": "2023-11-24T09:23:40.094Z"
   },
   {
    "duration": 4,
    "start_time": "2023-11-24T09:23:52.280Z"
   },
   {
    "duration": 43,
    "start_time": "2023-11-24T09:23:53.116Z"
   },
   {
    "duration": 7,
    "start_time": "2023-11-24T09:23:53.670Z"
   },
   {
    "duration": 6,
    "start_time": "2023-11-24T09:23:54.718Z"
   },
   {
    "duration": 18,
    "start_time": "2023-11-24T09:23:55.437Z"
   },
   {
    "duration": 15,
    "start_time": "2023-11-24T09:23:59.834Z"
   },
   {
    "duration": 9,
    "start_time": "2023-11-24T09:24:01.103Z"
   },
   {
    "duration": 11,
    "start_time": "2023-11-24T09:24:03.331Z"
   },
   {
    "duration": 24,
    "start_time": "2023-11-24T09:24:03.952Z"
   },
   {
    "duration": 5,
    "start_time": "2023-11-24T09:24:09.749Z"
   },
   {
    "duration": 123,
    "start_time": "2023-11-24T09:24:11.096Z"
   },
   {
    "duration": 7,
    "start_time": "2023-11-24T09:24:32.170Z"
   },
   {
    "duration": 9,
    "start_time": "2023-11-24T09:24:39.347Z"
   },
   {
    "duration": 17,
    "start_time": "2023-11-24T09:25:10.449Z"
   },
   {
    "duration": 5,
    "start_time": "2023-11-24T09:25:37.908Z"
   },
   {
    "duration": 8,
    "start_time": "2023-11-24T09:25:39.786Z"
   },
   {
    "duration": 10,
    "start_time": "2023-11-24T09:25:44.592Z"
   },
   {
    "duration": 6,
    "start_time": "2023-11-24T09:25:57.171Z"
   },
   {
    "duration": 3,
    "start_time": "2023-11-24T09:26:00.529Z"
   },
   {
    "duration": 2,
    "start_time": "2023-11-24T09:26:00.915Z"
   },
   {
    "duration": 4,
    "start_time": "2023-11-24T09:26:09.566Z"
   },
   {
    "duration": 4,
    "start_time": "2023-11-24T09:26:10.544Z"
   },
   {
    "duration": 6,
    "start_time": "2023-11-24T09:26:18.091Z"
   },
   {
    "duration": 5,
    "start_time": "2023-11-24T09:26:19.109Z"
   },
   {
    "duration": 3,
    "start_time": "2023-11-24T09:26:21.331Z"
   },
   {
    "duration": 3,
    "start_time": "2023-11-24T09:26:22.205Z"
   },
   {
    "duration": 4,
    "start_time": "2023-11-24T09:26:22.648Z"
   },
   {
    "duration": 22,
    "start_time": "2023-11-24T09:26:27.278Z"
   },
   {
    "duration": 98,
    "start_time": "2023-11-24T09:26:34.265Z"
   },
   {
    "duration": 91,
    "start_time": "2023-11-24T09:26:36.243Z"
   },
   {
    "duration": 8,
    "start_time": "2023-11-24T09:26:39.064Z"
   },
   {
    "duration": 12,
    "start_time": "2023-11-24T09:32:03.407Z"
   },
   {
    "duration": 204,
    "start_time": "2023-11-24T09:32:14.727Z"
   },
   {
    "duration": 83,
    "start_time": "2023-11-24T09:33:02.487Z"
   },
   {
    "duration": 12,
    "start_time": "2023-11-24T09:34:43.144Z"
   },
   {
    "duration": 104,
    "start_time": "2023-11-24T09:35:30.324Z"
   },
   {
    "duration": 94,
    "start_time": "2023-11-24T09:37:55.754Z"
   },
   {
    "duration": 100,
    "start_time": "2023-11-24T09:38:45.622Z"
   },
   {
    "duration": 102,
    "start_time": "2023-11-24T09:47:27.028Z"
   },
   {
    "duration": 49,
    "start_time": "2023-11-24T09:49:47.563Z"
   },
   {
    "duration": 303,
    "start_time": "2023-11-24T09:49:48.795Z"
   },
   {
    "duration": 97,
    "start_time": "2023-11-24T09:49:50.956Z"
   },
   {
    "duration": 5,
    "start_time": "2023-11-24T09:49:51.733Z"
   },
   {
    "duration": 4,
    "start_time": "2023-11-24T09:49:52.124Z"
   },
   {
    "duration": 7,
    "start_time": "2023-11-24T09:49:52.674Z"
   },
   {
    "duration": 7,
    "start_time": "2023-11-24T09:49:53.602Z"
   },
   {
    "duration": 13,
    "start_time": "2023-11-24T09:49:57.172Z"
   },
   {
    "duration": 11,
    "start_time": "2023-11-24T09:50:01.576Z"
   },
   {
    "duration": 12,
    "start_time": "2023-11-24T11:36:16.762Z"
   },
   {
    "duration": 96,
    "start_time": "2023-11-24T11:40:24.420Z"
   },
   {
    "duration": 47,
    "start_time": "2023-11-24T11:40:25.496Z"
   },
   {
    "duration": 215,
    "start_time": "2023-11-24T11:40:25.879Z"
   },
   {
    "duration": 94,
    "start_time": "2023-11-24T11:40:26.488Z"
   },
   {
    "duration": 7,
    "start_time": "2023-11-24T11:40:26.963Z"
   },
   {
    "duration": 4,
    "start_time": "2023-11-24T11:40:27.429Z"
   },
   {
    "duration": 6,
    "start_time": "2023-11-24T11:40:27.870Z"
   },
   {
    "duration": 6,
    "start_time": "2023-11-24T11:40:28.743Z"
   },
   {
    "duration": 9,
    "start_time": "2023-11-24T11:40:30.204Z"
   },
   {
    "duration": 9,
    "start_time": "2023-11-24T11:40:30.801Z"
   },
   {
    "duration": 24,
    "start_time": "2023-11-24T11:40:33.999Z"
   },
   {
    "duration": 14,
    "start_time": "2023-11-24T11:40:34.789Z"
   },
   {
    "duration": 12,
    "start_time": "2023-11-24T11:40:37.330Z"
   },
   {
    "duration": 205,
    "start_time": "2023-11-24T11:40:38.620Z"
   },
   {
    "duration": 214,
    "start_time": "2023-11-24T11:40:39.812Z"
   },
   {
    "duration": 7,
    "start_time": "2023-11-24T11:40:41.308Z"
   },
   {
    "duration": 5,
    "start_time": "2023-11-24T11:40:43.140Z"
   },
   {
    "duration": 111,
    "start_time": "2023-11-24T11:40:45.717Z"
   },
   {
    "duration": 12,
    "start_time": "2023-11-24T11:40:46.531Z"
   },
   {
    "duration": 114,
    "start_time": "2023-11-24T11:40:46.900Z"
   },
   {
    "duration": 4,
    "start_time": "2023-11-24T11:40:48.445Z"
   },
   {
    "duration": 4,
    "start_time": "2023-11-24T11:40:49.986Z"
   },
   {
    "duration": 32,
    "start_time": "2023-11-24T11:40:50.387Z"
   },
   {
    "duration": 11,
    "start_time": "2023-11-24T11:40:51.555Z"
   },
   {
    "duration": 115,
    "start_time": "2023-11-24T11:40:52.221Z"
   },
   {
    "duration": 29,
    "start_time": "2023-11-24T11:40:54.445Z"
   },
   {
    "duration": 14,
    "start_time": "2023-11-24T11:41:40.098Z"
   },
   {
    "duration": 10,
    "start_time": "2023-11-24T11:41:43.107Z"
   },
   {
    "duration": 16,
    "start_time": "2023-11-24T11:41:49.350Z"
   },
   {
    "duration": 9,
    "start_time": "2023-11-24T11:41:50.264Z"
   },
   {
    "duration": 15,
    "start_time": "2023-11-24T11:41:54.235Z"
   },
   {
    "duration": 9,
    "start_time": "2023-11-24T11:41:55.196Z"
   },
   {
    "duration": 12,
    "start_time": "2023-11-24T11:41:58.671Z"
   },
   {
    "duration": 10,
    "start_time": "2023-11-24T11:41:59.357Z"
   },
   {
    "duration": 15,
    "start_time": "2023-11-24T11:42:02.401Z"
   },
   {
    "duration": 10,
    "start_time": "2023-11-24T11:42:03.171Z"
   },
   {
    "duration": 15,
    "start_time": "2023-11-24T11:42:05.721Z"
   },
   {
    "duration": 12,
    "start_time": "2023-11-24T11:42:06.392Z"
   },
   {
    "duration": 17,
    "start_time": "2023-11-24T11:42:08.881Z"
   },
   {
    "duration": 9,
    "start_time": "2023-11-24T11:42:09.643Z"
   },
   {
    "duration": 13,
    "start_time": "2023-11-24T11:42:12.241Z"
   },
   {
    "duration": 17,
    "start_time": "2023-11-24T11:42:12.821Z"
   },
   {
    "duration": 23,
    "start_time": "2023-11-24T11:42:19.882Z"
   },
   {
    "duration": 9,
    "start_time": "2023-11-24T11:42:20.747Z"
   },
   {
    "duration": 12,
    "start_time": "2023-11-24T11:46:01.786Z"
   },
   {
    "duration": 453,
    "start_time": "2023-11-24T11:46:08.162Z"
   },
   {
    "duration": 445,
    "start_time": "2023-11-24T11:46:51.172Z"
   },
   {
    "duration": 9,
    "start_time": "2023-11-24T11:47:02.790Z"
   },
   {
    "duration": 455,
    "start_time": "2023-11-24T11:47:35.385Z"
   },
   {
    "duration": 9,
    "start_time": "2023-11-24T11:47:46.210Z"
   },
   {
    "duration": 112,
    "start_time": "2023-11-24T11:47:48.991Z"
   },
   {
    "duration": 32,
    "start_time": "2023-11-24T11:59:24.450Z"
   },
   {
    "duration": 2839,
    "start_time": "2023-11-24T11:59:43.632Z"
   },
   {
    "duration": 25463,
    "start_time": "2023-11-24T12:00:12.004Z"
   },
   {
    "duration": 24842,
    "start_time": "2023-11-24T12:01:37.649Z"
   },
   {
    "duration": 24678,
    "start_time": "2023-11-24T12:03:41.235Z"
   },
   {
    "duration": 24881,
    "start_time": "2023-11-24T12:04:29.057Z"
   },
   {
    "duration": 8,
    "start_time": "2023-11-24T12:05:04.830Z"
   },
   {
    "duration": 112,
    "start_time": "2023-11-24T12:05:16.480Z"
   },
   {
    "duration": 11,
    "start_time": "2023-11-24T12:06:12.893Z"
   },
   {
    "duration": 12,
    "start_time": "2023-11-24T12:06:38.941Z"
   },
   {
    "duration": 24921,
    "start_time": "2023-11-24T12:06:53.628Z"
   },
   {
    "duration": 15,
    "start_time": "2023-11-24T12:07:50.927Z"
   },
   {
    "duration": 2,
    "start_time": "2023-11-24T12:09:07.414Z"
   },
   {
    "duration": 2,
    "start_time": "2023-11-24T12:09:14.287Z"
   },
   {
    "duration": 2,
    "start_time": "2023-11-24T12:09:22.924Z"
   },
   {
    "duration": 23053,
    "start_time": "2023-11-24T12:09:45.409Z"
   },
   {
    "duration": 8,
    "start_time": "2023-11-24T12:11:25.379Z"
   },
   {
    "duration": 116,
    "start_time": "2023-11-24T12:11:25.954Z"
   },
   {
    "duration": 11,
    "start_time": "2023-11-24T12:11:27.791Z"
   },
   {
    "duration": 2,
    "start_time": "2023-11-24T12:13:53.076Z"
   },
   {
    "duration": 4,
    "start_time": "2023-11-24T12:14:18.439Z"
   },
   {
    "duration": 3,
    "start_time": "2023-11-24T12:14:28.733Z"
   },
   {
    "duration": 2,
    "start_time": "2023-11-24T12:14:34.292Z"
   },
   {
    "duration": 9,
    "start_time": "2023-11-24T12:17:25.165Z"
   },
   {
    "duration": 8,
    "start_time": "2023-11-24T12:18:15.277Z"
   },
   {
    "duration": 7,
    "start_time": "2023-11-24T12:18:37.606Z"
   },
   {
    "duration": 11,
    "start_time": "2023-11-24T12:18:49.874Z"
   },
   {
    "duration": 7,
    "start_time": "2023-11-24T12:18:59.874Z"
   },
   {
    "duration": 13,
    "start_time": "2023-11-24T12:21:00.023Z"
   },
   {
    "duration": 39,
    "start_time": "2023-11-24T12:23:39.175Z"
   },
   {
    "duration": 15180,
    "start_time": "2023-11-24T12:23:50.856Z"
   },
   {
    "duration": 16769,
    "start_time": "2023-11-24T12:24:41.785Z"
   },
   {
    "duration": 949,
    "start_time": "2023-11-24T12:25:47.378Z"
   },
   {
    "duration": 2700,
    "start_time": "2023-11-24T12:25:53.503Z"
   },
   {
    "duration": 5310,
    "start_time": "2023-11-24T12:26:02.863Z"
   },
   {
    "duration": 13119,
    "start_time": "2023-11-24T12:26:17.049Z"
   },
   {
    "duration": 40157,
    "start_time": "2023-11-24T12:27:04.644Z"
   },
   {
    "duration": 317,
    "start_time": "2023-11-24T12:28:21.005Z"
   },
   {
    "duration": 1218,
    "start_time": "2023-11-24T12:30:14.783Z"
   },
   {
    "duration": 156627,
    "start_time": "2023-11-24T12:30:24.731Z"
   },
   {
    "duration": 2,
    "start_time": "2023-11-24T12:34:48.347Z"
   },
   {
    "duration": 3,
    "start_time": "2023-11-24T12:34:53.031Z"
   },
   {
    "duration": 3,
    "start_time": "2023-11-24T12:35:27.247Z"
   },
   {
    "duration": 2,
    "start_time": "2023-11-24T12:35:43.104Z"
   },
   {
    "duration": 2,
    "start_time": "2023-11-24T12:36:36.589Z"
   },
   {
    "duration": 40,
    "start_time": "2023-11-24T12:36:51.926Z"
   },
   {
    "duration": 7,
    "start_time": "2023-11-24T12:36:53.089Z"
   },
   {
    "duration": 8662,
    "start_time": "2023-11-24T12:38:59.693Z"
   },
   {
    "duration": 94,
    "start_time": "2023-11-24T12:40:16.141Z"
   },
   {
    "duration": 1799,
    "start_time": "2023-11-24T12:40:23.566Z"
   },
   {
    "duration": 15,
    "start_time": "2023-11-24T12:40:43.513Z"
   },
   {
    "duration": 7,
    "start_time": "2023-11-24T12:40:44.068Z"
   },
   {
    "duration": 540,
    "start_time": "2023-11-24T12:46:15.602Z"
   },
   {
    "duration": 98778,
    "start_time": "2023-11-24T12:46:30.948Z"
   },
   {
    "duration": 19360,
    "start_time": "2023-11-24T12:49:16.771Z"
   },
   {
    "duration": 2089,
    "start_time": "2023-11-24T12:59:29.134Z"
   },
   {
    "duration": 2677,
    "start_time": "2023-11-24T12:59:52.751Z"
   },
   {
    "duration": 2154,
    "start_time": "2023-11-24T13:00:35.472Z"
   },
   {
    "duration": 1625,
    "start_time": "2023-11-24T13:00:46.003Z"
   },
   {
    "duration": 2221,
    "start_time": "2023-11-24T13:01:33.902Z"
   },
   {
    "duration": 17463,
    "start_time": "2023-11-24T13:02:45.352Z"
   },
   {
    "duration": 3,
    "start_time": "2023-11-24T13:04:29.802Z"
   },
   {
    "duration": 47,
    "start_time": "2023-11-24T13:04:30.700Z"
   },
   {
    "duration": 12,
    "start_time": "2023-11-24T13:04:31.291Z"
   },
   {
    "duration": 4,
    "start_time": "2023-11-24T13:04:32.102Z"
   },
   {
    "duration": 12,
    "start_time": "2023-11-24T13:04:32.710Z"
   },
   {
    "duration": 12,
    "start_time": "2023-11-24T13:04:34.254Z"
   },
   {
    "duration": 16,
    "start_time": "2023-11-24T13:04:34.920Z"
   },
   {
    "duration": 13,
    "start_time": "2023-11-24T13:04:35.808Z"
   },
   {
    "duration": 29,
    "start_time": "2023-11-24T13:04:36.088Z"
   },
   {
    "duration": 8,
    "start_time": "2023-11-24T13:04:36.922Z"
   },
   {
    "duration": 146,
    "start_time": "2023-11-24T13:04:37.446Z"
   },
   {
    "duration": 11,
    "start_time": "2023-11-24T13:04:38.923Z"
   },
   {
    "duration": 10,
    "start_time": "2023-11-24T13:04:39.436Z"
   },
   {
    "duration": 5,
    "start_time": "2023-11-24T13:04:39.744Z"
   },
   {
    "duration": 4,
    "start_time": "2023-11-24T13:04:40.476Z"
   },
   {
    "duration": 3,
    "start_time": "2023-11-24T13:04:40.760Z"
   },
   {
    "duration": 4,
    "start_time": "2023-11-24T13:04:42.435Z"
   },
   {
    "duration": 4,
    "start_time": "2023-11-24T13:04:42.696Z"
   },
   {
    "duration": 5,
    "start_time": "2023-11-24T13:04:42.995Z"
   },
   {
    "duration": 5,
    "start_time": "2023-11-24T13:04:43.275Z"
   },
   {
    "duration": 4,
    "start_time": "2023-11-24T13:04:44.721Z"
   },
   {
    "duration": 4,
    "start_time": "2023-11-24T13:04:44.996Z"
   },
   {
    "duration": 3,
    "start_time": "2023-11-24T13:04:45.282Z"
   },
   {
    "duration": 27,
    "start_time": "2023-11-24T13:04:46.086Z"
   },
   {
    "duration": 117,
    "start_time": "2023-11-24T13:04:48.529Z"
   },
   {
    "duration": 109,
    "start_time": "2023-11-24T13:04:49.560Z"
   },
   {
    "duration": 91,
    "start_time": "2023-11-24T13:04:50.073Z"
   },
   {
    "duration": 98,
    "start_time": "2023-11-24T13:04:50.580Z"
   },
   {
    "duration": 111,
    "start_time": "2023-11-24T13:04:50.840Z"
   },
   {
    "duration": 37,
    "start_time": "2023-11-24T13:04:51.873Z"
   },
   {
    "duration": 250,
    "start_time": "2023-11-24T13:04:52.145Z"
   },
   {
    "duration": 93,
    "start_time": "2023-11-24T13:04:52.410Z"
   },
   {
    "duration": 5,
    "start_time": "2023-11-24T13:04:52.666Z"
   },
   {
    "duration": 6,
    "start_time": "2023-11-24T13:04:52.924Z"
   },
   {
    "duration": 5,
    "start_time": "2023-11-24T13:04:53.197Z"
   },
   {
    "duration": 6,
    "start_time": "2023-11-24T13:04:53.465Z"
   },
   {
    "duration": 10,
    "start_time": "2023-11-24T13:04:54.269Z"
   },
   {
    "duration": 9,
    "start_time": "2023-11-24T13:04:54.546Z"
   },
   {
    "duration": 21252,
    "start_time": "2023-11-24T13:04:56.682Z"
   },
   {
    "duration": 110,
    "start_time": "2023-11-24T13:05:18.018Z"
   },
   {
    "duration": 17,
    "start_time": "2023-11-24T13:05:18.130Z"
   },
   {
    "duration": 17,
    "start_time": "2023-11-24T13:05:33.018Z"
   },
   {
    "duration": 4725,
    "start_time": "2023-11-24T13:06:06.895Z"
   },
   {
    "duration": 105,
    "start_time": "2023-11-24T13:06:11.624Z"
   },
   {
    "duration": 12,
    "start_time": "2023-11-24T13:06:21.086Z"
   },
   {
    "duration": 120,
    "start_time": "2023-11-24T13:06:21.799Z"
   },
   {
    "duration": 129,
    "start_time": "2023-11-24T13:06:22.505Z"
   },
   {
    "duration": 9,
    "start_time": "2023-11-24T13:06:22.927Z"
   },
   {
    "duration": 4,
    "start_time": "2023-11-24T13:06:23.952Z"
   },
   {
    "duration": 90,
    "start_time": "2023-11-24T13:06:24.730Z"
   },
   {
    "duration": 15,
    "start_time": "2023-11-24T13:06:25.622Z"
   },
   {
    "duration": 129,
    "start_time": "2023-11-24T13:06:25.902Z"
   },
   {
    "duration": 5,
    "start_time": "2023-11-24T13:06:26.242Z"
   },
   {
    "duration": 3,
    "start_time": "2023-11-24T13:06:27.044Z"
   },
   {
    "duration": 2,
    "start_time": "2023-11-24T13:06:27.284Z"
   },
   {
    "duration": 4,
    "start_time": "2023-11-24T13:06:27.536Z"
   },
   {
    "duration": 2,
    "start_time": "2023-11-24T13:06:27.798Z"
   },
   {
    "duration": 1665,
    "start_time": "2023-11-24T13:06:28.376Z"
   },
   {
    "duration": 7,
    "start_time": "2023-11-24T13:06:30.043Z"
   },
   {
    "duration": 33,
    "start_time": "2023-11-24T13:06:30.052Z"
   },
   {
    "duration": 149,
    "start_time": "2023-11-24T13:06:30.087Z"
   },
   {
    "duration": 17899,
    "start_time": "2023-11-24T13:06:30.238Z"
   },
   {
    "duration": 6,
    "start_time": "2023-11-24T13:06:48.140Z"
   },
   {
    "duration": 144,
    "start_time": "2023-11-24T13:06:48.148Z"
   },
   {
    "duration": 10,
    "start_time": "2023-11-24T13:06:48.293Z"
   },
   {
    "duration": 4,
    "start_time": "2023-11-24T13:06:48.314Z"
   },
   {
    "duration": 5,
    "start_time": "2023-11-24T13:06:48.320Z"
   },
   {
    "duration": 8,
    "start_time": "2023-11-24T13:06:48.328Z"
   },
   {
    "duration": 3,
    "start_time": "2023-11-24T13:06:48.338Z"
   },
   {
    "duration": 4,
    "start_time": "2023-11-24T13:06:48.343Z"
   },
   {
    "duration": 6,
    "start_time": "2023-11-24T13:06:48.349Z"
   },
   {
    "duration": 5,
    "start_time": "2023-11-24T13:06:48.356Z"
   },
   {
    "duration": 15,
    "start_time": "2023-11-24T13:06:48.362Z"
   },
   {
    "duration": 37,
    "start_time": "2023-11-24T13:06:48.379Z"
   },
   {
    "duration": 5,
    "start_time": "2023-11-24T13:06:48.418Z"
   },
   {
    "duration": 127,
    "start_time": "2023-11-24T13:08:41.781Z"
   },
   {
    "duration": 10,
    "start_time": "2023-11-24T13:15:19.728Z"
   },
   {
    "duration": 6,
    "start_time": "2023-11-24T13:16:21.299Z"
   },
   {
    "duration": 1656,
    "start_time": "2023-11-24T16:55:05.799Z"
   },
   {
    "duration": 81,
    "start_time": "2023-11-24T16:55:07.457Z"
   },
   {
    "duration": 16,
    "start_time": "2023-11-24T16:55:07.539Z"
   },
   {
    "duration": 3,
    "start_time": "2023-11-24T16:55:07.557Z"
   },
   {
    "duration": 11,
    "start_time": "2023-11-24T16:55:07.562Z"
   },
   {
    "duration": 11,
    "start_time": "2023-11-24T16:55:07.574Z"
   },
   {
    "duration": 28,
    "start_time": "2023-11-24T16:55:07.586Z"
   },
   {
    "duration": 24,
    "start_time": "2023-11-24T16:55:07.615Z"
   },
   {
    "duration": 38,
    "start_time": "2023-11-24T16:55:07.641Z"
   },
   {
    "duration": 5,
    "start_time": "2023-11-24T16:55:07.680Z"
   },
   {
    "duration": 150,
    "start_time": "2023-11-24T16:55:07.686Z"
   },
   {
    "duration": 10,
    "start_time": "2023-11-24T16:55:07.837Z"
   },
   {
    "duration": 9,
    "start_time": "2023-11-24T16:55:07.849Z"
   },
   {
    "duration": 5,
    "start_time": "2023-11-24T16:55:07.861Z"
   },
   {
    "duration": 6,
    "start_time": "2023-11-24T16:55:07.867Z"
   },
   {
    "duration": 4,
    "start_time": "2023-11-24T16:55:07.874Z"
   },
   {
    "duration": 5,
    "start_time": "2023-11-24T16:55:07.880Z"
   },
   {
    "duration": 4,
    "start_time": "2023-11-24T16:55:07.886Z"
   },
   {
    "duration": 7,
    "start_time": "2023-11-24T16:55:07.891Z"
   },
   {
    "duration": 5,
    "start_time": "2023-11-24T16:55:07.899Z"
   },
   {
    "duration": 39,
    "start_time": "2023-11-24T16:55:07.905Z"
   },
   {
    "duration": 4,
    "start_time": "2023-11-24T16:55:07.946Z"
   },
   {
    "duration": 4,
    "start_time": "2023-11-24T16:55:07.951Z"
   },
   {
    "duration": 25,
    "start_time": "2023-11-24T16:55:07.957Z"
   },
   {
    "duration": 137,
    "start_time": "2023-11-24T16:55:07.984Z"
   },
   {
    "duration": 119,
    "start_time": "2023-11-24T16:55:08.123Z"
   },
   {
    "duration": 162,
    "start_time": "2023-11-24T16:55:08.244Z"
   },
   {
    "duration": 122,
    "start_time": "2023-11-24T16:55:08.407Z"
   },
   {
    "duration": 113,
    "start_time": "2023-11-24T16:55:08.531Z"
   },
   {
    "duration": 37,
    "start_time": "2023-11-24T16:55:08.646Z"
   },
   {
    "duration": 287,
    "start_time": "2023-11-24T16:55:08.684Z"
   },
   {
    "duration": 101,
    "start_time": "2023-11-24T16:55:08.973Z"
   },
   {
    "duration": 5,
    "start_time": "2023-11-24T16:55:09.075Z"
   },
   {
    "duration": 5,
    "start_time": "2023-11-24T16:55:09.082Z"
   },
   {
    "duration": 12,
    "start_time": "2023-11-24T16:55:09.088Z"
   },
   {
    "duration": 17,
    "start_time": "2023-11-24T16:55:09.101Z"
   },
   {
    "duration": 20,
    "start_time": "2023-11-24T16:55:09.119Z"
   },
   {
    "duration": 8,
    "start_time": "2023-11-24T16:55:09.141Z"
   },
   {
    "duration": 11996,
    "start_time": "2023-11-24T16:55:09.151Z"
   },
   {
    "duration": 1704,
    "start_time": "2023-11-24T16:55:21.241Z"
   },
   {
    "duration": 191,
    "start_time": "2023-11-24T16:55:22.952Z"
   },
   {
    "duration": 100,
    "start_time": "2023-11-24T16:55:23.146Z"
   },
   {
    "duration": 303,
    "start_time": "2023-11-24T16:55:23.252Z"
   },
   {
    "duration": 128,
    "start_time": "2023-11-24T16:55:23.557Z"
   },
   {
    "duration": 8,
    "start_time": "2023-11-24T16:55:23.686Z"
   },
   {
    "duration": 3,
    "start_time": "2023-11-24T16:55:23.695Z"
   },
   {
    "duration": 143,
    "start_time": "2023-11-24T16:55:23.700Z"
   },
   {
    "duration": 104,
    "start_time": "2023-11-24T16:55:23.845Z"
   },
   {
    "duration": 244,
    "start_time": "2023-11-24T16:55:23.951Z"
   },
   {
    "duration": 4,
    "start_time": "2023-11-24T16:55:24.196Z"
   },
   {
    "duration": 4,
    "start_time": "2023-11-24T16:55:24.202Z"
   },
   {
    "duration": 13,
    "start_time": "2023-11-24T16:55:24.208Z"
   },
   {
    "duration": 10,
    "start_time": "2023-11-24T16:55:24.222Z"
   },
   {
    "duration": 9,
    "start_time": "2023-11-24T16:55:24.234Z"
   },
   {
    "duration": 120,
    "start_time": "2023-11-24T16:55:24.244Z"
   },
   {
    "duration": 0,
    "start_time": "2023-11-24T16:55:24.366Z"
   },
   {
    "duration": 0,
    "start_time": "2023-11-24T16:55:24.367Z"
   },
   {
    "duration": 0,
    "start_time": "2023-11-24T16:55:24.368Z"
   },
   {
    "duration": 0,
    "start_time": "2023-11-24T16:55:24.369Z"
   },
   {
    "duration": 0,
    "start_time": "2023-11-24T16:55:24.370Z"
   },
   {
    "duration": 0,
    "start_time": "2023-11-24T16:55:24.371Z"
   },
   {
    "duration": 0,
    "start_time": "2023-11-24T16:55:24.372Z"
   },
   {
    "duration": 0,
    "start_time": "2023-11-24T16:55:24.374Z"
   },
   {
    "duration": 0,
    "start_time": "2023-11-24T16:55:24.375Z"
   },
   {
    "duration": 0,
    "start_time": "2023-11-24T16:55:24.376Z"
   },
   {
    "duration": 0,
    "start_time": "2023-11-24T16:55:24.377Z"
   },
   {
    "duration": 0,
    "start_time": "2023-11-24T16:55:24.378Z"
   },
   {
    "duration": 0,
    "start_time": "2023-11-24T16:55:24.379Z"
   },
   {
    "duration": 0,
    "start_time": "2023-11-24T16:55:24.380Z"
   },
   {
    "duration": 0,
    "start_time": "2023-11-24T16:55:24.381Z"
   },
   {
    "duration": 0,
    "start_time": "2023-11-24T16:55:24.382Z"
   },
   {
    "duration": 0,
    "start_time": "2023-11-24T16:55:24.383Z"
   },
   {
    "duration": 1421,
    "start_time": "2023-11-24T16:57:32.941Z"
   },
   {
    "duration": 40,
    "start_time": "2023-11-24T16:57:34.364Z"
   },
   {
    "duration": 15,
    "start_time": "2023-11-24T16:57:34.405Z"
   },
   {
    "duration": 4,
    "start_time": "2023-11-24T16:57:34.422Z"
   },
   {
    "duration": 12,
    "start_time": "2023-11-24T16:57:34.427Z"
   },
   {
    "duration": 12,
    "start_time": "2023-11-24T16:57:34.440Z"
   },
   {
    "duration": 9,
    "start_time": "2023-11-24T16:57:34.453Z"
   },
   {
    "duration": 12,
    "start_time": "2023-11-24T16:57:34.463Z"
   },
   {
    "duration": 25,
    "start_time": "2023-11-24T16:57:34.477Z"
   },
   {
    "duration": 5,
    "start_time": "2023-11-24T16:57:34.505Z"
   },
   {
    "duration": 143,
    "start_time": "2023-11-24T16:57:34.543Z"
   },
   {
    "duration": 8,
    "start_time": "2023-11-24T16:57:34.687Z"
   },
   {
    "duration": 12,
    "start_time": "2023-11-24T16:57:34.696Z"
   },
   {
    "duration": 5,
    "start_time": "2023-11-24T16:57:34.709Z"
   },
   {
    "duration": 27,
    "start_time": "2023-11-24T16:57:34.716Z"
   },
   {
    "duration": 4,
    "start_time": "2023-11-24T16:57:34.745Z"
   },
   {
    "duration": 4,
    "start_time": "2023-11-24T16:57:34.750Z"
   },
   {
    "duration": 4,
    "start_time": "2023-11-24T16:57:34.756Z"
   },
   {
    "duration": 7,
    "start_time": "2023-11-24T16:57:34.761Z"
   },
   {
    "duration": 5,
    "start_time": "2023-11-24T16:57:34.769Z"
   },
   {
    "duration": 3,
    "start_time": "2023-11-24T16:57:34.776Z"
   },
   {
    "duration": 5,
    "start_time": "2023-11-24T16:57:34.780Z"
   },
   {
    "duration": 7,
    "start_time": "2023-11-24T16:57:34.787Z"
   },
   {
    "duration": 56,
    "start_time": "2023-11-24T16:57:34.795Z"
   },
   {
    "duration": 103,
    "start_time": "2023-11-24T16:57:34.853Z"
   },
   {
    "duration": 98,
    "start_time": "2023-11-24T16:57:34.958Z"
   },
   {
    "duration": 84,
    "start_time": "2023-11-24T16:57:35.058Z"
   },
   {
    "duration": 157,
    "start_time": "2023-11-24T16:57:35.146Z"
   },
   {
    "duration": 107,
    "start_time": "2023-11-24T16:57:35.305Z"
   },
   {
    "duration": 45,
    "start_time": "2023-11-24T16:57:35.414Z"
   },
   {
    "duration": 252,
    "start_time": "2023-11-24T16:57:35.460Z"
   },
   {
    "duration": 106,
    "start_time": "2023-11-24T16:57:35.714Z"
   },
   {
    "duration": 4,
    "start_time": "2023-11-24T16:57:35.822Z"
   },
   {
    "duration": 17,
    "start_time": "2023-11-24T16:57:35.827Z"
   },
   {
    "duration": 11,
    "start_time": "2023-11-24T16:57:35.845Z"
   },
   {
    "duration": 10,
    "start_time": "2023-11-24T16:57:35.857Z"
   },
   {
    "duration": 10,
    "start_time": "2023-11-24T16:57:35.868Z"
   },
   {
    "duration": 10,
    "start_time": "2023-11-24T16:57:35.879Z"
   },
   {
    "duration": 11655,
    "start_time": "2023-11-24T16:57:35.890Z"
   },
   {
    "duration": 1797,
    "start_time": "2023-11-24T16:57:47.551Z"
   },
   {
    "duration": 193,
    "start_time": "2023-11-24T16:57:49.353Z"
   },
   {
    "duration": 124,
    "start_time": "2023-11-24T16:57:49.548Z"
   },
   {
    "duration": 281,
    "start_time": "2023-11-24T16:57:49.675Z"
   },
   {
    "duration": 125,
    "start_time": "2023-11-24T16:57:49.958Z"
   },
   {
    "duration": 6,
    "start_time": "2023-11-24T16:57:50.085Z"
   },
   {
    "duration": 12,
    "start_time": "2023-11-24T16:57:50.093Z"
   },
   {
    "duration": 50,
    "start_time": "2023-11-24T16:57:50.107Z"
   },
   {
    "duration": 99,
    "start_time": "2023-11-24T16:57:50.244Z"
   },
   {
    "duration": 205,
    "start_time": "2023-11-24T16:57:50.346Z"
   },
   {
    "duration": 4,
    "start_time": "2023-11-24T16:57:50.553Z"
   },
   {
    "duration": 4,
    "start_time": "2023-11-24T16:57:50.559Z"
   },
   {
    "duration": 10,
    "start_time": "2023-11-24T16:57:50.564Z"
   },
   {
    "duration": 6,
    "start_time": "2023-11-24T16:57:50.575Z"
   },
   {
    "duration": 4,
    "start_time": "2023-11-24T16:57:50.582Z"
   },
   {
    "duration": 131,
    "start_time": "2023-11-24T16:57:50.587Z"
   },
   {
    "duration": 0,
    "start_time": "2023-11-24T16:57:50.719Z"
   },
   {
    "duration": 0,
    "start_time": "2023-11-24T16:57:50.720Z"
   },
   {
    "duration": 0,
    "start_time": "2023-11-24T16:57:50.721Z"
   },
   {
    "duration": 0,
    "start_time": "2023-11-24T16:57:50.723Z"
   },
   {
    "duration": 0,
    "start_time": "2023-11-24T16:57:50.724Z"
   },
   {
    "duration": 0,
    "start_time": "2023-11-24T16:57:50.725Z"
   },
   {
    "duration": 0,
    "start_time": "2023-11-24T16:57:50.726Z"
   },
   {
    "duration": 0,
    "start_time": "2023-11-24T16:57:50.727Z"
   },
   {
    "duration": 0,
    "start_time": "2023-11-24T16:57:50.742Z"
   },
   {
    "duration": 0,
    "start_time": "2023-11-24T16:57:50.744Z"
   },
   {
    "duration": 0,
    "start_time": "2023-11-24T16:57:50.745Z"
   },
   {
    "duration": 0,
    "start_time": "2023-11-24T16:57:50.747Z"
   },
   {
    "duration": 1,
    "start_time": "2023-11-24T16:57:50.748Z"
   },
   {
    "duration": 0,
    "start_time": "2023-11-24T16:57:50.750Z"
   },
   {
    "duration": 0,
    "start_time": "2023-11-24T16:57:50.751Z"
   },
   {
    "duration": 0,
    "start_time": "2023-11-24T16:57:50.752Z"
   },
   {
    "duration": 0,
    "start_time": "2023-11-24T16:57:50.754Z"
   },
   {
    "duration": 1613,
    "start_time": "2023-11-24T16:59:17.478Z"
   },
   {
    "duration": 1693,
    "start_time": "2023-11-24T17:00:09.898Z"
   },
   {
    "duration": 1585,
    "start_time": "2023-11-24T17:00:22.781Z"
   },
   {
    "duration": 10,
    "start_time": "2023-11-24T17:00:30.432Z"
   },
   {
    "duration": 90,
    "start_time": "2023-11-24T17:00:30.444Z"
   },
   {
    "duration": 155,
    "start_time": "2023-11-24T17:00:30.536Z"
   },
   {
    "duration": 15692,
    "start_time": "2023-11-24T17:00:30.693Z"
   },
   {
    "duration": 0,
    "start_time": "2023-11-24T17:00:46.387Z"
   },
   {
    "duration": 0,
    "start_time": "2023-11-24T17:00:46.388Z"
   },
   {
    "duration": 0,
    "start_time": "2023-11-24T17:00:46.390Z"
   },
   {
    "duration": 0,
    "start_time": "2023-11-24T17:00:46.391Z"
   },
   {
    "duration": 0,
    "start_time": "2023-11-24T17:00:46.393Z"
   },
   {
    "duration": 0,
    "start_time": "2023-11-24T17:00:46.394Z"
   },
   {
    "duration": 0,
    "start_time": "2023-11-24T17:00:46.395Z"
   },
   {
    "duration": 0,
    "start_time": "2023-11-24T17:00:46.397Z"
   },
   {
    "duration": 0,
    "start_time": "2023-11-24T17:00:46.398Z"
   },
   {
    "duration": 0,
    "start_time": "2023-11-24T17:00:46.399Z"
   },
   {
    "duration": 0,
    "start_time": "2023-11-24T17:00:46.401Z"
   },
   {
    "duration": 0,
    "start_time": "2023-11-24T17:00:46.402Z"
   },
   {
    "duration": 0,
    "start_time": "2023-11-24T17:00:46.404Z"
   },
   {
    "duration": 15384,
    "start_time": "2023-11-24T17:01:34.621Z"
   },
   {
    "duration": 8,
    "start_time": "2023-11-24T17:02:09.507Z"
   },
   {
    "duration": 112,
    "start_time": "2023-11-24T17:02:10.555Z"
   },
   {
    "duration": 12,
    "start_time": "2023-11-24T17:02:13.146Z"
   },
   {
    "duration": 2,
    "start_time": "2023-11-24T17:02:14.418Z"
   },
   {
    "duration": 2,
    "start_time": "2023-11-24T17:02:16.378Z"
   },
   {
    "duration": 2,
    "start_time": "2023-11-24T17:02:17.243Z"
   },
   {
    "duration": 2,
    "start_time": "2023-11-24T17:02:20.804Z"
   },
   {
    "duration": 2,
    "start_time": "2023-11-24T17:02:21.459Z"
   },
   {
    "duration": 2,
    "start_time": "2023-11-24T17:02:22.940Z"
   },
   {
    "duration": 3,
    "start_time": "2023-11-24T17:02:23.588Z"
   },
   {
    "duration": 9,
    "start_time": "2023-11-24T17:02:24.411Z"
   },
   {
    "duration": 37,
    "start_time": "2023-11-24T17:03:00.577Z"
   },
   {
    "duration": 8,
    "start_time": "2023-11-24T17:03:03.555Z"
   },
   {
    "duration": 1603,
    "start_time": "2023-11-25T09:53:17.853Z"
   },
   {
    "duration": 159,
    "start_time": "2023-11-25T09:53:19.459Z"
   },
   {
    "duration": 17,
    "start_time": "2023-11-25T09:53:19.726Z"
   },
   {
    "duration": 4,
    "start_time": "2023-11-25T09:53:20.827Z"
   },
   {
    "duration": 12,
    "start_time": "2023-11-25T09:53:21.583Z"
   },
   {
    "duration": 11,
    "start_time": "2023-11-25T09:53:23.015Z"
   },
   {
    "duration": 10,
    "start_time": "2023-11-25T09:53:23.705Z"
   },
   {
    "duration": 10,
    "start_time": "2023-11-25T09:53:24.686Z"
   },
   {
    "duration": 21,
    "start_time": "2023-11-25T09:53:25.035Z"
   },
   {
    "duration": 7,
    "start_time": "2023-11-25T09:53:26.101Z"
   },
   {
    "duration": 139,
    "start_time": "2023-11-25T09:53:27.148Z"
   },
   {
    "duration": 7,
    "start_time": "2023-11-25T09:53:28.511Z"
   },
   {
    "duration": 10,
    "start_time": "2023-11-25T09:53:28.881Z"
   },
   {
    "duration": 6,
    "start_time": "2023-11-25T09:53:29.061Z"
   },
   {
    "duration": 3,
    "start_time": "2023-11-25T09:53:29.809Z"
   },
   {
    "duration": 3,
    "start_time": "2023-11-25T09:53:30.107Z"
   },
   {
    "duration": 5,
    "start_time": "2023-11-25T09:53:31.205Z"
   },
   {
    "duration": 4,
    "start_time": "2023-11-25T09:53:31.475Z"
   },
   {
    "duration": 7,
    "start_time": "2023-11-25T09:53:31.733Z"
   },
   {
    "duration": 6,
    "start_time": "2023-11-25T09:53:31.997Z"
   },
   {
    "duration": 3,
    "start_time": "2023-11-25T09:53:33.111Z"
   },
   {
    "duration": 3,
    "start_time": "2023-11-25T09:53:33.363Z"
   },
   {
    "duration": 3,
    "start_time": "2023-11-25T09:53:33.560Z"
   },
   {
    "duration": 23,
    "start_time": "2023-11-25T09:53:33.962Z"
   },
   {
    "duration": 100,
    "start_time": "2023-11-25T09:53:37.243Z"
   },
   {
    "duration": 90,
    "start_time": "2023-11-25T09:53:38.267Z"
   },
   {
    "duration": 145,
    "start_time": "2023-11-25T09:53:38.805Z"
   },
   {
    "duration": 100,
    "start_time": "2023-11-25T09:53:39.351Z"
   },
   {
    "duration": 95,
    "start_time": "2023-11-25T09:53:39.615Z"
   },
   {
    "duration": 37,
    "start_time": "2023-11-25T09:53:41.063Z"
   },
   {
    "duration": 252,
    "start_time": "2023-11-25T09:53:41.487Z"
   },
   {
    "duration": 92,
    "start_time": "2023-11-25T09:53:42.286Z"
   },
   {
    "duration": 6,
    "start_time": "2023-11-25T09:53:42.707Z"
   },
   {
    "duration": 5,
    "start_time": "2023-11-25T09:53:44.265Z"
   },
   {
    "duration": 5,
    "start_time": "2023-11-25T09:53:44.663Z"
   },
   {
    "duration": 5,
    "start_time": "2023-11-25T09:53:44.986Z"
   },
   {
    "duration": 11,
    "start_time": "2023-11-25T09:53:46.039Z"
   },
   {
    "duration": 9,
    "start_time": "2023-11-25T09:53:46.367Z"
   },
   {
    "duration": 20954,
    "start_time": "2023-11-25T09:53:48.334Z"
   },
   {
    "duration": 3397,
    "start_time": "2023-11-25T09:54:09.291Z"
   },
   {
    "duration": 2406,
    "start_time": "2023-11-25T09:57:02.071Z"
   },
   {
    "duration": 20,
    "start_time": "2023-11-25T09:57:06.873Z"
   },
   {
    "duration": 12,
    "start_time": "2023-11-25T09:57:08.416Z"
   },
   {
    "duration": 98,
    "start_time": "2023-11-25T09:57:08.997Z"
   },
   {
    "duration": 117,
    "start_time": "2023-11-25T09:57:09.788Z"
   },
   {
    "duration": 8,
    "start_time": "2023-11-25T09:57:10.202Z"
   },
   {
    "duration": 4,
    "start_time": "2023-11-25T09:57:11.312Z"
   },
   {
    "duration": 186,
    "start_time": "2023-11-25T09:57:12.489Z"
   },
   {
    "duration": 23,
    "start_time": "2023-11-25T09:57:17.086Z"
   },
   {
    "duration": 119,
    "start_time": "2023-11-25T09:57:17.333Z"
   },
   {
    "duration": 9,
    "start_time": "2023-11-25T09:57:17.881Z"
   },
   {
    "duration": 2,
    "start_time": "2023-11-25T09:57:19.439Z"
   },
   {
    "duration": 2,
    "start_time": "2023-11-25T09:57:19.821Z"
   },
   {
    "duration": 4,
    "start_time": "2023-11-25T09:57:20.301Z"
   },
   {
    "duration": 3,
    "start_time": "2023-11-25T09:57:20.734Z"
   },
   {
    "duration": 156,
    "start_time": "2023-11-25T09:57:24.706Z"
   },
   {
    "duration": 20,
    "start_time": "2023-11-25T09:57:45.443Z"
   },
   {
    "duration": 20,
    "start_time": "2023-11-25T09:57:51.798Z"
   },
   {
    "duration": 41073,
    "start_time": "2023-11-25T09:58:07.346Z"
   },
   {
    "duration": 40194,
    "start_time": "2023-11-25T09:59:03.452Z"
   },
   {
    "duration": 7,
    "start_time": "2023-11-25T10:00:04.586Z"
   },
   {
    "duration": 40001,
    "start_time": "2023-11-25T10:00:18.624Z"
   },
   {
    "duration": 39692,
    "start_time": "2023-11-25T10:01:33.304Z"
   },
   {
    "duration": 97,
    "start_time": "2023-11-25T10:02:29.215Z"
   },
   {
    "duration": 50024,
    "start_time": "2023-11-25T10:02:47.355Z"
   },
   {
    "duration": 11,
    "start_time": "2023-11-25T10:03:59.821Z"
   },
   {
    "duration": 7,
    "start_time": "2023-11-25T10:04:56.368Z"
   },
   {
    "duration": 122,
    "start_time": "2023-11-25T10:04:57.444Z"
   },
   {
    "duration": 13,
    "start_time": "2023-11-25T10:05:03.453Z"
   },
   {
    "duration": 19996,
    "start_time": "2023-11-25T10:06:35.271Z"
   },
   {
    "duration": 20411,
    "start_time": "2023-11-25T10:07:19.897Z"
   },
   {
    "duration": 8,
    "start_time": "2023-11-25T10:07:55.788Z"
   },
   {
    "duration": 111,
    "start_time": "2023-11-25T10:07:56.494Z"
   },
   {
    "duration": 108,
    "start_time": "2023-11-25T10:10:35.028Z"
   },
   {
    "duration": 20,
    "start_time": "2023-11-25T10:10:40.305Z"
   },
   {
    "duration": 481,
    "start_time": "2023-11-25T10:10:54.126Z"
   },
   {
    "duration": 27722,
    "start_time": "2023-11-25T10:11:02.580Z"
   },
   {
    "duration": 695607,
    "start_time": "2023-11-25T10:11:31.742Z"
   },
   {
    "duration": 45499,
    "start_time": "2023-11-25T10:23:38.792Z"
   },
   {
    "duration": 20714,
    "start_time": "2023-11-25T10:25:00.057Z"
   },
   {
    "duration": 8777,
    "start_time": "2023-11-25T10:25:32.767Z"
   },
   {
    "duration": 30201,
    "start_time": "2023-11-25T10:25:44.244Z"
   },
   {
    "duration": 39904,
    "start_time": "2023-11-25T10:26:48.148Z"
   },
   {
    "duration": 107602,
    "start_time": "2023-11-25T10:27:33.948Z"
   },
   {
    "duration": 84970,
    "start_time": "2023-11-25T10:29:29.866Z"
   },
   {
    "duration": 17944,
    "start_time": "2023-11-25T10:31:13.462Z"
   },
   {
    "duration": 43266,
    "start_time": "2023-11-25T10:31:44.837Z"
   },
   {
    "duration": 6634,
    "start_time": "2023-11-25T10:32:34.143Z"
   },
   {
    "duration": 14061,
    "start_time": "2023-11-25T10:32:43.042Z"
   },
   {
    "duration": 211245,
    "start_time": "2023-11-25T10:32:58.411Z"
   },
   {
    "duration": 13869,
    "start_time": "2023-11-25T10:36:55.786Z"
   },
   {
    "duration": 168331,
    "start_time": "2023-11-25T10:37:10.310Z"
   },
   {
    "duration": 47696,
    "start_time": "2023-11-25T10:40:46.798Z"
   },
   {
    "duration": 52141,
    "start_time": "2023-11-25T10:41:43.815Z"
   },
   {
    "duration": 83544,
    "start_time": "2023-11-25T10:42:44.508Z"
   },
   {
    "duration": 12032,
    "start_time": "2023-11-25T10:44:08.765Z"
   },
   {
    "duration": 44859,
    "start_time": "2023-11-25T10:44:26.961Z"
   },
   {
    "duration": 75535,
    "start_time": "2023-11-25T10:45:16.552Z"
   },
   {
    "duration": 21687,
    "start_time": "2023-11-25T10:46:36.058Z"
   },
   {
    "duration": 39562,
    "start_time": "2023-11-25T10:46:58.273Z"
   },
   {
    "duration": 69762,
    "start_time": "2023-11-25T10:48:25.355Z"
   },
   {
    "duration": 93247,
    "start_time": "2023-11-25T10:49:37.342Z"
   },
   {
    "duration": 199683,
    "start_time": "2023-11-25T10:51:46.503Z"
   },
   {
    "duration": 271764,
    "start_time": "2023-11-25T10:55:33.871Z"
   },
   {
    "duration": 5152,
    "start_time": "2023-11-25T11:00:14.728Z"
   },
   {
    "duration": 14332,
    "start_time": "2023-11-25T11:00:22.726Z"
   },
   {
    "duration": 180051,
    "start_time": "2023-11-25T11:00:42.560Z"
   },
   {
    "duration": 31120,
    "start_time": "2023-11-25T11:04:59.946Z"
   },
   {
    "duration": 22021,
    "start_time": "2023-11-25T11:07:23.473Z"
   },
   {
    "duration": 20221,
    "start_time": "2023-11-25T11:08:16.587Z"
   },
   {
    "duration": 25596,
    "start_time": "2023-11-25T11:09:30.118Z"
   },
   {
    "duration": 33589,
    "start_time": "2023-11-25T11:10:23.107Z"
   },
   {
    "duration": 338637,
    "start_time": "2023-11-25T11:12:18.957Z"
   },
   {
    "duration": 217977,
    "start_time": "2023-11-25T11:18:11.169Z"
   },
   {
    "duration": 7,
    "start_time": "2023-11-25T11:21:54.850Z"
   },
   {
    "duration": 121,
    "start_time": "2023-11-25T11:21:56.023Z"
   },
   {
    "duration": 10,
    "start_time": "2023-11-25T11:22:00.200Z"
   },
   {
    "duration": 11637,
    "start_time": "2023-11-25T11:22:16.705Z"
   },
   {
    "duration": 11288,
    "start_time": "2023-11-25T11:22:38.975Z"
   },
   {
    "duration": 11369,
    "start_time": "2023-11-25T11:23:15.019Z"
   },
   {
    "duration": 10731,
    "start_time": "2023-11-25T11:23:28.609Z"
   },
   {
    "duration": 10,
    "start_time": "2023-11-25T11:26:15.618Z"
   },
   {
    "duration": 44,
    "start_time": "2023-11-25T11:26:21.579Z"
   },
   {
    "duration": 32,
    "start_time": "2023-11-25T11:26:46.328Z"
   },
   {
    "duration": 98,
    "start_time": "2023-11-25T11:31:19.683Z"
   },
   {
    "duration": 97,
    "start_time": "2023-11-25T11:31:38.594Z"
   },
   {
    "duration": 790,
    "start_time": "2023-11-25T11:31:41.487Z"
   },
   {
    "duration": 212714,
    "start_time": "2023-11-25T11:37:02.908Z"
   },
   {
    "duration": 39,
    "start_time": "2023-11-25T11:52:20.291Z"
   },
   {
    "duration": 97307,
    "start_time": "2023-11-25T11:52:51.739Z"
   },
   {
    "duration": 92254,
    "start_time": "2023-11-25T11:55:52.230Z"
   },
   {
    "duration": 117458,
    "start_time": "2023-11-25T11:57:26.159Z"
   },
   {
    "duration": 67,
    "start_time": "2023-11-25T12:00:44.507Z"
   },
   {
    "duration": 112094,
    "start_time": "2023-11-25T12:02:05.795Z"
   },
   {
    "duration": 8449,
    "start_time": "2023-11-25T12:03:59.457Z"
   },
   {
    "duration": 53676,
    "start_time": "2023-11-25T12:04:27.207Z"
   },
   {
    "duration": 53712,
    "start_time": "2023-11-25T12:06:52.544Z"
   },
   {
    "duration": 86,
    "start_time": "2023-11-25T12:08:41.233Z"
   },
   {
    "duration": 18,
    "start_time": "2023-11-25T12:08:46.596Z"
   },
   {
    "duration": 22,
    "start_time": "2023-11-25T12:08:54.152Z"
   },
   {
    "duration": 5338,
    "start_time": "2023-11-25T12:09:07.176Z"
   },
   {
    "duration": 214375,
    "start_time": "2023-11-25T12:09:29.768Z"
   },
   {
    "duration": 205091,
    "start_time": "2023-11-25T12:13:05.450Z"
   },
   {
    "duration": 7,
    "start_time": "2023-11-25T12:17:11.813Z"
   },
   {
    "duration": 115,
    "start_time": "2023-11-25T12:17:14.917Z"
   },
   {
    "duration": 12,
    "start_time": "2023-11-25T12:17:17.537Z"
   },
   {
    "duration": 20,
    "start_time": "2023-11-25T12:18:38.718Z"
   },
   {
    "duration": 16164,
    "start_time": "2023-11-25T12:18:44.361Z"
   },
   {
    "duration": 16143,
    "start_time": "2023-11-25T12:20:48.430Z"
   },
   {
    "duration": 40,
    "start_time": "2023-11-25T12:21:14.080Z"
   },
   {
    "duration": 23,
    "start_time": "2023-11-25T12:21:29.137Z"
   },
   {
    "duration": 1449,
    "start_time": "2023-11-25T12:22:19.142Z"
   },
   {
    "duration": 41,
    "start_time": "2023-11-25T12:22:22.032Z"
   },
   {
    "duration": 16,
    "start_time": "2023-11-25T12:22:23.120Z"
   },
   {
    "duration": 4,
    "start_time": "2023-11-25T12:22:24.455Z"
   },
   {
    "duration": 12,
    "start_time": "2023-11-25T12:22:25.254Z"
   },
   {
    "duration": 13,
    "start_time": "2023-11-25T12:22:26.761Z"
   },
   {
    "duration": 11,
    "start_time": "2023-11-25T12:22:27.529Z"
   },
   {
    "duration": 11,
    "start_time": "2023-11-25T12:22:28.688Z"
   },
   {
    "duration": 23,
    "start_time": "2023-11-25T12:22:29.305Z"
   },
   {
    "duration": 6,
    "start_time": "2023-11-25T12:22:30.513Z"
   },
   {
    "duration": 137,
    "start_time": "2023-11-25T12:22:31.322Z"
   },
   {
    "duration": 7,
    "start_time": "2023-11-25T12:22:33.054Z"
   },
   {
    "duration": 11,
    "start_time": "2023-11-25T12:22:33.858Z"
   },
   {
    "duration": 6,
    "start_time": "2023-11-25T12:22:34.324Z"
   },
   {
    "duration": 3,
    "start_time": "2023-11-25T12:22:35.779Z"
   },
   {
    "duration": 3,
    "start_time": "2023-11-25T12:22:36.194Z"
   },
   {
    "duration": 4,
    "start_time": "2023-11-25T12:22:37.780Z"
   },
   {
    "duration": 4,
    "start_time": "2023-11-25T12:22:38.160Z"
   },
   {
    "duration": 6,
    "start_time": "2023-11-25T12:22:38.570Z"
   },
   {
    "duration": 5,
    "start_time": "2023-11-25T12:22:39.004Z"
   },
   {
    "duration": 3,
    "start_time": "2023-11-25T12:22:41.318Z"
   },
   {
    "duration": 3,
    "start_time": "2023-11-25T12:22:41.669Z"
   },
   {
    "duration": 3,
    "start_time": "2023-11-25T12:22:41.924Z"
   },
   {
    "duration": 22,
    "start_time": "2023-11-25T12:22:42.542Z"
   },
   {
    "duration": 100,
    "start_time": "2023-11-25T12:22:45.218Z"
   },
   {
    "duration": 87,
    "start_time": "2023-11-25T12:22:46.271Z"
   },
   {
    "duration": 83,
    "start_time": "2023-11-25T12:22:46.855Z"
   },
   {
    "duration": 152,
    "start_time": "2023-11-25T12:22:47.407Z"
   },
   {
    "duration": 98,
    "start_time": "2023-11-25T12:22:47.684Z"
   },
   {
    "duration": 38,
    "start_time": "2023-11-25T12:22:48.702Z"
   },
   {
    "duration": 245,
    "start_time": "2023-11-25T12:22:48.994Z"
   },
   {
    "duration": 89,
    "start_time": "2023-11-25T12:22:49.312Z"
   },
   {
    "duration": 5,
    "start_time": "2023-11-25T12:22:49.590Z"
   },
   {
    "duration": 4,
    "start_time": "2023-11-25T12:22:49.954Z"
   },
   {
    "duration": 5,
    "start_time": "2023-11-25T12:22:50.269Z"
   },
   {
    "duration": 5,
    "start_time": "2023-11-25T12:22:50.572Z"
   },
   {
    "duration": 11,
    "start_time": "2023-11-25T12:22:51.463Z"
   },
   {
    "duration": 9,
    "start_time": "2023-11-25T12:22:51.745Z"
   },
   {
    "duration": 783,
    "start_time": "2023-11-25T12:22:54.695Z"
   },
   {
    "duration": 1674,
    "start_time": "2023-11-25T12:22:55.605Z"
   },
   {
    "duration": 195,
    "start_time": "2023-11-25T12:22:57.281Z"
   },
   {
    "duration": 11,
    "start_time": "2023-11-25T12:22:58.558Z"
   },
   {
    "duration": 191,
    "start_time": "2023-11-25T12:22:59.696Z"
   },
   {
    "duration": 112,
    "start_time": "2023-11-25T12:23:02.144Z"
   },
   {
    "duration": 8,
    "start_time": "2023-11-25T12:23:02.722Z"
   },
   {
    "duration": 3,
    "start_time": "2023-11-25T12:23:04.471Z"
   },
   {
    "duration": 66,
    "start_time": "2023-11-25T12:23:06.215Z"
   },
   {
    "duration": 8,
    "start_time": "2023-11-25T12:23:09.282Z"
   },
   {
    "duration": 117,
    "start_time": "2023-11-25T12:23:09.697Z"
   },
   {
    "duration": 4,
    "start_time": "2023-11-25T12:23:11.517Z"
   },
   {
    "duration": 3,
    "start_time": "2023-11-25T12:23:13.334Z"
   },
   {
    "duration": 3,
    "start_time": "2023-11-25T12:23:14.168Z"
   },
   {
    "duration": 3,
    "start_time": "2023-11-25T12:23:15.463Z"
   },
   {
    "duration": 2,
    "start_time": "2023-11-25T12:23:16.350Z"
   },
   {
    "duration": 6433,
    "start_time": "2023-11-25T12:23:18.136Z"
   },
   {
    "duration": 21176,
    "start_time": "2023-11-25T12:23:48.200Z"
   },
   {
    "duration": 21276,
    "start_time": "2023-11-25T12:24:22.077Z"
   },
   {
    "duration": 7,
    "start_time": "2023-11-25T12:24:48.556Z"
   },
   {
    "duration": 7,
    "start_time": "2023-11-25T12:24:50.323Z"
   },
   {
    "duration": 112,
    "start_time": "2023-11-25T12:24:51.680Z"
   },
   {
    "duration": 16395,
    "start_time": "2023-11-25T12:25:31.005Z"
   },
   {
    "duration": 7,
    "start_time": "2023-11-25T12:26:06.602Z"
   },
   {
    "duration": 111,
    "start_time": "2023-11-25T12:26:07.398Z"
   },
   {
    "duration": 12,
    "start_time": "2023-11-25T12:26:09.979Z"
   },
   {
    "duration": 27,
    "start_time": "2023-11-25T12:26:12.859Z"
   },
   {
    "duration": 11139,
    "start_time": "2023-11-25T12:26:20.740Z"
   },
   {
    "duration": 12338,
    "start_time": "2023-11-25T12:26:37.184Z"
   },
   {
    "duration": 43,
    "start_time": "2023-11-25T12:26:53.831Z"
   },
   {
    "duration": 7,
    "start_time": "2023-11-25T12:26:54.609Z"
   },
   {
    "duration": 110,
    "start_time": "2023-11-25T12:26:55.340Z"
   },
   {
    "duration": 119,
    "start_time": "2023-11-25T12:26:57.556Z"
   },
   {
    "duration": 2,
    "start_time": "2023-11-25T12:28:32.916Z"
   },
   {
    "duration": 26,
    "start_time": "2023-11-25T12:28:42.403Z"
   },
   {
    "duration": 7,
    "start_time": "2023-11-25T12:28:44.322Z"
   },
   {
    "duration": 108,
    "start_time": "2023-11-25T12:30:20.672Z"
   },
   {
    "duration": 50,
    "start_time": "2023-11-25T12:31:33.230Z"
   },
   {
    "duration": 1366,
    "start_time": "2023-11-25T12:34:00.435Z"
   },
   {
    "duration": 43,
    "start_time": "2023-11-25T12:34:01.802Z"
   },
   {
    "duration": 28,
    "start_time": "2023-11-25T12:34:01.847Z"
   },
   {
    "duration": 103,
    "start_time": "2023-11-25T12:34:01.877Z"
   },
   {
    "duration": 52,
    "start_time": "2023-11-25T12:34:01.982Z"
   },
   {
    "duration": 33,
    "start_time": "2023-11-25T12:34:02.036Z"
   },
   {
    "duration": 55,
    "start_time": "2023-11-25T12:34:02.071Z"
   },
   {
    "duration": 46,
    "start_time": "2023-11-25T12:34:02.127Z"
   },
   {
    "duration": 54,
    "start_time": "2023-11-25T12:34:02.174Z"
   },
   {
    "duration": 61,
    "start_time": "2023-11-25T12:34:02.230Z"
   },
   {
    "duration": 186,
    "start_time": "2023-11-25T12:34:02.293Z"
   },
   {
    "duration": 8,
    "start_time": "2023-11-25T12:34:02.481Z"
   },
   {
    "duration": 38,
    "start_time": "2023-11-25T12:34:02.491Z"
   },
   {
    "duration": 32,
    "start_time": "2023-11-25T12:34:02.533Z"
   },
   {
    "duration": 65,
    "start_time": "2023-11-25T12:34:02.567Z"
   },
   {
    "duration": 31,
    "start_time": "2023-11-25T12:34:02.634Z"
   },
   {
    "duration": 141,
    "start_time": "2023-11-25T12:34:02.666Z"
   },
   {
    "duration": 57,
    "start_time": "2023-11-25T12:34:02.808Z"
   },
   {
    "duration": 49,
    "start_time": "2023-11-25T12:34:02.867Z"
   },
   {
    "duration": 12,
    "start_time": "2023-11-25T12:34:02.918Z"
   },
   {
    "duration": 24,
    "start_time": "2023-11-25T12:34:02.931Z"
   },
   {
    "duration": 17,
    "start_time": "2023-11-25T12:34:02.957Z"
   },
   {
    "duration": 40,
    "start_time": "2023-11-25T12:34:02.975Z"
   },
   {
    "duration": 45,
    "start_time": "2023-11-25T12:34:03.016Z"
   },
   {
    "duration": 100,
    "start_time": "2023-11-25T12:34:03.063Z"
   },
   {
    "duration": 97,
    "start_time": "2023-11-25T12:34:03.164Z"
   },
   {
    "duration": 89,
    "start_time": "2023-11-25T12:34:03.262Z"
   },
   {
    "duration": 194,
    "start_time": "2023-11-25T12:34:03.353Z"
   },
   {
    "duration": 111,
    "start_time": "2023-11-25T12:34:03.549Z"
   },
   {
    "duration": 43,
    "start_time": "2023-11-25T12:34:03.662Z"
   },
   {
    "duration": 236,
    "start_time": "2023-11-25T12:34:03.707Z"
   },
   {
    "duration": 105,
    "start_time": "2023-11-25T12:34:03.945Z"
   },
   {
    "duration": 4,
    "start_time": "2023-11-25T12:34:04.052Z"
   },
   {
    "duration": 22,
    "start_time": "2023-11-25T12:34:04.057Z"
   },
   {
    "duration": 11,
    "start_time": "2023-11-25T12:34:04.080Z"
   },
   {
    "duration": 21,
    "start_time": "2023-11-25T12:34:04.092Z"
   },
   {
    "duration": 16,
    "start_time": "2023-11-25T12:34:04.115Z"
   },
   {
    "duration": 9,
    "start_time": "2023-11-25T12:34:04.133Z"
   },
   {
    "duration": 732,
    "start_time": "2023-11-25T12:34:04.143Z"
   },
   {
    "duration": 1797,
    "start_time": "2023-11-25T12:34:04.877Z"
   },
   {
    "duration": 193,
    "start_time": "2023-11-25T12:34:06.680Z"
   },
   {
    "duration": 11,
    "start_time": "2023-11-25T12:34:06.876Z"
   },
   {
    "duration": 305,
    "start_time": "2023-11-25T12:34:06.980Z"
   },
   {
    "duration": 125,
    "start_time": "2023-11-25T12:34:07.286Z"
   },
   {
    "duration": 6,
    "start_time": "2023-11-25T12:34:07.413Z"
   },
   {
    "duration": 4,
    "start_time": "2023-11-25T12:34:07.421Z"
   },
   {
    "duration": 248,
    "start_time": "2023-11-25T12:34:07.426Z"
   },
   {
    "duration": 98,
    "start_time": "2023-11-25T12:34:07.676Z"
   },
   {
    "duration": 206,
    "start_time": "2023-11-25T12:34:07.776Z"
   },
   {
    "duration": 4,
    "start_time": "2023-11-25T12:34:07.983Z"
   },
   {
    "duration": 15,
    "start_time": "2023-11-25T12:34:07.989Z"
   },
   {
    "duration": 20,
    "start_time": "2023-11-25T12:34:08.005Z"
   },
   {
    "duration": 23,
    "start_time": "2023-11-25T12:34:08.026Z"
   },
   {
    "duration": 4,
    "start_time": "2023-11-25T12:34:08.050Z"
   },
   {
    "duration": 21724,
    "start_time": "2023-11-25T12:34:08.055Z"
   },
   {
    "duration": 6,
    "start_time": "2023-11-25T12:34:29.781Z"
   },
   {
    "duration": 6,
    "start_time": "2023-11-25T12:34:29.789Z"
   },
   {
    "duration": 125,
    "start_time": "2023-11-25T12:34:29.797Z"
   },
   {
    "duration": 16254,
    "start_time": "2023-11-25T12:34:29.924Z"
   },
   {
    "duration": 7,
    "start_time": "2023-11-25T12:34:46.180Z"
   },
   {
    "duration": 133,
    "start_time": "2023-11-25T12:34:46.189Z"
   },
   {
    "duration": 12,
    "start_time": "2023-11-25T12:34:46.324Z"
   },
   {
    "duration": 12209,
    "start_time": "2023-11-25T12:34:46.337Z"
   },
   {
    "duration": 37,
    "start_time": "2023-11-25T12:34:58.547Z"
   },
   {
    "duration": 99,
    "start_time": "2023-11-25T12:34:58.674Z"
   },
   {
    "duration": 118,
    "start_time": "2023-11-25T12:34:58.775Z"
   },
   {
    "duration": 24,
    "start_time": "2023-11-25T12:34:58.894Z"
   },
   {
    "duration": 1613,
    "start_time": "2023-11-25T13:24:34.968Z"
   },
   {
    "duration": 83,
    "start_time": "2023-11-25T13:24:36.583Z"
   },
   {
    "duration": 17,
    "start_time": "2023-11-25T13:24:36.667Z"
   },
   {
    "duration": 4,
    "start_time": "2023-11-25T13:24:36.686Z"
   },
   {
    "duration": 12,
    "start_time": "2023-11-25T13:24:36.691Z"
   },
   {
    "duration": 12,
    "start_time": "2023-11-25T13:24:36.705Z"
   },
   {
    "duration": 10,
    "start_time": "2023-11-25T13:24:36.718Z"
   },
   {
    "duration": 40,
    "start_time": "2023-11-25T13:24:36.730Z"
   },
   {
    "duration": 23,
    "start_time": "2023-11-25T13:24:36.772Z"
   },
   {
    "duration": 5,
    "start_time": "2023-11-25T13:24:36.798Z"
   },
   {
    "duration": 171,
    "start_time": "2023-11-25T13:24:36.804Z"
   },
   {
    "duration": 7,
    "start_time": "2023-11-25T13:24:36.977Z"
   },
   {
    "duration": 11,
    "start_time": "2023-11-25T13:24:36.985Z"
   },
   {
    "duration": 5,
    "start_time": "2023-11-25T13:24:36.997Z"
   },
   {
    "duration": 3,
    "start_time": "2023-11-25T13:24:37.003Z"
   },
   {
    "duration": 2,
    "start_time": "2023-11-25T13:24:37.008Z"
   },
   {
    "duration": 4,
    "start_time": "2023-11-25T13:24:37.012Z"
   },
   {
    "duration": 5,
    "start_time": "2023-11-25T13:24:37.017Z"
   },
   {
    "duration": 7,
    "start_time": "2023-11-25T13:24:37.065Z"
   },
   {
    "duration": 6,
    "start_time": "2023-11-25T13:24:37.074Z"
   },
   {
    "duration": 4,
    "start_time": "2023-11-25T13:24:37.081Z"
   },
   {
    "duration": 3,
    "start_time": "2023-11-25T13:24:37.087Z"
   },
   {
    "duration": 6,
    "start_time": "2023-11-25T13:24:37.092Z"
   },
   {
    "duration": 22,
    "start_time": "2023-11-25T13:24:37.100Z"
   },
   {
    "duration": 133,
    "start_time": "2023-11-25T13:24:37.123Z"
   },
   {
    "duration": 106,
    "start_time": "2023-11-25T13:24:37.264Z"
   },
   {
    "duration": 168,
    "start_time": "2023-11-25T13:24:37.371Z"
   },
   {
    "duration": 97,
    "start_time": "2023-11-25T13:24:37.543Z"
   },
   {
    "duration": 113,
    "start_time": "2023-11-25T13:24:37.641Z"
   },
   {
    "duration": 42,
    "start_time": "2023-11-25T13:24:37.756Z"
   },
   {
    "duration": 243,
    "start_time": "2023-11-25T13:24:37.799Z"
   },
   {
    "duration": 124,
    "start_time": "2023-11-25T13:24:38.044Z"
   },
   {
    "duration": 5,
    "start_time": "2023-11-25T13:24:38.170Z"
   },
   {
    "duration": 5,
    "start_time": "2023-11-25T13:24:38.176Z"
   },
   {
    "duration": 14,
    "start_time": "2023-11-25T13:24:38.182Z"
   },
   {
    "duration": 5,
    "start_time": "2023-11-25T13:24:38.198Z"
   },
   {
    "duration": 19,
    "start_time": "2023-11-25T13:24:38.204Z"
   },
   {
    "duration": 9,
    "start_time": "2023-11-25T13:24:38.224Z"
   },
   {
    "duration": 1232,
    "start_time": "2023-11-25T13:24:38.234Z"
   },
   {
    "duration": 1704,
    "start_time": "2023-11-25T13:24:39.468Z"
   },
   {
    "duration": 102,
    "start_time": "2023-11-25T13:24:41.174Z"
   },
   {
    "duration": 102,
    "start_time": "2023-11-25T13:24:41.368Z"
   },
   {
    "duration": 305,
    "start_time": "2023-11-25T13:24:41.472Z"
   },
   {
    "duration": 140,
    "start_time": "2023-11-25T13:24:41.779Z"
   },
   {
    "duration": 8,
    "start_time": "2023-11-25T13:24:41.920Z"
   },
   {
    "duration": 4,
    "start_time": "2023-11-25T13:24:41.930Z"
   },
   {
    "duration": 139,
    "start_time": "2023-11-25T13:24:41.936Z"
   },
   {
    "duration": 98,
    "start_time": "2023-11-25T13:24:42.076Z"
   },
   {
    "duration": 218,
    "start_time": "2023-11-25T13:24:42.266Z"
   },
   {
    "duration": 5,
    "start_time": "2023-11-25T13:24:42.486Z"
   },
   {
    "duration": 16,
    "start_time": "2023-11-25T13:24:42.493Z"
   },
   {
    "duration": 4,
    "start_time": "2023-11-25T13:24:42.511Z"
   },
   {
    "duration": 20,
    "start_time": "2023-11-25T13:24:42.516Z"
   },
   {
    "duration": 4,
    "start_time": "2023-11-25T13:24:42.537Z"
   },
   {
    "duration": 21273,
    "start_time": "2023-11-25T13:24:42.542Z"
   },
   {
    "duration": 8,
    "start_time": "2023-11-25T13:25:03.816Z"
   },
   {
    "duration": 7,
    "start_time": "2023-11-25T13:25:03.826Z"
   },
   {
    "duration": 133,
    "start_time": "2023-11-25T13:25:03.835Z"
   },
   {
    "duration": 16235,
    "start_time": "2023-11-25T13:25:03.969Z"
   },
   {
    "duration": 7,
    "start_time": "2023-11-25T13:25:20.206Z"
   },
   {
    "duration": 117,
    "start_time": "2023-11-25T13:25:20.214Z"
   },
   {
    "duration": 11,
    "start_time": "2023-11-25T13:25:20.332Z"
   },
   {
    "duration": 12123,
    "start_time": "2023-11-25T13:25:20.345Z"
   },
   {
    "duration": 97,
    "start_time": "2023-11-25T13:25:32.469Z"
   },
   {
    "duration": 98,
    "start_time": "2023-11-25T13:25:32.568Z"
   },
   {
    "duration": 125,
    "start_time": "2023-11-25T13:25:32.667Z"
   },
   {
    "duration": 25,
    "start_time": "2023-11-25T13:25:32.794Z"
   }
  ],
  "kernelspec": {
   "display_name": "Python 3 (ipykernel)",
   "language": "python",
   "name": "python3"
  },
  "language_info": {
   "codemirror_mode": {
    "name": "ipython",
    "version": 3
   },
   "file_extension": ".py",
   "mimetype": "text/x-python",
   "name": "python",
   "nbconvert_exporter": "python",
   "pygments_lexer": "ipython3",
   "version": "3.9.7"
  },
  "toc": {
   "base_numbering": 1,
   "nav_menu": {},
   "number_sections": true,
   "sideBar": true,
   "skip_h1_title": true,
   "title_cell": "Содержание",
   "title_sidebar": "Contents",
   "toc_cell": true,
   "toc_position": {
    "height": "calc(100% - 180px)",
    "left": "10px",
    "top": "150px",
    "width": "339.886px"
   },
   "toc_section_display": true,
   "toc_window_display": true
  }
 },
 "nbformat": 4,
 "nbformat_minor": 2
}
